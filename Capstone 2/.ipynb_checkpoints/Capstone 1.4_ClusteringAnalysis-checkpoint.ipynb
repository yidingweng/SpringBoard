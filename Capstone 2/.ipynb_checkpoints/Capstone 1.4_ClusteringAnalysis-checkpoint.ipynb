{
 "cells": [
  {
   "cell_type": "markdown",
   "metadata": {},
   "source": [
    "# Clustering Analysis"
   ]
  },
  {
   "cell_type": "markdown",
   "metadata": {},
   "source": [
    "As we approach to the last step of exploring this basketball player dataset, I am going to use unsupervised learning methods to cluster the players into categories that can better summarizes the unique characters of its members. "
   ]
  },
  {
   "cell_type": "markdown",
   "metadata": {},
   "source": [
    "Lets first start by loading the python libraries."
   ]
  },
  {
   "cell_type": "code",
   "execution_count": 636,
   "metadata": {},
   "outputs": [],
   "source": [
    "import numpy as np\n",
    "import pandas as pd\n",
    "import matplotlib.pyplot as plt\n",
    "from scipy import cluster as skc\n",
    "import sklearn as skl\n",
    "import sklearn.preprocessing\n",
    "%matplotlib inline\n",
    "import csv"
   ]
  },
  {
   "cell_type": "markdown",
   "metadata": {},
   "source": [
    "### Create numerical version of the dataset\n",
    "I will continue to use the cleansed version of player season data, and I will create an all numerical version of it by removing string columns for following reasons.\n",
    "\n",
    "1. String columns include player names, player team, player positions, among these player name does not effect the performance of player. Player team can affect player performance due to the game style for each team, but consider the fact that the game style is very much determined by the coach, which is highly inconsistent throughout the time, therefore the player team column will also not be considered. The other non-numerical attribute is player position, which is the traditional way of categorizing player characteristics, but since our purpose is to redefine a way to categorize players, so we do not have to include this column.\n",
    "2. For computational purpose, only numerical data can be the function input."
   ]
  },
  {
   "cell_type": "code",
   "execution_count": 638,
   "metadata": {},
   "outputs": [
    {
     "ename": "IOError",
     "evalue": "[Errno 2] No such file or directory: 'data/Seasons_Stats_cleansed.csv'",
     "output_type": "error",
     "traceback": [
      "\u001b[0;31m---------------------------------------------------------------------------\u001b[0m",
      "\u001b[0;31mIOError\u001b[0m                                   Traceback (most recent call last)",
      "\u001b[0;32m<ipython-input-638-f710b48cc318>\u001b[0m in \u001b[0;36m<module>\u001b[0;34m()\u001b[0m\n\u001b[0;32m----> 1\u001b[0;31m \u001b[0;32mwith\u001b[0m \u001b[0mopen\u001b[0m\u001b[0;34m(\u001b[0m\u001b[0;34m'data/Seasons_Stats_cleansed.csv'\u001b[0m\u001b[0;34m)\u001b[0m \u001b[0;32mas\u001b[0m \u001b[0mcsvfile\u001b[0m\u001b[0;34m:\u001b[0m\u001b[0;34m\u001b[0m\u001b[0m\n\u001b[0m\u001b[1;32m      2\u001b[0m     \u001b[0mreader1\u001b[0m \u001b[0;34m=\u001b[0m \u001b[0mcsv\u001b[0m\u001b[0;34m.\u001b[0m\u001b[0mreader\u001b[0m\u001b[0;34m(\u001b[0m\u001b[0mcsvfile\u001b[0m\u001b[0;34m)\u001b[0m\u001b[0;34m\u001b[0m\u001b[0m\n\u001b[1;32m      3\u001b[0m \u001b[0mdata\u001b[0m \u001b[0;34m=\u001b[0m \u001b[0mpd\u001b[0m\u001b[0;34m.\u001b[0m\u001b[0mread_csv\u001b[0m\u001b[0;34m(\u001b[0m\u001b[0;34m'data/Seasons_Stats_cleansed.csv'\u001b[0m\u001b[0;34m,\u001b[0m\u001b[0msep\u001b[0m\u001b[0;34m=\u001b[0m\u001b[0;34m'\\t'\u001b[0m\u001b[0;34m)\u001b[0m\u001b[0;34m\u001b[0m\u001b[0m\n\u001b[1;32m      4\u001b[0m \u001b[0;34m\u001b[0m\u001b[0m\n\u001b[1;32m      5\u001b[0m \u001b[0mstr_list\u001b[0m \u001b[0;34m=\u001b[0m \u001b[0;34m[\u001b[0m\u001b[0;34m]\u001b[0m \u001b[0;31m# empty list to contain columns with strings\u001b[0m\u001b[0;34m\u001b[0m\u001b[0m\n",
      "\u001b[0;31mIOError\u001b[0m: [Errno 2] No such file or directory: 'data/Seasons_Stats_cleansed.csv'"
     ]
    }
   ],
   "source": [
    "with open('data/Seasons_Stats_cleansed.csv') as csvfile:\n",
    "    reader1 = csv.reader(csvfile)\n",
    "data = pd.read_csv('data/Seasons_Stats_cleansed.csv',sep='\\t')\n",
    "\n",
    "str_list = [] # empty list to contain columns with strings\n",
    "for colname, colvalue in data.iteritems():\n",
    "    if type(colvalue[1]) == str:\n",
    "        str_list.append(colname)\n",
    "#Get to the numeric columns by inversion\n",
    "data_num_list = data.columns.difference(str_list)\n",
    "data_num = data[data_num_list]"
   ]
  },
  {
   "cell_type": "markdown",
   "metadata": {},
   "source": [
    "Both the original dataset and all numerical dataset will be divided into four subsets according to time period."
   ]
  },
  {
   "cell_type": "markdown",
   "metadata": {},
   "source": [
    "#### -  Subdivide original dataset"
   ]
  },
  {
   "cell_type": "code",
   "execution_count": null,
   "metadata": {},
   "outputs": [],
   "source": [
    "pre90s_all = data[~(data['Year']>1989)]\n",
    "_90s_all = data[~(data['Year']<1990) & ~(data['Year']>1999)]\n",
    "_00s_all = data[~(data['Year']<2000) & ~(data['Year']>2009)]\n",
    "_10s_all = data[~(data['Year']<2010)]"
   ]
  },
  {
   "cell_type": "markdown",
   "metadata": {},
   "source": [
    "#### - Subdivide numerical dataset"
   ]
  },
  {
   "cell_type": "code",
   "execution_count": null,
   "metadata": {},
   "outputs": [],
   "source": [
    "pre90s = data_num[~(data_num['Year']>1989)]\n",
    "_90s = data_num[~(data_num['Year']<1990) & ~(data_num['Year']>1999)]\n",
    "_00s = data_num[~(data_num['Year']<2000) & ~(data_num['Year']>2009)]\n",
    "_10s = data_num[~(data_num['Year']<2010)]"
   ]
  },
  {
   "cell_type": "markdown",
   "metadata": {},
   "source": [
    "Since we want to observe the changing behavior of basketball throughout time, I will choose the two subsets have the largest time gap in between, which is pre90(players data before 1990) and _10s(players since 2010)."
   ]
  },
  {
   "cell_type": "markdown",
   "metadata": {},
   "source": [
    "### Normalize numerical dataset"
   ]
  },
  {
   "cell_type": "markdown",
   "metadata": {},
   "source": [
    "The goal of normalization is to change the values of numeric columns in the dataset to use a common scale, without distorting differences in the ranges of values. Since the column features of our dataset have different ranges, such as the range of scoring points is from 0 to 30+, and for height and weight is even larger, but for other features like number of blocks or steal, the range tends to be much smaller. So in order to prevent the bias of the predicative model towards feature with higher number, we have to normalize the dataset. "
   ]
  },
  {
   "cell_type": "code",
   "execution_count": null,
   "metadata": {
    "scrolled": false
   },
   "outputs": [],
   "source": [
    "from sklearn.preprocessing import StandardScaler\n",
    "pre90s_z = StandardScaler().fit_transform(pre90s)\n",
    "_90s_z = StandardScaler().fit_transform(_90s)\n",
    "_00s_z = StandardScaler().fit_transform(_00s)\n",
    "_10s_z = StandardScaler().fit_transform(_10s)"
   ]
  },
  {
   "cell_type": "markdown",
   "metadata": {},
   "source": [
    "### Feature analysis with PCA"
   ]
  },
  {
   "cell_type": "markdown",
   "metadata": {},
   "source": [
    "In order to do so, we will first perform PCA implementation that comes with Python's sklearn machine learning library."
   ]
  },
  {
   "cell_type": "code",
   "execution_count": null,
   "metadata": {},
   "outputs": [],
   "source": [
    "from sklearn.decomposition import PCA\n",
    "pca = PCA()\n",
    "pca.fit(pre90s_z)"
   ]
  },
  {
   "cell_type": "markdown",
   "metadata": {},
   "source": [
    "This gives us an object we can use to transform our data by calling transform."
   ]
  },
  {
   "cell_type": "code",
   "execution_count": null,
   "metadata": {},
   "outputs": [],
   "source": [
    "pre90s_existing_nd = pca.transform(pre90s_z)"
   ]
  },
  {
   "cell_type": "code",
   "execution_count": null,
   "metadata": {},
   "outputs": [],
   "source": [
    "pre90s_existing_df_nd = pd.DataFrame(pre90s_existing_nd)\n",
    "pre90s_existing_df_nd.index = pre90s.index\n",
    "pre90s_existing_df_nd.columns = pre90s.columns\n",
    "pre90s_existing_df_nd.head()"
   ]
  },
  {
   "cell_type": "code",
   "execution_count": null,
   "metadata": {},
   "outputs": [],
   "source": [
    "print(pca.explained_variance_ratio_) \n",
    "pre90s_cum_var_exp = np.cumsum(pca.explained_variance_ratio_)"
   ]
  },
  {
   "cell_type": "code",
   "execution_count": null,
   "metadata": {},
   "outputs": [],
   "source": [
    "# PLOT OUT THE EXPLAINED VARIANCES SUPERIMPOSED \n",
    "plt.figure(figsize=(10, 5))\n",
    "plt.bar(range(len(pca.explained_variance_ratio_)), pca.explained_variance_ratio_, alpha=0.3333, align='center', label='individual explained variance', color = 'g')\n",
    "plt.step(range(len(pre90s_cum_var_exp)), pre90s_cum_var_exp, where='mid',label='cumulative explained variance')\n",
    "plt.ylabel('Explained variance ratio')\n",
    "plt.xlabel('Principal components')\n",
    "plt.legend(loc='best')\n",
    "plt.show()"
   ]
  },
  {
   "cell_type": "markdown",
   "metadata": {},
   "source": [
    "Repeat the same steps for the other dataset."
   ]
  },
  {
   "cell_type": "code",
   "execution_count": null,
   "metadata": {},
   "outputs": [],
   "source": [
    "pca.fit(_90s_z)\n",
    "_90s_existing_nd = pca.transform(_90s_z)\n",
    "_90s_existing_df_nd = pd.DataFrame(_90s_existing_nd)\n",
    "_90s_existing_df_nd.index = _90s.index\n",
    "_90s_existing_df_nd.columns = _90s.columns\n",
    "_90s_existing_df_nd.head()"
   ]
  },
  {
   "cell_type": "code",
   "execution_count": null,
   "metadata": {},
   "outputs": [],
   "source": [
    "# PLOT OUT THE EXPLAINED VARIANCES SUPERIMPOSED \n",
    "_90s_cum_var_exp = np.cumsum(pca.explained_variance_ratio_)\n",
    "plt.figure(figsize=(10, 5))\n",
    "plt.bar(range(len(pca.explained_variance_ratio_)), pca.explained_variance_ratio_, alpha=0.3333, align='center', label='individual explained variance', color = 'g')\n",
    "plt.step(range(len(_90s_cum_var_exp)), _90s_cum_var_exp, where='mid',label='cumulative explained variance')\n",
    "plt.ylabel('Explained variance ratio')\n",
    "plt.xlabel('Principal components')\n",
    "plt.legend(loc='best')\n",
    "plt.show()"
   ]
  },
  {
   "cell_type": "code",
   "execution_count": null,
   "metadata": {},
   "outputs": [],
   "source": [
    "pca.fit(_00s_z)\n",
    "_00s_existing_nd = pca.transform(_00s_z)\n",
    "_00s_existing_df_nd = pd.DataFrame(_00s_existing_nd)\n",
    "_00s_existing_df_nd.index = _00s.index\n",
    "_00s_existing_df_nd.columns = _00s.columns\n",
    "_00s_existing_df_nd.head()"
   ]
  },
  {
   "cell_type": "code",
   "execution_count": null,
   "metadata": {},
   "outputs": [],
   "source": [
    "# PLOT OUT THE EXPLAINED VARIANCES SUPERIMPOSED \n",
    "_00s_cum_var_exp = np.cumsum(pca.explained_variance_ratio_)\n",
    "plt.figure(figsize=(10, 5))\n",
    "plt.bar(range(len(pca.explained_variance_ratio_)), pca.explained_variance_ratio_, alpha=0.3333, align='center', label='individual explained variance', color = 'g')\n",
    "plt.step(range(len(_00s_cum_var_exp)), _00s_cum_var_exp, where='mid',label='cumulative explained variance')\n",
    "plt.ylabel('Explained variance ratio')\n",
    "plt.xlabel('Principal components')\n",
    "plt.legend(loc='best')\n",
    "plt.show()"
   ]
  },
  {
   "cell_type": "code",
   "execution_count": null,
   "metadata": {},
   "outputs": [],
   "source": [
    "pca.fit(_10s_z)\n",
    "_10s_existing_nd = pca.transform(_10s_z)\n",
    "_10s_existing_df_nd = pd.DataFrame(_10s_existing_nd)\n",
    "_10s_existing_df_nd.index = _10s.index\n",
    "_10s_existing_df_nd.columns = _10s.columns\n",
    "_10s_existing_df_nd.head()"
   ]
  },
  {
   "cell_type": "markdown",
   "metadata": {},
   "source": [
    "With these two simplied dataset with reduced dimension of 6, we can explore the different choices of number for clustering. I will keep the options open from 2 to 20."
   ]
  },
  {
   "cell_type": "code",
   "execution_count": null,
   "metadata": {},
   "outputs": [],
   "source": [
    "from sklearn.cluster import KMeans\n",
    "\n",
    "SS = []\n",
    "\n",
    "for i in range(2,20):\n",
    "    km = KMeans(n_clusters = i)\n",
    "    km.fit(pre90s_existing_df_nd)\n",
    "    SS.append(km.inertia_)\n",
    "    \n",
    "plt.plot(range(2,20), SS)\n",
    "plt.xlabel('Number of Clusters')\n",
    "plt.ylabel('SS Value')\n",
    "plt.show()"
   ]
  },
  {
   "cell_type": "code",
   "execution_count": null,
   "metadata": {},
   "outputs": [],
   "source": [
    "\n",
    "'''\n",
    "SS = []\n",
    "\n",
    "for i in range(2,20):\n",
    "    km = KMeans(n_clusters = i)\n",
    "    km.fit(_90s_existing_df_nd)\n",
    "    SS.append(km.inertia_)\n",
    "    \n",
    "plt.plot(range(2,20), SS)\n",
    "plt.xlabel('Number of Clusters')\n",
    "plt.ylabel('SS Value')\n",
    "plt.show()\n",
    "'''"
   ]
  },
  {
   "cell_type": "code",
   "execution_count": null,
   "metadata": {},
   "outputs": [],
   "source": [
    "'''\n",
    "SS = []\n",
    "\n",
    "for i in range(2,20):\n",
    "    km = KMeans(n_clusters = i)\n",
    "    km.fit(_00s_existing_df_nd)\n",
    "    SS.append(km.inertia_)\n",
    "    \n",
    "plt.plot(range(2,20), SS)\n",
    "plt.xlabel('Number of Clusters')\n",
    "plt.ylabel('SS Value')\n",
    "plt.show()\n",
    "'''"
   ]
  },
  {
   "cell_type": "markdown",
   "metadata": {},
   "source": [
    "By using the albew method, we can tell starting from 7, the SS value kind of stop decreasing as rapidly as before, so I will choose 7 as the number of clusters."
   ]
  },
  {
   "cell_type": "code",
   "execution_count": null,
   "metadata": {},
   "outputs": [],
   "source": [
    "SS = []\n",
    "\n",
    "for i in range(2,20):\n",
    "    km = KMeans(n_clusters = i)\n",
    "    km.fit(_10s_existing_df_nd)\n",
    "    SS.append(km.inertia_)\n",
    "    \n",
    "plt.plot(range(2,20), SS)\n",
    "plt.xlabel('Number of Clusters')\n",
    "plt.ylabel('SS Value')\n",
    "plt.show()"
   ]
  },
  {
   "cell_type": "markdown",
   "metadata": {},
   "source": [
    "For the 10s dataset, we can tell more clearly that starting from 7, the SS value stop decreasing so rapidly, so I will also choose 7 as the number of clusters."
   ]
  },
  {
   "cell_type": "code",
   "execution_count": null,
   "metadata": {},
   "outputs": [],
   "source": [
    "import scipy\n",
    "from scipy.cluster.vq import vq, kmeans, whiten\n",
    "from pylab import plot,show\n",
    "from numpy import vstack,array\n",
    "from numpy.random import rand\n",
    "from scipy.cluster.vq import kmeans,vq\n",
    "\n",
    "#changing x_z from dataframe to an array\n",
    "pre90s_z1 = np.array(pre90s_existing_df_nd)\n",
    "\n",
    "##kmeans clustering for 7 clusters\n",
    "pre90s_kmeans_x,_ = kmeans(pre90s_z1,7)\n",
    "#print(pre90s_kmeans_x)"
   ]
  },
  {
   "cell_type": "code",
   "execution_count": null,
   "metadata": {},
   "outputs": [],
   "source": [
    "_90s_z1 = np.array(_90s_existing_df_nd)\n",
    "_90s_kmeans_x,_ = kmeans(_90s_z1,7)\n",
    "_00s_z1 = np.array(_00s_existing_df_nd)\n",
    "_00s_kmeans_x,_ = kmeans(_00s_z1,7)\n",
    "_10s_z1 = np.array(_10s_existing_df_nd)\n",
    "_10s_kmeans_x,_ = kmeans(_10s_z1,7)\n",
    "#print(_10s_kmeans_x)"
   ]
  },
  {
   "cell_type": "markdown",
   "metadata": {},
   "source": [
    "To see, if the PCA algorithm will be able to separate the clusters, I am adding clusters from (k =7) to the original dataframe. Then I will plot the scatterplot of PC1 vs PC2, which are the two most prominent ones to see if the seven clusters separate as they should."
   ]
  },
  {
   "cell_type": "code",
   "execution_count": null,
   "metadata": {},
   "outputs": [],
   "source": [
    "pre90s_idx7,_ = vq(pre90s_z1,pre90s_kmeans_x)"
   ]
  },
  {
   "cell_type": "code",
   "execution_count": null,
   "metadata": {
    "scrolled": false
   },
   "outputs": [],
   "source": [
    "plt.figure(figsize=(20,20))\n",
    "plt.plot(pre90s_z1[pre90s_idx7==0,0],pre90s_z1[pre90s_idx7==0,1],'sc',\n",
    "     pre90s_z1[pre90s_idx7==1,0],pre90s_z1[pre90s_idx7==1,1],'sr',\n",
    "     pre90s_z1[pre90s_idx7==2,0],pre90s_z1[pre90s_idx7==2,1],'om',\n",
    "     pre90s_z1[pre90s_idx7==3,0],pre90s_z1[pre90s_idx7==3,1],'ob',\n",
    "     pre90s_z1[pre90s_idx7==4,0],pre90s_z1[pre90s_idx7==4,1],'ok',\n",
    "     pre90s_z1[pre90s_idx7==5,0],pre90s_z1[pre90s_idx7==5,1],'sg',\n",
    "     pre90s_z1[pre90s_idx7==6,0],pre90s_z1[pre90s_idx7==6,1],'oy')\n",
    "plt.plot(pre90s_kmeans_x[:,0],pre90s_kmeans_x[:,1],'sy',markersize=1)\n",
    "plt.xlim(-15.0, 15.0)\n",
    "plt.ylim(-15.0, 15.0)\n",
    "show()\n"
   ]
  },
  {
   "cell_type": "markdown",
   "metadata": {},
   "source": [
    "The 7 clusters are very clear for the pre90s dataset."
   ]
  },
  {
   "cell_type": "code",
   "execution_count": null,
   "metadata": {},
   "outputs": [],
   "source": [
    "_10s_idx7,_ = vq(_10s_z1,_10s_kmeans_x)\n",
    "plt.figure(figsize=(20,20))\n",
    "plt.plot(_10s_z1[_10s_idx7==0,0],_10s_z1[_10s_idx7==0,1],'sc',\n",
    "     _10s_z1[_10s_idx7==1,0],_10s_z1[_10s_idx7==1,1],'sr',\n",
    "     _10s_z1[_10s_idx7==2,0],_10s_z1[_10s_idx7==2,1],'om',\n",
    "     _10s_z1[_10s_idx7==3,0],_10s_z1[_10s_idx7==3,1],'ob',\n",
    "     _10s_z1[_10s_idx7==4,0],_10s_z1[_10s_idx7==4,1],'ok',\n",
    "     _10s_z1[_10s_idx7==5,0],_10s_z1[_10s_idx7==5,1],'sg',\n",
    "     _10s_z1[_10s_idx7==6,0],_10s_z1[_10s_idx7==6,1],'oy')\n",
    "plt.plot(_10s_kmeans_x[:,0],_10s_kmeans_x[:,1],'sy',markersize=8)\n",
    "plt.xlim(-15.0, 15.0)\n",
    "plt.ylim(-15.0, 15.0)\n",
    "show()"
   ]
  },
  {
   "cell_type": "markdown",
   "metadata": {},
   "source": [
    "The 7 clusters are very distinguishable for the _10s dataset."
   ]
  },
  {
   "cell_type": "markdown",
   "metadata": {},
   "source": [
    "# Intepretation of clusters"
   ]
  },
  {
   "cell_type": "markdown",
   "metadata": {},
   "source": [
    "## For pre 1990 data"
   ]
  },
  {
   "cell_type": "code",
   "execution_count": 634,
   "metadata": {},
   "outputs": [
    {
     "data": {
      "text/plain": [
       "pandas.core.frame.DataFrame"
      ]
     },
     "execution_count": 634,
     "metadata": {},
     "output_type": "execute_result"
    }
   ],
   "source": [
    "pre90s_cluster = pre90s_idx7\n",
    "#type(pre90s_cluster)\n",
    "type(pre90s_all)\n",
    "#type(pre90s_z)"
   ]
  },
  {
   "cell_type": "markdown",
   "metadata": {},
   "source": [
    "#### Inteprate through normalized dataset"
   ]
  },
  {
   "cell_type": "markdown",
   "metadata": {},
   "source": [
    "Since in normalized dataset all the attributes are scaled to the same range, and the relative difference are also scaled to the same range, which makes it easy to have visual comparison."
   ]
  },
  {
   "cell_type": "code",
   "execution_count": 635,
   "metadata": {
    "scrolled": false
   },
   "outputs": [
    {
     "ename": "ValueError",
     "evalue": "Length mismatch: Expected axis has 51 elements, new values have 50 elements",
     "output_type": "error",
     "traceback": [
      "\u001b[0;31m---------------------------------------------------------------------------\u001b[0m",
      "\u001b[0;31mValueError\u001b[0m                                Traceback (most recent call last)",
      "\u001b[0;32m<ipython-input-635-ce511232f5ac>\u001b[0m in \u001b[0;36m<module>\u001b[0;34m()\u001b[0m\n\u001b[1;32m      1\u001b[0m \u001b[0mpre90s_z\u001b[0m \u001b[0;34m=\u001b[0m \u001b[0mpd\u001b[0m\u001b[0;34m.\u001b[0m\u001b[0mDataFrame\u001b[0m\u001b[0;34m(\u001b[0m\u001b[0mpre90s_z\u001b[0m\u001b[0;34m)\u001b[0m\u001b[0;34m\u001b[0m\u001b[0m\n\u001b[1;32m      2\u001b[0m \u001b[0mpre90s_z\u001b[0m\u001b[0;34m.\u001b[0m\u001b[0mindex\u001b[0m \u001b[0;34m=\u001b[0m \u001b[0mpre90s\u001b[0m\u001b[0;34m.\u001b[0m\u001b[0mindex\u001b[0m\u001b[0;34m\u001b[0m\u001b[0m\n\u001b[0;32m----> 3\u001b[0;31m \u001b[0mpre90s_z\u001b[0m\u001b[0;34m.\u001b[0m\u001b[0mcolumns\u001b[0m \u001b[0;34m=\u001b[0m \u001b[0mpre90s\u001b[0m\u001b[0;34m.\u001b[0m\u001b[0mcolumns\u001b[0m\u001b[0;34m\u001b[0m\u001b[0m\n\u001b[0m\u001b[1;32m      4\u001b[0m \u001b[0;34m\u001b[0m\u001b[0m\n\u001b[1;32m      5\u001b[0m \u001b[0;31m##Add the cluster membership to first dataframe x\u001b[0m\u001b[0;34m\u001b[0m\u001b[0;34m\u001b[0m\u001b[0m\n",
      "\u001b[0;32m/Users/yidingweng/anaconda3/envs/ai/lib/python2.7/site-packages/pandas/core/generic.pyc\u001b[0m in \u001b[0;36m__setattr__\u001b[0;34m(self, name, value)\u001b[0m\n\u001b[1;32m   4387\u001b[0m         \u001b[0;32mtry\u001b[0m\u001b[0;34m:\u001b[0m\u001b[0;34m\u001b[0m\u001b[0m\n\u001b[1;32m   4388\u001b[0m             \u001b[0mobject\u001b[0m\u001b[0;34m.\u001b[0m\u001b[0m__getattribute__\u001b[0m\u001b[0;34m(\u001b[0m\u001b[0mself\u001b[0m\u001b[0;34m,\u001b[0m \u001b[0mname\u001b[0m\u001b[0;34m)\u001b[0m\u001b[0;34m\u001b[0m\u001b[0m\n\u001b[0;32m-> 4389\u001b[0;31m             \u001b[0;32mreturn\u001b[0m \u001b[0mobject\u001b[0m\u001b[0;34m.\u001b[0m\u001b[0m__setattr__\u001b[0m\u001b[0;34m(\u001b[0m\u001b[0mself\u001b[0m\u001b[0;34m,\u001b[0m \u001b[0mname\u001b[0m\u001b[0;34m,\u001b[0m \u001b[0mvalue\u001b[0m\u001b[0;34m)\u001b[0m\u001b[0;34m\u001b[0m\u001b[0m\n\u001b[0m\u001b[1;32m   4390\u001b[0m         \u001b[0;32mexcept\u001b[0m \u001b[0mAttributeError\u001b[0m\u001b[0;34m:\u001b[0m\u001b[0;34m\u001b[0m\u001b[0m\n\u001b[1;32m   4391\u001b[0m             \u001b[0;32mpass\u001b[0m\u001b[0;34m\u001b[0m\u001b[0m\n",
      "\u001b[0;32mpandas/_libs/properties.pyx\u001b[0m in \u001b[0;36mpandas._libs.properties.AxisProperty.__set__\u001b[0;34m()\u001b[0m\n",
      "\u001b[0;32m/Users/yidingweng/anaconda3/envs/ai/lib/python2.7/site-packages/pandas/core/generic.pyc\u001b[0m in \u001b[0;36m_set_axis\u001b[0;34m(self, axis, labels)\u001b[0m\n\u001b[1;32m    644\u001b[0m \u001b[0;34m\u001b[0m\u001b[0m\n\u001b[1;32m    645\u001b[0m     \u001b[0;32mdef\u001b[0m \u001b[0m_set_axis\u001b[0m\u001b[0;34m(\u001b[0m\u001b[0mself\u001b[0m\u001b[0;34m,\u001b[0m \u001b[0maxis\u001b[0m\u001b[0;34m,\u001b[0m \u001b[0mlabels\u001b[0m\u001b[0;34m)\u001b[0m\u001b[0;34m:\u001b[0m\u001b[0;34m\u001b[0m\u001b[0m\n\u001b[0;32m--> 646\u001b[0;31m         \u001b[0mself\u001b[0m\u001b[0;34m.\u001b[0m\u001b[0m_data\u001b[0m\u001b[0;34m.\u001b[0m\u001b[0mset_axis\u001b[0m\u001b[0;34m(\u001b[0m\u001b[0maxis\u001b[0m\u001b[0;34m,\u001b[0m \u001b[0mlabels\u001b[0m\u001b[0;34m)\u001b[0m\u001b[0;34m\u001b[0m\u001b[0m\n\u001b[0m\u001b[1;32m    647\u001b[0m         \u001b[0mself\u001b[0m\u001b[0;34m.\u001b[0m\u001b[0m_clear_item_cache\u001b[0m\u001b[0;34m(\u001b[0m\u001b[0;34m)\u001b[0m\u001b[0;34m\u001b[0m\u001b[0m\n\u001b[1;32m    648\u001b[0m \u001b[0;34m\u001b[0m\u001b[0m\n",
      "\u001b[0;32m/Users/yidingweng/anaconda3/envs/ai/lib/python2.7/site-packages/pandas/core/internals.pyc\u001b[0m in \u001b[0;36mset_axis\u001b[0;34m(self, axis, new_labels)\u001b[0m\n\u001b[1;32m   3321\u001b[0m             raise ValueError(\n\u001b[1;32m   3322\u001b[0m                 \u001b[0;34m'Length mismatch: Expected axis has {old} elements, new '\u001b[0m\u001b[0;34m\u001b[0m\u001b[0m\n\u001b[0;32m-> 3323\u001b[0;31m                 'values have {new} elements'.format(old=old_len, new=new_len))\n\u001b[0m\u001b[1;32m   3324\u001b[0m \u001b[0;34m\u001b[0m\u001b[0m\n\u001b[1;32m   3325\u001b[0m         \u001b[0mself\u001b[0m\u001b[0;34m.\u001b[0m\u001b[0maxes\u001b[0m\u001b[0;34m[\u001b[0m\u001b[0maxis\u001b[0m\u001b[0;34m]\u001b[0m \u001b[0;34m=\u001b[0m \u001b[0mnew_labels\u001b[0m\u001b[0;34m\u001b[0m\u001b[0m\n",
      "\u001b[0;31mValueError\u001b[0m: Length mismatch: Expected axis has 51 elements, new values have 50 elements"
     ]
    }
   ],
   "source": [
    "pre90s_z = pd.DataFrame(pre90s_z)\n",
    "pre90s_z.index = pre90s.index\n",
    "pre90s_z.columns = pre90s.columns\n",
    "\n",
    "##Add the cluster membership to first dataframe x\n",
    "pre90s_z['cluster_ID'] = pre90s_cluster[:]\n",
    "pre90s_z_cluster_sort = pre90s_z.sort_values('cluster_ID')\n",
    "\n",
    "## Sort the players by cluster membership\n",
    "cluster1 = pre90s_z_cluster_sort.loc[pre90s_z_cluster_sort[\"cluster_ID\"] == 0]\n",
    "cluster2 = pre90s_z_cluster_sort.loc[pre90s_z_cluster_sort[\"cluster_ID\"] == 1]\n",
    "cluster3 = pre90s_z_cluster_sort.loc[pre90s_z_cluster_sort[\"cluster_ID\"] == 2]\n",
    "cluster4 = pre90s_z_cluster_sort.loc[pre90s_z_cluster_sort[\"cluster_ID\"] == 3]\n",
    "cluster5 = pre90s_z_cluster_sort.loc[pre90s_z_cluster_sort[\"cluster_ID\"] == 4]\n",
    "cluster6 = pre90s_z_cluster_sort.loc[pre90s_z_cluster_sort[\"cluster_ID\"] == 5]\n",
    "cluster7 = pre90s_z_cluster_sort.loc[pre90s_z_cluster_sort[\"cluster_ID\"] == 6]\n",
    "\n",
    "#calculate mean values for each clusters\n",
    "c1means = pd.DataFrame(cluster1.mean())\n",
    "c2means = pd.DataFrame(cluster2.mean())\n",
    "c3means = pd.DataFrame(cluster3.mean())\n",
    "c4means = pd.DataFrame(cluster4.mean())\n",
    "c5means = pd.DataFrame(cluster5.mean())\n",
    "c6means = pd.DataFrame(cluster6.mean())\n",
    "c7means = pd.DataFrame(cluster7.mean())\n",
    "\n",
    "summary = pd.concat([c1means, c2means, c3means, c4means, c5means, c6means, c7means], axis=1, join_axes = [c1means.index])\n",
    " \n",
    "## Assign column names to the dataframe summary\n",
    "summary.columns = ['Cluster_1', 'Cluster_2', 'Cluster_3', 'Cluster_4', 'Cluster_5', 'Cluster_6', 'Cluster_7']\n",
    "\n",
    "summary_feature1 = summary.loc[['height','weight']]\n",
    "summary_feature1 = summary_feature1.transpose()\n",
    "plt.figure()\n",
    "summary_feature1.plot(kind ='bar')\n",
    "plt.legend(bbox_to_anchor=(1.05, 1), loc=2, borderaxespad=0.) ## to move the legend outside of plot\n",
    "plt.show()"
   ]
  },
  {
   "cell_type": "markdown",
   "metadata": {},
   "source": [
    "#### large players: Cluster_2, Cluster_6, Cluster_7\n",
    "#### medium players: Cluster_5\n",
    "#### small players: Cluster_1, Cluster_3, Cluster_4"
   ]
  },
  {
   "cell_type": "code",
   "execution_count": 601,
   "metadata": {},
   "outputs": [],
   "source": [
    "summary_feature2 = summary.loc[['PTS','AST','TRB','STL','BLK','PF']]\n",
    "summary_feature2 = summary_feature2.transpose()"
   ]
  },
  {
   "cell_type": "code",
   "execution_count": 602,
   "metadata": {},
   "outputs": [
    {
     "data": {
      "text/plain": [
       "<matplotlib.legend.Legend at 0x114343a50>"
      ]
     },
     "execution_count": 602,
     "metadata": {},
     "output_type": "execute_result"
    },
    {
     "data": {
      "image/png": "[encoded data removed]",
      "text/plain": [
       "<matplotlib.figure.Figure at 0x1142e4dd0>"
      ]
     },
     "metadata": {},
     "output_type": "display_data"
    }
   ],
   "source": [
    "from math import pi\n",
    "\n",
    "# ------- PART 1: Create background\n",
    " \n",
    "# number of variable\n",
    "categories=list(summary_feature2)[0:]\n",
    "N = len(categories) \n",
    " \n",
    "# What will be the angle of each axis in the plot? (we divide the plot / number of variable)\n",
    "angles = [n / float(N) * 2 * pi for n in range(N)]\n",
    "angles += angles[:1]\n",
    " \n",
    "# Initialise the spider plot\n",
    "ax = plt.subplot(111, polar=True)\n",
    " \n",
    "# If you want the first axis to be on top:\n",
    "ax.set_theta_offset(pi / 2)\n",
    "ax.set_theta_direction(-1)\n",
    " \n",
    "# Draw one axe per variable + add labels labels yet\n",
    "plt.xticks(angles[:-1], categories)\n",
    " \n",
    "# Draw ylabels\n",
    "ax.set_rlabel_position(0)\n",
    "plt.yticks([-1,-0.5,0,0.5,1,1.5], [\"-1\",\"-0.5\",\"0\",\"0.5\",\"1\",\"1.5\"], color=\"grey\", size=7)\n",
    "plt.ylim(-1.5,2.0)\n",
    " \n",
    " \n",
    "# ------- PART 2: Add plots\n",
    " \n",
    "# Plot each individual = each line of the data\n",
    "# I don't do a loop, because plotting more than 3 groups makes the chart unreadable\n",
    " \n",
    "# Ind1\n",
    "values=summary_feature2.loc['Cluster_1'].values.tolist()\n",
    "values += values[:1]\n",
    "ax.plot(angles, values, linewidth=1, linestyle='solid', label=\"Cluster_1\")\n",
    "ax.fill(angles, values, 'b', alpha=0.1)\n",
    " \n",
    "# Ind2\n",
    "values=summary_feature2.loc['Cluster_2'].values.tolist()\n",
    "values += values[:1]\n",
    "ax.plot(angles, values, linewidth=1, linestyle='solid', label=\"Cluster_2\")\n",
    "ax.fill(angles, values, 'r', alpha=0.1)\n",
    "\n",
    "# Ind3\n",
    "values=summary_feature2.loc['Cluster_3'].values.tolist()\n",
    "values += values[:1]\n",
    "ax.plot(angles, values, linewidth=1, linestyle='solid', label=\"Cluster_3\")\n",
    "ax.fill(angles, values, 'b', alpha=0.1)\n",
    " \n",
    "# Ind4\n",
    "values=summary_feature2.loc['Cluster_4'].values.tolist()\n",
    "values += values[:1]\n",
    "ax.plot(angles, values, linewidth=1, linestyle='solid', label=\"Cluster_4\")\n",
    "ax.fill(angles, values, 'r', alpha=0.1)\n",
    "\n",
    "# Ind5\n",
    "values=summary_feature2.loc['Cluster_5'].values.tolist()\n",
    "values += values[:1]\n",
    "ax.plot(angles, values, linewidth=1, linestyle='solid', label=\"Cluster_5\")\n",
    "ax.fill(angles, values, 'b', alpha=0.1)\n",
    " \n",
    "# Ind6\n",
    "values=summary_feature2.loc['Cluster_6'].values.tolist()\n",
    "values += values[:1]\n",
    "ax.plot(angles, values, linewidth=1, linestyle='solid', label=\"Cluster_6\")\n",
    "ax.fill(angles, values, 'r', alpha=0.1)\n",
    "\n",
    " \n",
    "# Ind7\n",
    "values=summary_feature2.loc['Cluster_7'].values.tolist()\n",
    "values += values[:1]\n",
    "ax.plot(angles, values, linewidth=1, linestyle='solid', label=\"Cluster_7\")\n",
    "ax.fill(angles, values, 'r', alpha=0.1)\n",
    "\n",
    "# Add legend\n",
    "plt.legend(loc='upper right', bbox_to_anchor=(0.1, 0.1))\n"
   ]
  },
  {
   "cell_type": "markdown",
   "metadata": {},
   "source": [
    "#### Cluster_1: small players average in all areas\n",
    "#### Cluster_2: big players relatively strong in scoring, particularly strong in getting rebounds and blocks\n",
    "#### Cluster_3: small players relatively strong in assist and steal\n",
    "#### Cluster_4: small players particularly strong in assist and steal\n",
    "#### Cluster_5: medium players particularly strong in scoring\n",
    "#### Cluster_6: big players average in all areas\n",
    "#### Cluster_7: big players particularly strong in block and rebound, getting fouls"
   ]
  },
  {
   "cell_type": "code",
   "execution_count": 603,
   "metadata": {},
   "outputs": [],
   "source": [
    "summary_feature3 = summary.loc[['2P','2P%','3P','3P%','FT','FT%']]\n",
    "summary_feature3 = summary_feature3.transpose()"
   ]
  },
  {
   "cell_type": "code",
   "execution_count": 604,
   "metadata": {},
   "outputs": [
    {
     "name": "stdout",
     "output_type": "stream",
     "text": [
      "['2P', '2P%', '3P', '3P%', 'FT', 'FT%']\n",
      "[0.0, 1.0471975511965976, 2.0943951023931953, 3.141592653589793, 4.1887902047863905, 5.235987755982989, 0.0]\n"
     ]
    },
    {
     "data": {
      "text/plain": [
       "<matplotlib.legend.Legend at 0x1a2fecde50>"
      ]
     },
     "execution_count": 604,
     "metadata": {},
     "output_type": "execute_result"
    },
    {
     "data": {
      "image/png": "[encoded data removed]",
      "text/plain": [
       "<matplotlib.figure.Figure at 0x1a2b7830d0>"
      ]
     },
     "metadata": {},
     "output_type": "display_data"
    }
   ],
   "source": [
    "from math import pi\n",
    "\n",
    "# ------- PART 1: Create background\n",
    " \n",
    "# number of variable\n",
    "categories=list(summary_feature3)[0:]\n",
    "N = len(categories) \n",
    "print(categories)\n",
    " \n",
    "# What will be the angle of each axis in the plot? (we divide the plot / number of variable)\n",
    "angles = [n / float(N) * 2 * pi for n in range(N)]\n",
    "angles += angles[:1]\n",
    "\n",
    "print(angles)\n",
    " \n",
    "# Initialise the spider plot\n",
    "ax = plt.subplot(111, polar=True)\n",
    " \n",
    "# If you want the first axis to be on top:\n",
    "ax.set_theta_offset(pi / 2)\n",
    "ax.set_theta_direction(-1)\n",
    " \n",
    "# Draw one axe per variable + add labels labels yet\n",
    "plt.xticks(angles[:-1], categories)\n",
    " \n",
    "# Draw ylabels\n",
    "ax.set_rlabel_position(0)\n",
    "plt.yticks([-1,-0.5,0,0.5,1,1.5,2,2.5,3.0], [\"-1\",\"-0.5\",\"0\",\"0.5\",\"1\",\"1.5\",\"2\",\"2.5\",\"3.0\"], color=\"grey\", size=7)\n",
    "plt.ylim(-1.5,3.5)\n",
    " \n",
    "\n",
    "# ------- PART 2: Add plots\n",
    " \n",
    "# Plot each individual = each line of the data\n",
    "# I don't do a loop, because plotting more than 3 groups makes the chart unreadable\n",
    " \n",
    "# Ind1\n",
    "values=summary_feature3.loc['Cluster_1'].values.tolist()\n",
    "values += values[:1]\n",
    "ax.plot(angles, values, linewidth=1, linestyle='solid', label=\"Cluster_1\")\n",
    "ax.fill(angles, values, 'b', alpha=0.1)\n",
    " \n",
    "# Ind2\n",
    "values=summary_feature3.loc['Cluster_2'].values.tolist()\n",
    "values += values[:1]\n",
    "ax.plot(angles, values, linewidth=1, linestyle='solid', label=\"Cluster_2\")\n",
    "ax.fill(angles, values, 'r', alpha=0.1)\n",
    "\n",
    "# Ind3\n",
    "values=summary_feature3.loc['Cluster_3'].values.tolist()\n",
    "values += values[:1]\n",
    "ax.plot(angles, values, linewidth=1, linestyle='solid', label=\"Cluster_3\")\n",
    "ax.fill(angles, values, 'b', alpha=0.1)\n",
    " \n",
    "# Ind4\n",
    "values=summary_feature3.loc['Cluster_4'].values.tolist()\n",
    "values += values[:1]\n",
    "ax.plot(angles, values, linewidth=1, linestyle='solid', label=\"Cluster_4\")\n",
    "ax.fill(angles, values, 'r', alpha=0.1)\n",
    "\n",
    "# Ind5\n",
    "values=summary_feature3.loc['Cluster_5'].values.tolist()\n",
    "values += values[:1]\n",
    "ax.plot(angles, values, linewidth=1, linestyle='solid', label=\"Cluster_5\")\n",
    "ax.fill(angles, values, 'b', alpha=0.1)\n",
    " \n",
    "# Ind6\n",
    "values=summary_feature3.loc['Cluster_6'].values.tolist()\n",
    "values += values[:1]\n",
    "ax.plot(angles, values, linewidth=1, linestyle='solid', label=\"Cluster_6\")\n",
    "ax.fill(angles, values, 'r', alpha=0.1)\n",
    "\n",
    " \n",
    "# Ind7\n",
    "values=summary_feature3.loc['Cluster_7'].values.tolist()\n",
    "values += values[:1]\n",
    "ax.plot(angles, values, linewidth=1, linestyle='solid', label=\"Cluster_7\")\n",
    "ax.fill(angles, values, 'r', alpha=0.1)\n",
    "\n",
    "# Add legend\n",
    "plt.legend(loc='upper right', bbox_to_anchor=(0.1, 0.1))\n"
   ]
  },
  {
   "cell_type": "markdown",
   "metadata": {},
   "source": [
    "#### Cluster_1: small players who don't shoot much, average in all areas\n",
    "#### Cluster_2: big players who's relatively strong at mid-range and drawing free throws, particularly strong in getting rebounds and blocks\n",
    "#### Cluster_3: small players who particularly strong at distant-range, relatively strong in assist and steal\n",
    "#### Cluster_4: small players have well rounded shooting options, particularly strong in assist and steal\n",
    "#### Cluster_5: medium players particularly strong at mid-range and drawing free throws\n",
    "#### Cluster_6: big players have well rounded shooting options, average in all areas\n",
    "#### Cluster_7: big players who shoot very few, particularly strong in block and rebound, getting fouls"
   ]
  },
  {
   "cell_type": "markdown",
   "metadata": {},
   "source": [
    "#### Inteprate through unnormalized dataset"
   ]
  },
  {
   "cell_type": "markdown",
   "metadata": {},
   "source": [
    "Unnormalized dataset helps to see the real facts of attributes of each cluster."
   ]
  },
  {
   "cell_type": "code",
   "execution_count": 605,
   "metadata": {},
   "outputs": [
    {
     "name": "stderr",
     "output_type": "stream",
     "text": [
      "/Users/yidingweng/anaconda3/envs/ai/lib/python2.7/site-packages/ipykernel_launcher.py:1: SettingWithCopyWarning: \n",
      "A value is trying to be set on a copy of a slice from a DataFrame.\n",
      "Try using .loc[row_indexer,col_indexer] = value instead\n",
      "\n",
      "See the caveats in the documentation: http://pandas.pydata.org/pandas-docs/stable/indexing.html#indexing-view-versus-copy\n",
      "  \"\"\"Entry point for launching an IPython kernel.\n"
     ]
    }
   ],
   "source": [
    "pre90s_all['cluster_ID'] = pre90s_cluster[:]\n",
    "pre90s_all_cluster_sort = pre90s_all.sort_values('cluster_ID')"
   ]
  },
  {
   "cell_type": "code",
   "execution_count": 606,
   "metadata": {
    "scrolled": true
   },
   "outputs": [],
   "source": [
    "cluster1 = pre90s_all_cluster_sort.loc[pre90s_all_cluster_sort[\"cluster_ID\"] == 0]\n",
    "cluster2 = pre90s_all_cluster_sort.loc[pre90s_all_cluster_sort[\"cluster_ID\"] == 1]\n",
    "cluster3 = pre90s_all_cluster_sort.loc[pre90s_all_cluster_sort[\"cluster_ID\"] == 2]\n",
    "cluster4 = pre90s_all_cluster_sort.loc[pre90s_all_cluster_sort[\"cluster_ID\"] == 3]\n",
    "cluster5 = pre90s_all_cluster_sort.loc[pre90s_all_cluster_sort[\"cluster_ID\"] == 4]\n",
    "cluster6 = pre90s_all_cluster_sort.loc[pre90s_all_cluster_sort[\"cluster_ID\"] == 5]\n",
    "cluster7 = pre90s_all_cluster_sort.loc[pre90s_all_cluster_sort[\"cluster_ID\"] == 6]"
   ]
  },
  {
   "cell_type": "markdown",
   "metadata": {},
   "source": [
    "Now, lets look at the characteristics of each cluster by calculating means of each clusters."
   ]
  },
  {
   "cell_type": "code",
   "execution_count": 607,
   "metadata": {},
   "outputs": [],
   "source": [
    "#calculate mean values for each clusters\n",
    "c1means = pd.DataFrame(cluster1.mean())\n",
    "c2means = pd.DataFrame(cluster2.mean())\n",
    "c3means = pd.DataFrame(cluster3.mean())\n",
    "c4means = pd.DataFrame(cluster4.mean())\n",
    "c5means = pd.DataFrame(cluster5.mean())\n",
    "c6means = pd.DataFrame(cluster6.mean())\n",
    "c7means = pd.DataFrame(cluster7.mean())"
   ]
  },
  {
   "cell_type": "code",
   "execution_count": 608,
   "metadata": {},
   "outputs": [
    {
     "name": "stdout",
     "output_type": "stream",
     "text": [
      "                Cluster_1    Cluster_2    Cluster_3    Cluster_4    Cluster_5  \\\n",
      "Unnamed: 0    4815.007143  4859.462882  4744.617363  4601.257235  5521.494444   \n",
      "Unnamed: 0.1  7316.802381  7381.993450  7217.745981  7008.811897  8349.483333   \n",
      "Year          1983.771429  1983.984716  1983.485531  1982.967846  1986.588889   \n",
      "Age             26.461905    27.000000    25.379421    25.987138    27.261111   \n",
      "G               76.447619    67.805677    55.900322    72.379421    71.155556   \n",
      "MP            2247.997619  1238.281659   754.340836  1752.635048  1730.594444   \n",
      "PER              0.298274     0.356920     0.526591     0.319060     0.331114   \n",
      "TS%              0.583452     0.503306     0.469254     0.523108     0.531828   \n",
      "3PAr             0.005976     0.007860     0.035479     0.010672     0.224683   \n",
      "FTr              0.452214     0.362395     0.268370     0.317272     0.230311   \n",
      "ORB%            10.150238     9.232969     5.267203     8.233119     3.194444   \n",
      "DRB%            20.447143    18.382096     9.674277    16.045981     7.763333   \n",
      "TRB%            15.342381    13.801528     7.460450    12.114309     5.478333   \n",
      "AST%             9.695238     7.120524    13.572347     9.578135    19.501111   \n",
      "STL%             1.378571     1.269869     1.741801     1.429100     2.052222   \n",
      "BLK%             2.227143     2.470961     0.640514     1.347106     0.426667   \n",
      "TOV%            16.121667    18.943886    16.432476    14.481190    13.365556   \n",
      "USG%            19.498810    13.845415    19.249196    19.461254    18.808333   \n",
      "OWS              0.058667     0.003413    -0.011303     0.027038     0.040736   \n",
      "DWS              0.048653     0.044846     0.028503     0.037167     0.029679   \n",
      "WS               0.107284     0.048260     0.017104     0.064235     0.070530   \n",
      "WS/48            0.143100     0.064419     0.022807     0.085659     0.094061   \n",
      "OBPM             0.009370    -0.110416    -0.170256    -0.025774     0.006605   \n",
      "DBPM             0.019910     0.037204    -0.070540    -0.002534    -0.033173   \n",
      "BPM              0.029329    -0.073220    -0.240959    -0.028319    -0.026695   \n",
      "VORP             0.036297     0.003747    -0.022463     0.009677     0.012715   \n",
      "FG               6.554389     4.031443     5.546507     6.285721     5.981443   \n",
      "FGA             12.302126     8.688758    13.015729    13.157243    13.178084   \n",
      "FG%              0.535143     0.464941     0.424090     0.479370     0.453728   \n",
      "3P               0.012664     0.009456     0.096480     0.029090     1.036459   \n",
      "3PA              0.073402     0.065988     0.447315     0.141714     2.895785   \n",
      "3P%              0.066545     0.045856     0.120013     0.099301     0.354761   \n",
      "2P               6.541726     4.021987     5.450027     6.256631     4.944983   \n",
      "2PA             12.228724     8.622770    12.568413    13.015528    10.282299   \n",
      "2P%              0.537405     0.467371     0.431891     0.482346     0.480767   \n",
      "eFG%             0.535660     0.465524     0.427871     0.480477     0.493939   \n",
      "FT               3.958929     2.028979     2.468592     3.007566     2.368126   \n",
      "FTA              5.418511     3.084214     3.393322     4.107270     2.961353   \n",
      "FT%              0.728962     0.657225     0.735174     0.735960     0.798722   \n",
      "ORB              3.300014     3.041879     1.736890     2.731656     1.039831   \n",
      "DRB              6.754972     6.038215     3.171485     5.273298     2.529906   \n",
      "TRB             10.054986     9.080094     4.908375     8.004954     3.569736   \n",
      "AST              2.495830     1.992680     3.616774     2.475845     5.099367   \n",
      "STL              1.058378     0.974564     1.340109     1.099430     1.549227   \n",
      "BLK              1.434192     1.580467     0.413025     0.872419     0.266591   \n",
      "TOV              2.780182     2.328494     2.799104     2.525833     2.198803   \n",
      "PF               4.062059     5.348848     4.407773     4.212809     3.207396   \n",
      "PTS             17.080371    10.101320    13.658086    15.608099    15.367470   \n",
      "height         207.759524   207.473799   196.000000   204.194534   193.055556   \n",
      "weight         102.497619   101.563319    88.588424    97.189711    84.327778   \n",
      "cluster_ID       0.000000     1.000000     2.000000     3.000000     4.000000   \n",
      "\n",
      "                Cluster_6    Cluster_7  \n",
      "Unnamed: 0    4756.601322  4596.374204  \n",
      "Unnamed: 0.1  7232.751101  7000.541401  \n",
      "Year          1983.570485  1982.942675  \n",
      "Age             26.559471    26.270701  \n",
      "G               75.806167    73.972930  \n",
      "MP            2432.572687  1886.332803  \n",
      "PER              0.291711     0.282836  \n",
      "TS%              0.550370     0.515570  \n",
      "3PAr             0.028251     0.037766  \n",
      "FTr              0.321667     0.291021  \n",
      "ORB%             5.518282     3.179618  \n",
      "DRB%             9.969163     7.453185  \n",
      "TRB%             7.750661     5.313694  \n",
      "AST%            16.569383    23.733599  \n",
      "STL%             1.818502     2.311783  \n",
      "BLK%             0.731278     0.415127  \n",
      "TOV%            12.136564    17.448408  \n",
      "USG%            25.431278    18.537898  \n",
      "OWS              0.067094     0.025764  \n",
      "DWS              0.031292     0.031927  \n",
      "WS               0.098433     0.057665  \n",
      "WS/48            0.131176     0.076850  \n",
      "OBPM             0.030818    -0.015773  \n",
      "DBPM            -0.017221    -0.015604  \n",
      "BPM              0.013541    -0.031360  \n",
      "VORP             0.029684     0.007410  \n",
      "FG               8.746459     5.665335  \n",
      "FGA             17.668414    12.229226  \n",
      "FG%              0.495960     0.464029  \n",
      "3P               0.143288     0.111995  \n",
      "3PA              0.502271     0.461096  \n",
      "3P%              0.195566     0.170081  \n",
      "2P               8.603172     5.553340  \n",
      "2PA             17.166143    11.768130  \n",
      "2P%              0.502062     0.472777  \n",
      "eFG%             0.499956     0.468562  \n",
      "FT               4.502700     2.715199  \n",
      "FTA              5.617473     3.471700  \n",
      "FT%              0.802253     0.781455  \n",
      "ORB              1.818477     1.046988  \n",
      "DRB              3.290821     2.446863  \n",
      "TRB              5.109299     3.493851  \n",
      "AST              3.960528     6.279538  \n",
      "STL              1.399495     1.777446  \n",
      "BLK              0.472472     0.267609  \n",
      "TOV              2.772157     2.864233  \n",
      "PF               3.039756     3.371165  \n",
      "PTS             22.138906    14.157864  \n",
      "height         197.680617   189.780255  \n",
      "weight          90.709251    81.859873  \n",
      "cluster_ID       5.000000     6.000000  \n"
     ]
    }
   ],
   "source": [
    "##Concatenate the seven dataframes along axis =1 using the index from c1means\n",
    "summary = pd.concat([c1means, c2means, c3means, c4means, c5means, c6means, c7means], axis=1, join_axes = [c1means.index])\n",
    "\n",
    "## Assign column names to the dataframe summary\n",
    "summary.columns = ['Cluster_1', 'Cluster_2', 'Cluster_3', 'Cluster_4', 'Cluster_5', 'Cluster_6', 'Cluster_7']\n",
    "print(summary)"
   ]
  },
  {
   "cell_type": "markdown",
   "metadata": {},
   "source": [
    "### Extra things to notice for each cluster:\n",
    "\n",
    "#### Cluster_1: G(games played) and MP(minutes played) is signifcantly lower than other clusters\n",
    "#### Cluster_2: one of the groups that are tallest and heaviest among all, and played longest time\n",
    "#### Cluster_5: one of the group played longest time, has the highest USG%(usage rate), which means take the most percentage of team plays while he on the floor.\n",
    "#### Cluster_7: one of the groups that are tallest and heaviest among all, but played shortest time"
   ]
  },
  {
   "cell_type": "markdown",
   "metadata": {},
   "source": [
    "### Observation so far for pre1990s players\n",
    "\n",
    "#### Cluster_1: small players who don't shoot much, have limited playing minutes\n",
    "#### Cluster_2: big players who's relatively strong at mid-range and drawing free throws, particularly strong in getting rebounds and blocks, play long minutes\n",
    "#### Cluster_3: small players who particularly strong at distant-range, relatively strong in assist and steal \n",
    "#### Cluster_4: small players have well rounded shooting options, particularly strong in assist and steal\n",
    "#### Cluster_5: medium players particularly strong at mid-range and drawing free throws, take longest playing minutes, and most team plays\n",
    "#### Cluster_6: big players have well rounded shooting options, average in all areas\n",
    "#### Cluster_7: big players who shoot very few, particularly strong in block and rebound, getting fouls, have limited playing time"
   ]
  },
  {
   "cell_type": "markdown",
   "metadata": {},
   "source": [
    "## Who are in each clusters"
   ]
  },
  {
   "cell_type": "markdown",
   "metadata": {},
   "source": [
    "We can also understand the character of each cluster by selecting prominent players in each cluster. Here I use minutes played(MP) as the criteria for elite players, since usually the elite players are given more opportunites to carry the game. "
   ]
  },
  {
   "cell_type": "markdown",
   "metadata": {},
   "source": [
    "### 1. Well-rounded small players with limited playing time"
   ]
  },
  {
   "cell_type": "code",
   "execution_count": 609,
   "metadata": {},
   "outputs": [
    {
     "data": {
      "text/plain": [
       "array(['Kareem Abdul-Jabbar', 'Brad Daugherty', 'Terry Tyler',\n",
       "       'Jerome Kersey', 'Jack Sikma', 'James Donaldson',\n",
       "       'Jerome Whitehead', 'Steve Johnson', 'Dan Roundfield',\n",
       "       'Tree Rollins', 'Buck Williams', 'Bill Robinzine', 'Gene Banks',\n",
       "       'Dave Greenwood', 'A.C. Green', 'Artis Gilmore', 'Kenny Carr',\n",
       "       'Billy Paultz', 'Bill Cartwright', 'Robert Parish', 'Tom Owens',\n",
       "       'Patrick Ewing', 'Swen Nater', 'Steve Mix', 'Terry Cummings',\n",
       "       'Mike Gminski', 'George McGinnis', 'Mychal Thompson',\n",
       "       'Cedric Maxwell', 'Bill Laimbeer', 'Alton Lister', 'Bob Lanier',\n",
       "       'Hakeem Olajuwon', 'Frank Brickowski', 'Alvan Adams',\n",
       "       'Maurice Lucas', 'Larry Nance', 'Moses Malone', 'Michael Cage',\n",
       "       'Kevin McHale', 'Calvin Natt', 'Kermit Washington', 'Rodney McCray',\n",
       "       'Tim McCormick', 'Wes Unseld', 'Jeff Ruland', 'Karl Malone',\n",
       "       'Tyrone Corbin', 'Cliff Levingston', 'Benoit Benjamin',\n",
       "       'Darryl Dawkins', 'Herb Williams', 'Ed Nealy', 'James Edwards',\n",
       "       'Kurt Rambis', 'Bill Walton', 'Melvin Turpin', 'Larry Smith',\n",
       "       'Otis Thorpe', 'LaSalle Thompson', 'Danny Schayes', 'Ralph Sampson',\n",
       "       'Tom Boswell', 'Grant Long', 'Kent Benson', 'Sam Williams',\n",
       "       'Joe Meriweather', 'Sam Lacey', 'Mitch Kupchak', 'Bill Garnett',\n",
       "       'Rich Kelley', 'Bobby Jones', 'Clemon Johnson', 'Charles Barkley',\n",
       "       'Dan Issel', 'Magic Johnson', 'Dave Hoppen', 'Edgar Jones',\n",
       "       'Elvin Hayes', 'Greg Kelser', 'Kevin Duckworth', 'Reggie King',\n",
       "       'Dennis Rodman', 'John Salley', 'Mark Landsberger', 'Steve Hawes',\n",
       "       'Paul Griffin', 'Rick Mahorn', 'Charles Oakley', 'Dave Corzine',\n",
       "       'John Shumate', 'Lonnie Shelton', 'Dave Robisch', 'Truck Robinson',\n",
       "       'Leon Douglas', 'Rick Robey', 'Sidney Moncrief', 'Antoine Carr',\n",
       "       'Wayman Tisdale', 'Steve Stipanovich', 'Hot Rod', 'Ed Pinckney',\n",
       "       'Marques Johnson', 'Mickey Johnson', 'Mark West', 'Larry Bird',\n",
       "       'James Bailey', 'Mark Olberding', 'Roy Tarpley', 'Kevin Willis',\n",
       "       'Orlando Woolridge', 'Bob McAdoo', 'James Worthy', 'Roy Hinson',\n",
       "       'Jon Koncak', 'Clifford Ray', 'Clark Kellogg', 'Charles Jones',\n",
       "       'Dave Cowens', 'Bob Gross', 'Randy Breuer', 'Rik Smits',\n",
       "       'Sam Bowie', 'Phil Hubbard', 'Sam Perkins', 'Marvin Webster',\n",
       "       'Elmore Smith'], dtype=object)"
      ]
     },
     "execution_count": 609,
     "metadata": {},
     "output_type": "execute_result"
    }
   ],
   "source": [
    "cluster1.loc[cluster1['MP'] >= 1200]['Player'].unique()"
   ]
  },
  {
   "cell_type": "code",
   "execution_count": 610,
   "metadata": {},
   "outputs": [
    {
     "data": {
      "image/png": "[encoded data removed]",
      "text/plain": [
       "<matplotlib.figure.Figure at 0x1a2c467f90>"
      ]
     },
     "metadata": {},
     "output_type": "display_data"
    }
   ],
   "source": [
    "import seaborn as sns\n",
    "sns.set(style=\"darkgrid\")\n",
    "ax = sns.countplot(x=\"Pos\", data=cluster1, order=[\"PG\", \"SG\", \"SF\",\"PF\",\"C\"])"
   ]
  },
  {
   "cell_type": "markdown",
   "metadata": {},
   "source": [
    "### 2. Elite big man with all traits"
   ]
  },
  {
   "cell_type": "code",
   "execution_count": 611,
   "metadata": {
    "scrolled": true
   },
   "outputs": [
    {
     "data": {
      "text/plain": [
       "array(['Rick Mahorn'], dtype=object)"
      ]
     },
     "execution_count": 611,
     "metadata": {},
     "output_type": "execute_result"
    }
   ],
   "source": [
    "cluster2.loc[cluster2['MP'] >= 3000]['Player'].unique()"
   ]
  },
  {
   "cell_type": "markdown",
   "metadata": {},
   "source": [
    "Since we also want to explore the relationship between the traditional way of clustering players which is according to the position, with our new method, I will also use bar plot to observe the distribution of player position within each cluster."
   ]
  },
  {
   "cell_type": "code",
   "execution_count": 612,
   "metadata": {},
   "outputs": [
    {
     "data": {
      "image/png": "[encoded data removed]",
      "text/plain": [
       "<matplotlib.figure.Figure at 0x1a281fe290>"
      ]
     },
     "metadata": {},
     "output_type": "display_data"
    }
   ],
   "source": [
    "ax = sns.countplot(x=\"Pos\", data=cluster2,order=[\"PG\", \"SG\", \"SF\",\"PF\",\"C\"])"
   ]
  },
  {
   "cell_type": "markdown",
   "metadata": {},
   "source": [
    "### 3. Distant range shooter"
   ]
  },
  {
   "cell_type": "code",
   "execution_count": 613,
   "metadata": {},
   "outputs": [
    {
     "data": {
      "text/plain": [
       "array([], dtype=object)"
      ]
     },
     "execution_count": 613,
     "metadata": {},
     "output_type": "execute_result"
    }
   ],
   "source": [
    "cluster3.loc[cluster3['MP'] >= 2500]['Player'].unique()"
   ]
  },
  {
   "cell_type": "code",
   "execution_count": 614,
   "metadata": {},
   "outputs": [
    {
     "data": {
      "image/png": "[encoded data removed]",
      "text/plain": [
       "<matplotlib.figure.Figure at 0x10c8b6490>"
      ]
     },
     "metadata": {},
     "output_type": "display_data"
    }
   ],
   "source": [
    "ax = sns.countplot(x=\"Pos\", data=cluster3,order=[\"PG\", \"SG\", \"SF\",\"PF\",\"C\"])"
   ]
  },
  {
   "cell_type": "markdown",
   "metadata": {},
   "source": [
    "### 4. Small players with all traits"
   ]
  },
  {
   "cell_type": "code",
   "execution_count": 615,
   "metadata": {},
   "outputs": [
    {
     "data": {
      "text/plain": [
       "array(['Joe Barry', 'Rodney McCray', 'Xavier McDaniel', 'Jim Chones',\n",
       "       'Dave Corzine', 'Mychal Thompson', 'Mike Bantom', 'Greg Ballard',\n",
       "       'Terry Tyler', 'Elvin Hayes', 'Mickey Johnson', 'Truck Robinson',\n",
       "       'Sam Perkins', 'Dave Greenwood', 'Ken Norman', 'Rick Mahorn',\n",
       "       'Jack Sikma', 'Mike Mitchell', 'Reggie King', 'Charles Oakley',\n",
       "       'Mike Gminski', 'Rudy Tomjanovich', 'Sonny Parker',\n",
       "       'Nick Weatherspoon', 'Robert Reid', 'Lonnie Shelton',\n",
       "       'Tom Chambers', 'Calvin Natt', 'Michael Brooks', 'Chuck Person',\n",
       "       'Clark Kellogg', 'Kevin Duckworth', 'Larry Kenon', 'Dennis Johnson',\n",
       "       'Jerome Kersey', 'Alex English', 'Cliff Robinson', 'Tom LaGarde',\n",
       "       'T.R. Dunn', 'Toby Knight', 'Horace Grant'], dtype=object)"
      ]
     },
     "execution_count": 615,
     "metadata": {},
     "output_type": "execute_result"
    }
   ],
   "source": [
    "cluster4.loc[cluster4['MP'] >= 2600]['Player'].unique()"
   ]
  },
  {
   "cell_type": "code",
   "execution_count": 616,
   "metadata": {},
   "outputs": [
    {
     "data": {
      "image/png": "[encoded data removed]",
      "text/plain": [
       "<matplotlib.figure.Figure at 0x1a281fedd0>"
      ]
     },
     "metadata": {},
     "output_type": "display_data"
    }
   ],
   "source": [
    "ax = sns.countplot(x=\"Pos\", data=cluster4,order=[\"PG\", \"SG\", \"SF\",\"PF\",\"C\"])"
   ]
  },
  {
   "cell_type": "markdown",
   "metadata": {},
   "source": [
    "### 5. Middle man that carried the team"
   ]
  },
  {
   "cell_type": "code",
   "execution_count": 617,
   "metadata": {},
   "outputs": [
    {
     "data": {
      "text/plain": [
       "array(['Danny Ainge', 'Derek Harper', 'Chuck Person', 'Dale Ellis',\n",
       "       'Sleepy Floyd', 'Terry Porter'], dtype=object)"
      ]
     },
     "execution_count": 617,
     "metadata": {},
     "output_type": "execute_result"
    }
   ],
   "source": [
    "cluster5.loc[cluster5['MP'] >= 2800]['Player'].unique()"
   ]
  },
  {
   "cell_type": "code",
   "execution_count": 618,
   "metadata": {},
   "outputs": [
    {
     "data": {
      "image/png": "[encoded data removed]",
      "text/plain": [
       "<matplotlib.figure.Figure at 0x1a2e0a0d50>"
      ]
     },
     "metadata": {},
     "output_type": "display_data"
    }
   ],
   "source": [
    "ax = sns.countplot(x=\"Pos\", data=cluster5,order=[\"PG\", \"SG\", \"SF\",\"PF\",\"C\"])"
   ]
  },
  {
   "cell_type": "markdown",
   "metadata": {},
   "source": [
    "### 6. Well-rounded big man"
   ]
  },
  {
   "cell_type": "code",
   "execution_count": 619,
   "metadata": {},
   "outputs": [
    {
     "data": {
      "text/plain": [
       "array(['Mark Aguirre', 'Adrian Dantley', 'Reggie Theus', 'James Worthy',\n",
       "       'Dominique Wilkins', 'Gerald Wilkins', 'Jerome Kersey',\n",
       "       'Michael Jordan', 'David Thompson', 'Ray Williams', 'Jamaal Wilkes',\n",
       "       'Scott Wedman', 'Magic Johnson', 'Orlando Woolridge', 'Larry Bird',\n",
       "       'Alex English', 'Dan Issel', 'Dennis Johnson', 'Eddie Johnson',\n",
       "       'George Gervin', 'Clyde Drexler', 'Bernard King', 'Terry Cummings',\n",
       "       'Tom Chambers', 'Mike Mitchell', 'Julius Erving', 'Mike Newlin',\n",
       "       'Jim Paxson', 'Darrell Griffith', 'Thurl Bailey', 'Greg Ballard',\n",
       "       'Ron Harper', 'Joe Barry', 'Gus Williams', 'Dale Ellis',\n",
       "       'Rolando Blackman', 'World B.', 'Walter Davis', 'Larry Drew',\n",
       "       'Jay Vincent', 'Kiki Vandeweghe', 'Alvin Robertson', 'Isiah Thomas',\n",
       "       'Johnny Davis', 'Kelly Tripucka', 'Fat Lever', 'Jeff Malone',\n",
       "       'Xavier McDaniel', 'Sidney Moncrief', 'Bob Dandridge', 'M.L. Carr',\n",
       "       'Reggie Lewis', 'Otis Birdsong', 'Brian Winters', 'Austin Carr',\n",
       "       'Calvin Murphy', 'Larry Kenon', 'Marques Johnson', 'Kevin Johnson',\n",
       "       'John Williamson', 'Derrick McKey', 'Doug Collins', 'Rick Barry',\n",
       "       'Chris Mullin', 'Randy Smith', 'Phil Smith', 'Mitch Richmond',\n",
       "       'Campy Russell', 'Toby Knight', 'Byron Scott', 'Mickey Johnson',\n",
       "       'Paul Westphal', 'Ron Anderson', 'Willie Anderson', 'Calvin Natt',\n",
       "       'Purvis Short', 'Paul Pressey', 'Micheal Ray',\n",
       "       'Kareem Abdul-Jabbar', 'Derek Smith'], dtype=object)"
      ]
     },
     "execution_count": 619,
     "metadata": {},
     "output_type": "execute_result"
    }
   ],
   "source": [
    "cluster6.loc[cluster6['MP'] >= 2600]['Player'].unique()"
   ]
  },
  {
   "cell_type": "code",
   "execution_count": 620,
   "metadata": {},
   "outputs": [
    {
     "data": {
      "image/png": "[encoded data removed]",
      "text/plain": [
       "<matplotlib.figure.Figure at 0x1a2a0400d0>"
      ]
     },
     "metadata": {},
     "output_type": "display_data"
    }
   ],
   "source": [
    "ax = sns.countplot(x=\"Pos\", data=cluster6,order=[\"PG\", \"SG\", \"SF\",\"PF\",\"C\"])"
   ]
  },
  {
   "cell_type": "markdown",
   "metadata": {},
   "source": [
    "### 7. Defensive big man who does the phyical work"
   ]
  },
  {
   "cell_type": "code",
   "execution_count": 621,
   "metadata": {},
   "outputs": [
    {
     "data": {
      "text/plain": [
       "array(['Ricky Sobers', 'Bob Wilkerson', 'Otis Birdsong', 'Maurice Cheeks',\n",
       "       'John Bagley', 'Lester Conner', 'Danny Ainge', 'Jo Jo',\n",
       "       'Charlie Scott', 'Reggie Theus', 'M.L. Carr', 'Tiny Archibald',\n",
       "       'Armond Hill', 'Terry Furlow', 'Rory Sparrow', 'John Stockton',\n",
       "       'John Lucas', 'Allen Leavell', 'Doc Rivers', 'Eddie Jordan',\n",
       "       'Kenny Smith', 'Jerry Sichting', 'John Johnson', 'Sleepy Floyd',\n",
       "       'Vern Fleming', 'Phil Ford', 'Joe Dumars', 'Ennis Whatley',\n",
       "       'Ron Brewer', 'Dudley Bradley', 'Ron Boone', 'Gus Williams',\n",
       "       'Darwin Cook', 'Ray Williams', 'Henry Bibby', 'Rob Williams',\n",
       "       'Don Buse', 'Larry Drew', 'Johnny Davis', 'Michael Cooper',\n",
       "       'Randy Wittman', 'Kevin Porter', 'Fat Lever', 'Ron Lee',\n",
       "       'Dennis Johnson', 'Brian Shaw', 'Lou Hudson', 'Lionel Hollins',\n",
       "       'Jim McMillian', 'Alvin Robertson', 'Eric Money', 'Jim Thomas',\n",
       "       'Wilbur Holland', 'Jim Price', 'Paul Pressey', 'Norm Nixon',\n",
       "       'Earl Tatum', 'Tom Henderson', 'Louie Dampier', 'Charlie Criss',\n",
       "       'Jim Cleamons', 'Austin Carr', 'Quinn Buckner', 'Dave Bing',\n",
       "       'Butch Beard', 'Lucius Allen', 'Johnny Moore', 'Darrell Walker',\n",
       "       'John Havlicek', 'Gail Goodrich', 'Isiah Thomas', 'Mike Gale',\n",
       "       'Chris Ford', 'Norm Van', 'Kelvin Ransey', 'Kevin Edwards',\n",
       "       'Winston Garland', 'Gary Grant', 'Jim McElroy', 'Rick Barry',\n",
       "       'Chuck Williams', 'Nate McMillan', 'Eddie Johnson', 'Foots Walker',\n",
       "       'Jay Humphries', 'Rickey Green', 'Derek Harper', 'Gerald Henderson',\n",
       "       'Darnell Valentine', 'Kyle Macy', 'Ronnie Lester', 'Frank Johnson',\n",
       "       'Geoff Huston', 'Terry Porter', 'Billy McKinney', 'Phil Smith',\n",
       "       'Campy Russell', 'Micheal Ray', 'Bill Hanzlik', 'Joe Bryant',\n",
       "       'Allan Bristow', 'Kevin Grevey', 'Brad Davis', 'Paul Westphal',\n",
       "       'Randy Smith', 'Quintin Dailey', 'Craig Hodges', 'Tony Brown',\n",
       "       'Lorenzo Romar', 'Elston Turner', 'John Long', 'Gerald Wilkins',\n",
       "       'Clint Richardson', 'Mark Jackson', 'Kevin Johnson',\n",
       "       'Vinnie Johnson', 'Jeff Hornacek', 'Bingo Smith', 'Bob Hansen',\n",
       "       'Brian Winters', 'Jan Van', 'Jeff Malone', 'Butch Carter',\n",
       "       'Keith Herron', 'Wes Matthews', 'Johnny Dawkins'], dtype=object)"
      ]
     },
     "execution_count": 621,
     "metadata": {},
     "output_type": "execute_result"
    }
   ],
   "source": [
    "cluster7.loc[cluster7['MP'] >= 1900]['Player'].unique()"
   ]
  },
  {
   "cell_type": "code",
   "execution_count": 622,
   "metadata": {},
   "outputs": [
    {
     "data": {
      "image/png": "[encoded data removed]",
      "text/plain": [
       "<matplotlib.figure.Figure at 0x1142c8690>"
      ]
     },
     "metadata": {},
     "output_type": "display_data"
    }
   ],
   "source": [
    "ax = sns.countplot(x=\"Pos\", data=cluster7,order=[\"PG\", \"SG\", \"SF\",\"PF\",\"C\"])"
   ]
  },
  {
   "cell_type": "code",
   "execution_count": 632,
   "metadata": {
    "scrolled": true
   },
   "outputs": [
    {
     "data": {
      "image/png": "[encoded data removed]",
      "text/plain": [
       "<matplotlib.figure.Figure at 0x1a26165f50>"
      ]
     },
     "metadata": {},
     "output_type": "display_data"
    }
   ],
   "source": [
    "import seaborn as sns\n",
    "sns.set(style=\"darkgrid\")\n",
    "ax = sns.countplot(x=\"cluster_ID\", data=pre90s_all_cluster_sort, order=[0, 1, 2, 3, 4, 5, 6])"
   ]
  },
  {
   "cell_type": "code",
   "execution_count": 627,
   "metadata": {},
   "outputs": [
    {
     "data": {
      "text/html": [
       "<div>\n",
       "<style scoped>\n",
       "    .dataframe tbody tr th:only-of-type {\n",
       "        vertical-align: middle;\n",
       "    }\n",
       "\n",
       "    .dataframe tbody tr th {\n",
       "        vertical-align: top;\n",
       "    }\n",
       "\n",
       "    .dataframe thead th {\n",
       "        text-align: right;\n",
       "    }\n",
       "</style>\n",
       "<table border=\"1\" class=\"dataframe\">\n",
       "  <thead>\n",
       "    <tr style=\"text-align: right;\">\n",
       "      <th></th>\n",
       "      <th>Unnamed: 0</th>\n",
       "      <th>Unnamed: 0.1</th>\n",
       "      <th>Year</th>\n",
       "      <th>Player</th>\n",
       "      <th>Pos</th>\n",
       "      <th>Age</th>\n",
       "      <th>Tm</th>\n",
       "      <th>G</th>\n",
       "      <th>MP</th>\n",
       "      <th>PER</th>\n",
       "      <th>...</th>\n",
       "      <th>TRB</th>\n",
       "      <th>AST</th>\n",
       "      <th>STL</th>\n",
       "      <th>BLK</th>\n",
       "      <th>TOV</th>\n",
       "      <th>PF</th>\n",
       "      <th>PTS</th>\n",
       "      <th>height</th>\n",
       "      <th>weight</th>\n",
       "      <th>cluster_ID</th>\n",
       "    </tr>\n",
       "  </thead>\n",
       "  <tbody>\n",
       "    <tr>\n",
       "      <th>0</th>\n",
       "      <td>3218</td>\n",
       "      <td>5010</td>\n",
       "      <td>1978</td>\n",
       "      <td>Kareem Abdul-Jabbar</td>\n",
       "      <td>C</td>\n",
       "      <td>30</td>\n",
       "      <td>LAL</td>\n",
       "      <td>62</td>\n",
       "      <td>2265.0</td>\n",
       "      <td>0.464106</td>\n",
       "      <td>...</td>\n",
       "      <td>12.731126</td>\n",
       "      <td>4.275497</td>\n",
       "      <td>1.637086</td>\n",
       "      <td>2.940397</td>\n",
       "      <td>3.305960</td>\n",
       "      <td>2.892715</td>\n",
       "      <td>25.430464</td>\n",
       "      <td>218.0</td>\n",
       "      <td>102.0</td>\n",
       "      <td>0</td>\n",
       "    </tr>\n",
       "    <tr>\n",
       "      <th>2852</th>\n",
       "      <td>6081</td>\n",
       "      <td>9189</td>\n",
       "      <td>1989</td>\n",
       "      <td>Brad Daugherty</td>\n",
       "      <td>C</td>\n",
       "      <td>23</td>\n",
       "      <td>CLE</td>\n",
       "      <td>78</td>\n",
       "      <td>2821.0</td>\n",
       "      <td>0.236086</td>\n",
       "      <td>...</td>\n",
       "      <td>9.162708</td>\n",
       "      <td>3.637008</td>\n",
       "      <td>0.803970</td>\n",
       "      <td>0.510457</td>\n",
       "      <td>2.935129</td>\n",
       "      <td>2.233251</td>\n",
       "      <td>18.823112</td>\n",
       "      <td>213.0</td>\n",
       "      <td>111.0</td>\n",
       "      <td>0</td>\n",
       "    </tr>\n",
       "    <tr>\n",
       "      <th>1219</th>\n",
       "      <td>4442</td>\n",
       "      <td>6778</td>\n",
       "      <td>1982</td>\n",
       "      <td>Terry Tyler</td>\n",
       "      <td>PF</td>\n",
       "      <td>25</td>\n",
       "      <td>DET</td>\n",
       "      <td>82</td>\n",
       "      <td>1989.0</td>\n",
       "      <td>0.305882</td>\n",
       "      <td>...</td>\n",
       "      <td>8.923077</td>\n",
       "      <td>2.280543</td>\n",
       "      <td>1.393665</td>\n",
       "      <td>2.895928</td>\n",
       "      <td>2.190045</td>\n",
       "      <td>3.294118</td>\n",
       "      <td>14.751131</td>\n",
       "      <td>201.0</td>\n",
       "      <td>97.0</td>\n",
       "      <td>0</td>\n",
       "    </tr>\n",
       "    <tr>\n",
       "      <th>2391</th>\n",
       "      <td>5618</td>\n",
       "      <td>8472</td>\n",
       "      <td>1987</td>\n",
       "      <td>Jerome Kersey</td>\n",
       "      <td>SF</td>\n",
       "      <td>24</td>\n",
       "      <td>POR</td>\n",
       "      <td>82</td>\n",
       "      <td>2088.0</td>\n",
       "      <td>0.291379</td>\n",
       "      <td>...</td>\n",
       "      <td>8.551724</td>\n",
       "      <td>3.344828</td>\n",
       "      <td>2.103448</td>\n",
       "      <td>1.327586</td>\n",
       "      <td>2.568966</td>\n",
       "      <td>5.655172</td>\n",
       "      <td>17.396552</td>\n",
       "      <td>201.0</td>\n",
       "      <td>97.0</td>\n",
       "      <td>0</td>\n",
       "    </tr>\n",
       "    <tr>\n",
       "      <th>445</th>\n",
       "      <td>3664</td>\n",
       "      <td>5657</td>\n",
       "      <td>1979</td>\n",
       "      <td>Jack Sikma</td>\n",
       "      <td>C</td>\n",
       "      <td>23</td>\n",
       "      <td>SEA</td>\n",
       "      <td>82</td>\n",
       "      <td>2958.0</td>\n",
       "      <td>0.198377</td>\n",
       "      <td>...</td>\n",
       "      <td>12.328600</td>\n",
       "      <td>3.176471</td>\n",
       "      <td>0.997972</td>\n",
       "      <td>0.815416</td>\n",
       "      <td>3.079108</td>\n",
       "      <td>3.590264</td>\n",
       "      <td>15.590264</td>\n",
       "      <td>211.0</td>\n",
       "      <td>104.0</td>\n",
       "      <td>0</td>\n",
       "    </tr>\n",
       "    <tr>\n",
       "      <th>2857</th>\n",
       "      <td>6086</td>\n",
       "      <td>9200</td>\n",
       "      <td>1989</td>\n",
       "      <td>James Donaldson</td>\n",
       "      <td>C</td>\n",
       "      <td>31</td>\n",
       "      <td>DAL</td>\n",
       "      <td>53</td>\n",
       "      <td>1746.0</td>\n",
       "      <td>0.292784</td>\n",
       "      <td>...</td>\n",
       "      <td>11.752577</td>\n",
       "      <td>0.783505</td>\n",
       "      <td>0.494845</td>\n",
       "      <td>1.670103</td>\n",
       "      <td>1.711340</td>\n",
       "      <td>2.288660</td>\n",
       "      <td>9.917526</td>\n",
       "      <td>218.0</td>\n",
       "      <td>124.0</td>\n",
       "      <td>0</td>\n",
       "    </tr>\n",
       "    <tr>\n",
       "      <th>1230</th>\n",
       "      <td>4453</td>\n",
       "      <td>6792</td>\n",
       "      <td>1982</td>\n",
       "      <td>Jerome Whitehead</td>\n",
       "      <td>C</td>\n",
       "      <td>25</td>\n",
       "      <td>SDC</td>\n",
       "      <td>72</td>\n",
       "      <td>2214.0</td>\n",
       "      <td>0.271545</td>\n",
       "      <td>...</td>\n",
       "      <td>10.796748</td>\n",
       "      <td>1.658537</td>\n",
       "      <td>0.780488</td>\n",
       "      <td>0.715447</td>\n",
       "      <td>2.292683</td>\n",
       "      <td>4.715447</td>\n",
       "      <td>16.195122</td>\n",
       "      <td>208.0</td>\n",
       "      <td>99.0</td>\n",
       "      <td>0</td>\n",
       "    </tr>\n",
       "    <tr>\n",
       "      <th>2384</th>\n",
       "      <td>5610</td>\n",
       "      <td>8462</td>\n",
       "      <td>1987</td>\n",
       "      <td>Steve Johnson</td>\n",
       "      <td>C</td>\n",
       "      <td>29</td>\n",
       "      <td>POR</td>\n",
       "      <td>79</td>\n",
       "      <td>2345.0</td>\n",
       "      <td>0.231812</td>\n",
       "      <td>...</td>\n",
       "      <td>8.689126</td>\n",
       "      <td>2.379531</td>\n",
       "      <td>0.752239</td>\n",
       "      <td>1.166738</td>\n",
       "      <td>4.237100</td>\n",
       "      <td>5.219616</td>\n",
       "      <td>20.417910</td>\n",
       "      <td>203.0</td>\n",
       "      <td>99.0</td>\n",
       "      <td>0</td>\n",
       "    </tr>\n",
       "    <tr>\n",
       "      <th>436</th>\n",
       "      <td>3655</td>\n",
       "      <td>5643</td>\n",
       "      <td>1979</td>\n",
       "      <td>Dan Roundfield</td>\n",
       "      <td>PF</td>\n",
       "      <td>25</td>\n",
       "      <td>ATL</td>\n",
       "      <td>80</td>\n",
       "      <td>2539.0</td>\n",
       "      <td>0.275069</td>\n",
       "      <td>...</td>\n",
       "      <td>12.264671</td>\n",
       "      <td>1.857424</td>\n",
       "      <td>1.233557</td>\n",
       "      <td>2.495471</td>\n",
       "      <td>2.963371</td>\n",
       "      <td>5.076014</td>\n",
       "      <td>17.354864</td>\n",
       "      <td>203.0</td>\n",
       "      <td>92.0</td>\n",
       "      <td>0</td>\n",
       "    </tr>\n",
       "    <tr>\n",
       "      <th>435</th>\n",
       "      <td>3654</td>\n",
       "      <td>5642</td>\n",
       "      <td>1979</td>\n",
       "      <td>Tree Rollins</td>\n",
       "      <td>C</td>\n",
       "      <td>23</td>\n",
       "      <td>ATL</td>\n",
       "      <td>81</td>\n",
       "      <td>1900.0</td>\n",
       "      <td>0.327789</td>\n",
       "      <td>...</td>\n",
       "      <td>11.141053</td>\n",
       "      <td>0.928421</td>\n",
       "      <td>0.871579</td>\n",
       "      <td>4.812632</td>\n",
       "      <td>1.648421</td>\n",
       "      <td>6.214737</td>\n",
       "      <td>12.941053</td>\n",
       "      <td>216.0</td>\n",
       "      <td>106.0</td>\n",
       "      <td>0</td>\n",
       "    </tr>\n",
       "    <tr>\n",
       "      <th>1236</th>\n",
       "      <td>4459</td>\n",
       "      <td>6799</td>\n",
       "      <td>1982</td>\n",
       "      <td>Buck Williams</td>\n",
       "      <td>PF</td>\n",
       "      <td>21</td>\n",
       "      <td>NJN</td>\n",
       "      <td>82</td>\n",
       "      <td>2825.0</td>\n",
       "      <td>0.219186</td>\n",
       "      <td>...</td>\n",
       "      <td>12.807080</td>\n",
       "      <td>1.363540</td>\n",
       "      <td>1.070442</td>\n",
       "      <td>1.070442</td>\n",
       "      <td>2.994690</td>\n",
       "      <td>3.631858</td>\n",
       "      <td>16.158584</td>\n",
       "      <td>203.0</td>\n",
       "      <td>97.0</td>\n",
       "      <td>0</td>\n",
       "    </tr>\n",
       "    <tr>\n",
       "      <th>433</th>\n",
       "      <td>3652</td>\n",
       "      <td>5640</td>\n",
       "      <td>1979</td>\n",
       "      <td>Bill Robinzine</td>\n",
       "      <td>PF</td>\n",
       "      <td>26</td>\n",
       "      <td>KCK</td>\n",
       "      <td>82</td>\n",
       "      <td>2179.0</td>\n",
       "      <td>0.270950</td>\n",
       "      <td>...</td>\n",
       "      <td>10.540615</td>\n",
       "      <td>1.718219</td>\n",
       "      <td>1.734741</td>\n",
       "      <td>0.247820</td>\n",
       "      <td>2.957320</td>\n",
       "      <td>6.063332</td>\n",
       "      <td>18.140431</td>\n",
       "      <td>201.0</td>\n",
       "      <td>104.0</td>\n",
       "      <td>0</td>\n",
       "    </tr>\n",
       "    <tr>\n",
       "      <th>1250</th>\n",
       "      <td>4473</td>\n",
       "      <td>6823</td>\n",
       "      <td>1983</td>\n",
       "      <td>Kareem Abdul-Jabbar</td>\n",
       "      <td>C</td>\n",
       "      <td>35</td>\n",
       "      <td>LAL</td>\n",
       "      <td>79</td>\n",
       "      <td>2554.0</td>\n",
       "      <td>0.332655</td>\n",
       "      <td>...</td>\n",
       "      <td>8.344558</td>\n",
       "      <td>2.819107</td>\n",
       "      <td>0.859828</td>\n",
       "      <td>2.396241</td>\n",
       "      <td>2.819107</td>\n",
       "      <td>3.101018</td>\n",
       "      <td>24.272514</td>\n",
       "      <td>218.0</td>\n",
       "      <td>102.0</td>\n",
       "      <td>0</td>\n",
       "    </tr>\n",
       "    <tr>\n",
       "      <th>1262</th>\n",
       "      <td>4485</td>\n",
       "      <td>6838</td>\n",
       "      <td>1983</td>\n",
       "      <td>Gene Banks</td>\n",
       "      <td>PF</td>\n",
       "      <td>23</td>\n",
       "      <td>SAS</td>\n",
       "      <td>81</td>\n",
       "      <td>2722.0</td>\n",
       "      <td>0.220867</td>\n",
       "      <td>...</td>\n",
       "      <td>8.094048</td>\n",
       "      <td>3.689934</td>\n",
       "      <td>1.031594</td>\n",
       "      <td>0.277737</td>\n",
       "      <td>2.261572</td>\n",
       "      <td>3.028655</td>\n",
       "      <td>15.950037</td>\n",
       "      <td>201.0</td>\n",
       "      <td>97.0</td>\n",
       "      <td>0</td>\n",
       "    </tr>\n",
       "    <tr>\n",
       "      <th>2362</th>\n",
       "      <td>5588</td>\n",
       "      <td>8424</td>\n",
       "      <td>1987</td>\n",
       "      <td>Dave Greenwood</td>\n",
       "      <td>PF</td>\n",
       "      <td>29</td>\n",
       "      <td>SAS</td>\n",
       "      <td>79</td>\n",
       "      <td>2587.0</td>\n",
       "      <td>0.211519</td>\n",
       "      <td>...</td>\n",
       "      <td>10.896019</td>\n",
       "      <td>3.298029</td>\n",
       "      <td>0.988017</td>\n",
       "      <td>0.695787</td>\n",
       "      <td>2.240433</td>\n",
       "      <td>3.451102</td>\n",
       "      <td>12.746811</td>\n",
       "      <td>206.0</td>\n",
       "      <td>100.0</td>\n",
       "      <td>0</td>\n",
       "    </tr>\n",
       "    <tr>\n",
       "      <th>2359</th>\n",
       "      <td>5585</td>\n",
       "      <td>8420</td>\n",
       "      <td>1987</td>\n",
       "      <td>A.C. Green</td>\n",
       "      <td>PF</td>\n",
       "      <td>23</td>\n",
       "      <td>LAL</td>\n",
       "      <td>79</td>\n",
       "      <td>2240.0</td>\n",
       "      <td>0.252321</td>\n",
       "      <td>...</td>\n",
       "      <td>9.883929</td>\n",
       "      <td>1.350000</td>\n",
       "      <td>1.125000</td>\n",
       "      <td>1.285714</td>\n",
       "      <td>1.639286</td>\n",
       "      <td>2.748214</td>\n",
       "      <td>13.692857</td>\n",
       "      <td>203.0</td>\n",
       "      <td>106.0</td>\n",
       "      <td>0</td>\n",
       "    </tr>\n",
       "    <tr>\n",
       "      <th>2354</th>\n",
       "      <td>5580</td>\n",
       "      <td>8413</td>\n",
       "      <td>1987</td>\n",
       "      <td>Artis Gilmore</td>\n",
       "      <td>C</td>\n",
       "      <td>37</td>\n",
       "      <td>SAS</td>\n",
       "      <td>82</td>\n",
       "      <td>2405.0</td>\n",
       "      <td>0.212557</td>\n",
       "      <td>...</td>\n",
       "      <td>8.666944</td>\n",
       "      <td>2.245322</td>\n",
       "      <td>0.583784</td>\n",
       "      <td>1.422037</td>\n",
       "      <td>2.664449</td>\n",
       "      <td>3.517672</td>\n",
       "      <td>13.980873</td>\n",
       "      <td>218.0</td>\n",
       "      <td>108.0</td>\n",
       "      <td>0</td>\n",
       "    </tr>\n",
       "    <tr>\n",
       "      <th>1282</th>\n",
       "      <td>4505</td>\n",
       "      <td>6866</td>\n",
       "      <td>1983</td>\n",
       "      <td>Kenny Carr</td>\n",
       "      <td>PF</td>\n",
       "      <td>27</td>\n",
       "      <td>POR</td>\n",
       "      <td>82</td>\n",
       "      <td>2331.0</td>\n",
       "      <td>0.211583</td>\n",
       "      <td>...</td>\n",
       "      <td>9.096525</td>\n",
       "      <td>1.791506</td>\n",
       "      <td>0.957529</td>\n",
       "      <td>0.648649</td>\n",
       "      <td>2.857143</td>\n",
       "      <td>4.725869</td>\n",
       "      <td>15.150579</td>\n",
       "      <td>201.0</td>\n",
       "      <td>99.0</td>\n",
       "      <td>0</td>\n",
       "    </tr>\n",
       "    <tr>\n",
       "      <th>417</th>\n",
       "      <td>3636</td>\n",
       "      <td>5617</td>\n",
       "      <td>1979</td>\n",
       "      <td>Billy Paultz</td>\n",
       "      <td>C</td>\n",
       "      <td>30</td>\n",
       "      <td>SAS</td>\n",
       "      <td>79</td>\n",
       "      <td>2122.0</td>\n",
       "      <td>0.262959</td>\n",
       "      <td>...</td>\n",
       "      <td>10.603205</td>\n",
       "      <td>3.019793</td>\n",
       "      <td>0.593779</td>\n",
       "      <td>2.120641</td>\n",
       "      <td>2.663525</td>\n",
       "      <td>3.460886</td>\n",
       "      <td>15.472196</td>\n",
       "      <td>211.0</td>\n",
       "      <td>106.0</td>\n",
       "      <td>0</td>\n",
       "    </tr>\n",
       "    <tr>\n",
       "      <th>1286</th>\n",
       "      <td>4509</td>\n",
       "      <td>6870</td>\n",
       "      <td>1983</td>\n",
       "      <td>Bill Cartwright</td>\n",
       "      <td>C</td>\n",
       "      <td>25</td>\n",
       "      <td>NYK</td>\n",
       "      <td>82</td>\n",
       "      <td>2468.0</td>\n",
       "      <td>0.277147</td>\n",
       "      <td>...</td>\n",
       "      <td>8.606159</td>\n",
       "      <td>1.983793</td>\n",
       "      <td>0.598055</td>\n",
       "      <td>1.852512</td>\n",
       "      <td>2.975689</td>\n",
       "      <td>4.594814</td>\n",
       "      <td>18.816856</td>\n",
       "      <td>216.0</td>\n",
       "      <td>111.0</td>\n",
       "      <td>0</td>\n",
       "    </tr>\n",
       "    <tr>\n",
       "      <th>415</th>\n",
       "      <td>3634</td>\n",
       "      <td>5615</td>\n",
       "      <td>1979</td>\n",
       "      <td>Robert Parish</td>\n",
       "      <td>C</td>\n",
       "      <td>25</td>\n",
       "      <td>GSW</td>\n",
       "      <td>76</td>\n",
       "      <td>2411.0</td>\n",
       "      <td>0.310577</td>\n",
       "      <td>...</td>\n",
       "      <td>13.677312</td>\n",
       "      <td>1.717130</td>\n",
       "      <td>1.493156</td>\n",
       "      <td>3.240149</td>\n",
       "      <td>3.479054</td>\n",
       "      <td>4.524264</td>\n",
       "      <td>19.470759</td>\n",
       "      <td>213.0</td>\n",
       "      <td>104.0</td>\n",
       "      <td>0</td>\n",
       "    </tr>\n",
       "    <tr>\n",
       "      <th>414</th>\n",
       "      <td>3633</td>\n",
       "      <td>5614</td>\n",
       "      <td>1979</td>\n",
       "      <td>Tom Owens</td>\n",
       "      <td>C</td>\n",
       "      <td>29</td>\n",
       "      <td>POR</td>\n",
       "      <td>82</td>\n",
       "      <td>2791.0</td>\n",
       "      <td>0.256682</td>\n",
       "      <td>...</td>\n",
       "      <td>9.544966</td>\n",
       "      <td>3.882479</td>\n",
       "      <td>0.761018</td>\n",
       "      <td>0.748119</td>\n",
       "      <td>3.185955</td>\n",
       "      <td>4.243640</td>\n",
       "      <td>19.605876</td>\n",
       "      <td>208.0</td>\n",
       "      <td>97.0</td>\n",
       "      <td>0</td>\n",
       "    </tr>\n",
       "    <tr>\n",
       "      <th>2347</th>\n",
       "      <td>5573</td>\n",
       "      <td>8404</td>\n",
       "      <td>1987</td>\n",
       "      <td>Patrick Ewing</td>\n",
       "      <td>PF</td>\n",
       "      <td>24</td>\n",
       "      <td>NYK</td>\n",
       "      <td>63</td>\n",
       "      <td>2206.0</td>\n",
       "      <td>0.308432</td>\n",
       "      <td>...</td>\n",
       "      <td>9.057117</td>\n",
       "      <td>1.697189</td>\n",
       "      <td>1.452403</td>\n",
       "      <td>2.398912</td>\n",
       "      <td>3.737081</td>\n",
       "      <td>4.047144</td>\n",
       "      <td>22.128740</td>\n",
       "      <td>213.0</td>\n",
       "      <td>108.0</td>\n",
       "      <td>0</td>\n",
       "    </tr>\n",
       "    <tr>\n",
       "      <th>410</th>\n",
       "      <td>3629</td>\n",
       "      <td>5607</td>\n",
       "      <td>1979</td>\n",
       "      <td>Swen Nater</td>\n",
       "      <td>C</td>\n",
       "      <td>29</td>\n",
       "      <td>SDC</td>\n",
       "      <td>79</td>\n",
       "      <td>2006.0</td>\n",
       "      <td>0.303290</td>\n",
       "      <td>...</td>\n",
       "      <td>12.580259</td>\n",
       "      <td>2.512463</td>\n",
       "      <td>0.681954</td>\n",
       "      <td>0.520439</td>\n",
       "      <td>3.050847</td>\n",
       "      <td>4.378863</td>\n",
       "      <td>15.182453</td>\n",
       "      <td>211.0</td>\n",
       "      <td>108.0</td>\n",
       "      <td>0</td>\n",
       "    </tr>\n",
       "    <tr>\n",
       "      <th>2869</th>\n",
       "      <td>6098</td>\n",
       "      <td>9216</td>\n",
       "      <td>1989</td>\n",
       "      <td>Patrick Ewing</td>\n",
       "      <td>C</td>\n",
       "      <td>26</td>\n",
       "      <td>NYK</td>\n",
       "      <td>80</td>\n",
       "      <td>2896.0</td>\n",
       "      <td>0.274724</td>\n",
       "      <td>...</td>\n",
       "      <td>9.198895</td>\n",
       "      <td>2.337017</td>\n",
       "      <td>1.454420</td>\n",
       "      <td>3.493094</td>\n",
       "      <td>3.306630</td>\n",
       "      <td>3.866022</td>\n",
       "      <td>22.562155</td>\n",
       "      <td>213.0</td>\n",
       "      <td>108.0</td>\n",
       "      <td>0</td>\n",
       "    </tr>\n",
       "    <tr>\n",
       "      <th>404</th>\n",
       "      <td>3623</td>\n",
       "      <td>5599</td>\n",
       "      <td>1979</td>\n",
       "      <td>Steve Mix</td>\n",
       "      <td>SF</td>\n",
       "      <td>31</td>\n",
       "      <td>PHI</td>\n",
       "      <td>74</td>\n",
       "      <td>1269.0</td>\n",
       "      <td>0.550355</td>\n",
       "      <td>...</td>\n",
       "      <td>8.312057</td>\n",
       "      <td>3.432624</td>\n",
       "      <td>1.617021</td>\n",
       "      <td>0.453901</td>\n",
       "      <td>2.836879</td>\n",
       "      <td>3.177305</td>\n",
       "      <td>19.602837</td>\n",
       "      <td>201.0</td>\n",
       "      <td>97.0</td>\n",
       "      <td>0</td>\n",
       "    </tr>\n",
       "    <tr>\n",
       "      <th>1300</th>\n",
       "      <td>4523</td>\n",
       "      <td>6892</td>\n",
       "      <td>1983</td>\n",
       "      <td>Terry Cummings</td>\n",
       "      <td>PF</td>\n",
       "      <td>21</td>\n",
       "      <td>SDC</td>\n",
       "      <td>70</td>\n",
       "      <td>2531.0</td>\n",
       "      <td>0.324299</td>\n",
       "      <td>...</td>\n",
       "      <td>10.582379</td>\n",
       "      <td>2.517582</td>\n",
       "      <td>1.834848</td>\n",
       "      <td>0.881865</td>\n",
       "      <td>2.901620</td>\n",
       "      <td>4.181746</td>\n",
       "      <td>23.611221</td>\n",
       "      <td>206.0</td>\n",
       "      <td>99.0</td>\n",
       "      <td>0</td>\n",
       "    </tr>\n",
       "    <tr>\n",
       "      <th>2876</th>\n",
       "      <td>6105</td>\n",
       "      <td>9232</td>\n",
       "      <td>1989</td>\n",
       "      <td>Mike Gminski</td>\n",
       "      <td>C</td>\n",
       "      <td>29</td>\n",
       "      <td>PHI</td>\n",
       "      <td>82</td>\n",
       "      <td>2739.0</td>\n",
       "      <td>0.243154</td>\n",
       "      <td>...</td>\n",
       "      <td>10.107338</td>\n",
       "      <td>1.813801</td>\n",
       "      <td>0.604600</td>\n",
       "      <td>1.393209</td>\n",
       "      <td>1.695509</td>\n",
       "      <td>1.866375</td>\n",
       "      <td>18.519168</td>\n",
       "      <td>211.0</td>\n",
       "      <td>113.0</td>\n",
       "      <td>0</td>\n",
       "    </tr>\n",
       "    <tr>\n",
       "      <th>397</th>\n",
       "      <td>3616</td>\n",
       "      <td>5589</td>\n",
       "      <td>1979</td>\n",
       "      <td>George McGinnis</td>\n",
       "      <td>PF</td>\n",
       "      <td>28</td>\n",
       "      <td>DEN</td>\n",
       "      <td>76</td>\n",
       "      <td>2552.0</td>\n",
       "      <td>0.290596</td>\n",
       "      <td>...</td>\n",
       "      <td>12.188088</td>\n",
       "      <td>3.992163</td>\n",
       "      <td>1.819749</td>\n",
       "      <td>0.733542</td>\n",
       "      <td>4.880878</td>\n",
       "      <td>4.528213</td>\n",
       "      <td>24.192790</td>\n",
       "      <td>203.0</td>\n",
       "      <td>106.0</td>\n",
       "      <td>0</td>\n",
       "    </tr>\n",
       "    <tr>\n",
       "      <th>2334</th>\n",
       "      <td>5560</td>\n",
       "      <td>8381</td>\n",
       "      <td>1987</td>\n",
       "      <td>James Donaldson</td>\n",
       "      <td>C</td>\n",
       "      <td>29</td>\n",
       "      <td>DAL</td>\n",
       "      <td>82</td>\n",
       "      <td>3028.0</td>\n",
       "      <td>0.181902</td>\n",
       "      <td>...</td>\n",
       "      <td>11.568032</td>\n",
       "      <td>0.749009</td>\n",
       "      <td>0.606341</td>\n",
       "      <td>1.616909</td>\n",
       "      <td>1.236460</td>\n",
       "      <td>2.270806</td>\n",
       "      <td>10.569353</td>\n",
       "      <td>218.0</td>\n",
       "      <td>124.0</td>\n",
       "      <td>0</td>\n",
       "    </tr>\n",
       "    <tr>\n",
       "      <th>...</th>\n",
       "      <td>...</td>\n",
       "      <td>...</td>\n",
       "      <td>...</td>\n",
       "      <td>...</td>\n",
       "      <td>...</td>\n",
       "      <td>...</td>\n",
       "      <td>...</td>\n",
       "      <td>...</td>\n",
       "      <td>...</td>\n",
       "      <td>...</td>\n",
       "      <td>...</td>\n",
       "      <td>...</td>\n",
       "      <td>...</td>\n",
       "      <td>...</td>\n",
       "      <td>...</td>\n",
       "      <td>...</td>\n",
       "      <td>...</td>\n",
       "      <td>...</td>\n",
       "      <td>...</td>\n",
       "      <td>...</td>\n",
       "      <td>...</td>\n",
       "    </tr>\n",
       "    <tr>\n",
       "      <th>831</th>\n",
       "      <td>4054</td>\n",
       "      <td>6217</td>\n",
       "      <td>1981</td>\n",
       "      <td>Gerald Henderson</td>\n",
       "      <td>PG</td>\n",
       "      <td>25</td>\n",
       "      <td>BOS</td>\n",
       "      <td>82</td>\n",
       "      <td>1608.0</td>\n",
       "      <td>0.232836</td>\n",
       "      <td>...</td>\n",
       "      <td>2.955224</td>\n",
       "      <td>4.768657</td>\n",
       "      <td>1.768657</td>\n",
       "      <td>0.268657</td>\n",
       "      <td>3.582090</td>\n",
       "      <td>3.962687</td>\n",
       "      <td>14.238806</td>\n",
       "      <td>188.0</td>\n",
       "      <td>79.0</td>\n",
       "      <td>6</td>\n",
       "    </tr>\n",
       "    <tr>\n",
       "      <th>2611</th>\n",
       "      <td>5838</td>\n",
       "      <td>8796</td>\n",
       "      <td>1988</td>\n",
       "      <td>Winston Garland</td>\n",
       "      <td>PG</td>\n",
       "      <td>23</td>\n",
       "      <td>GSW</td>\n",
       "      <td>67</td>\n",
       "      <td>2122.0</td>\n",
       "      <td>0.234119</td>\n",
       "      <td>...</td>\n",
       "      <td>3.851084</td>\n",
       "      <td>7.278040</td>\n",
       "      <td>1.967955</td>\n",
       "      <td>0.118756</td>\n",
       "      <td>2.833176</td>\n",
       "      <td>3.189444</td>\n",
       "      <td>14.098021</td>\n",
       "      <td>188.0</td>\n",
       "      <td>77.0</td>\n",
       "      <td>6</td>\n",
       "    </tr>\n",
       "    <tr>\n",
       "      <th>1598</th>\n",
       "      <td>4821</td>\n",
       "      <td>7313</td>\n",
       "      <td>1984</td>\n",
       "      <td>Mike Glenn</td>\n",
       "      <td>SG</td>\n",
       "      <td>28</td>\n",
       "      <td>ATL</td>\n",
       "      <td>81</td>\n",
       "      <td>1503.0</td>\n",
       "      <td>0.371257</td>\n",
       "      <td>...</td>\n",
       "      <td>2.491018</td>\n",
       "      <td>4.095808</td>\n",
       "      <td>1.101796</td>\n",
       "      <td>0.119760</td>\n",
       "      <td>1.508982</td>\n",
       "      <td>3.497006</td>\n",
       "      <td>16.311377</td>\n",
       "      <td>188.0</td>\n",
       "      <td>79.0</td>\n",
       "      <td>6</td>\n",
       "    </tr>\n",
       "    <tr>\n",
       "      <th>825</th>\n",
       "      <td>4048</td>\n",
       "      <td>6207</td>\n",
       "      <td>1981</td>\n",
       "      <td>Bill Hanzlik</td>\n",
       "      <td>SF</td>\n",
       "      <td>23</td>\n",
       "      <td>SEA</td>\n",
       "      <td>74</td>\n",
       "      <td>1259.0</td>\n",
       "      <td>0.314535</td>\n",
       "      <td>...</td>\n",
       "      <td>4.374901</td>\n",
       "      <td>3.173948</td>\n",
       "      <td>1.658459</td>\n",
       "      <td>0.571882</td>\n",
       "      <td>2.401906</td>\n",
       "      <td>4.803813</td>\n",
       "      <td>11.323272</td>\n",
       "      <td>201.0</td>\n",
       "      <td>83.0</td>\n",
       "      <td>6</td>\n",
       "    </tr>\n",
       "    <tr>\n",
       "      <th>824</th>\n",
       "      <td>4047</td>\n",
       "      <td>6205</td>\n",
       "      <td>1981</td>\n",
       "      <td>Ernie Grunfeld</td>\n",
       "      <td>SF</td>\n",
       "      <td>25</td>\n",
       "      <td>KCK</td>\n",
       "      <td>79</td>\n",
       "      <td>1584.0</td>\n",
       "      <td>0.311364</td>\n",
       "      <td>...</td>\n",
       "      <td>4.681818</td>\n",
       "      <td>4.659091</td>\n",
       "      <td>1.363636</td>\n",
       "      <td>0.340909</td>\n",
       "      <td>2.000000</td>\n",
       "      <td>3.522727</td>\n",
       "      <td>13.522727</td>\n",
       "      <td>198.0</td>\n",
       "      <td>95.0</td>\n",
       "      <td>6</td>\n",
       "    </tr>\n",
       "    <tr>\n",
       "      <th>1601</th>\n",
       "      <td>4824</td>\n",
       "      <td>7316</td>\n",
       "      <td>1984</td>\n",
       "      <td>Rickey Green</td>\n",
       "      <td>PG</td>\n",
       "      <td>29</td>\n",
       "      <td>UTA</td>\n",
       "      <td>81</td>\n",
       "      <td>2768.0</td>\n",
       "      <td>0.234104</td>\n",
       "      <td>...</td>\n",
       "      <td>2.991329</td>\n",
       "      <td>9.728324</td>\n",
       "      <td>2.796243</td>\n",
       "      <td>0.169075</td>\n",
       "      <td>2.236994</td>\n",
       "      <td>2.015896</td>\n",
       "      <td>13.942197</td>\n",
       "      <td>183.0</td>\n",
       "      <td>77.0</td>\n",
       "      <td>6</td>\n",
       "    </tr>\n",
       "    <tr>\n",
       "      <th>2607</th>\n",
       "      <td>5834</td>\n",
       "      <td>8790</td>\n",
       "      <td>1988</td>\n",
       "      <td>Sleepy Floyd</td>\n",
       "      <td>PG</td>\n",
       "      <td>27</td>\n",
       "      <td>TOT</td>\n",
       "      <td>77</td>\n",
       "      <td>2514.0</td>\n",
       "      <td>0.220525</td>\n",
       "      <td>...</td>\n",
       "      <td>4.238663</td>\n",
       "      <td>7.789976</td>\n",
       "      <td>1.360382</td>\n",
       "      <td>0.171838</td>\n",
       "      <td>3.193317</td>\n",
       "      <td>2.720764</td>\n",
       "      <td>16.539379</td>\n",
       "      <td>190.0</td>\n",
       "      <td>77.0</td>\n",
       "      <td>6</td>\n",
       "    </tr>\n",
       "    <tr>\n",
       "      <th>815</th>\n",
       "      <td>4038</td>\n",
       "      <td>6196</td>\n",
       "      <td>1981</td>\n",
       "      <td>Mike Glenn</td>\n",
       "      <td>PG</td>\n",
       "      <td>25</td>\n",
       "      <td>NYK</td>\n",
       "      <td>82</td>\n",
       "      <td>1506.0</td>\n",
       "      <td>0.358566</td>\n",
       "      <td>...</td>\n",
       "      <td>2.103586</td>\n",
       "      <td>2.581673</td>\n",
       "      <td>1.721116</td>\n",
       "      <td>0.119522</td>\n",
       "      <td>1.482072</td>\n",
       "      <td>3.011952</td>\n",
       "      <td>16.063745</td>\n",
       "      <td>188.0</td>\n",
       "      <td>79.0</td>\n",
       "      <td>6</td>\n",
       "    </tr>\n",
       "    <tr>\n",
       "      <th>851</th>\n",
       "      <td>4074</td>\n",
       "      <td>6243</td>\n",
       "      <td>1981</td>\n",
       "      <td>John Johnson</td>\n",
       "      <td>SF</td>\n",
       "      <td>33</td>\n",
       "      <td>SEA</td>\n",
       "      <td>80</td>\n",
       "      <td>2324.0</td>\n",
       "      <td>0.175043</td>\n",
       "      <td>...</td>\n",
       "      <td>5.607573</td>\n",
       "      <td>4.833046</td>\n",
       "      <td>0.882960</td>\n",
       "      <td>0.387263</td>\n",
       "      <td>3.562823</td>\n",
       "      <td>3.129088</td>\n",
       "      <td>14.235800</td>\n",
       "      <td>201.0</td>\n",
       "      <td>90.0</td>\n",
       "      <td>6</td>\n",
       "    </tr>\n",
       "    <tr>\n",
       "      <th>2591</th>\n",
       "      <td>5818</td>\n",
       "      <td>8769</td>\n",
       "      <td>1988</td>\n",
       "      <td>Larry Drew</td>\n",
       "      <td>PG</td>\n",
       "      <td>29</td>\n",
       "      <td>LAC</td>\n",
       "      <td>74</td>\n",
       "      <td>2024.0</td>\n",
       "      <td>0.208103</td>\n",
       "      <td>...</td>\n",
       "      <td>2.116601</td>\n",
       "      <td>6.812253</td>\n",
       "      <td>1.156126</td>\n",
       "      <td>0.000000</td>\n",
       "      <td>2.703557</td>\n",
       "      <td>2.027668</td>\n",
       "      <td>13.606719</td>\n",
       "      <td>185.0</td>\n",
       "      <td>77.0</td>\n",
       "      <td>6</td>\n",
       "    </tr>\n",
       "    <tr>\n",
       "      <th>891</th>\n",
       "      <td>4114</td>\n",
       "      <td>6300</td>\n",
       "      <td>1981</td>\n",
       "      <td>Wes Matthews</td>\n",
       "      <td>PG</td>\n",
       "      <td>21</td>\n",
       "      <td>WSB</td>\n",
       "      <td>45</td>\n",
       "      <td>1161.0</td>\n",
       "      <td>0.390698</td>\n",
       "      <td>...</td>\n",
       "      <td>2.077519</td>\n",
       "      <td>6.170543</td>\n",
       "      <td>1.426357</td>\n",
       "      <td>0.310078</td>\n",
       "      <td>4.620155</td>\n",
       "      <td>3.720930</td>\n",
       "      <td>17.116279</td>\n",
       "      <td>185.0</td>\n",
       "      <td>77.0</td>\n",
       "      <td>6</td>\n",
       "    </tr>\n",
       "    <tr>\n",
       "      <th>890</th>\n",
       "      <td>4113</td>\n",
       "      <td>6299</td>\n",
       "      <td>1981</td>\n",
       "      <td>Wes Matthews</td>\n",
       "      <td>PG</td>\n",
       "      <td>21</td>\n",
       "      <td>TOT</td>\n",
       "      <td>79</td>\n",
       "      <td>2266.0</td>\n",
       "      <td>0.208120</td>\n",
       "      <td>...</td>\n",
       "      <td>2.208297</td>\n",
       "      <td>6.529568</td>\n",
       "      <td>1.699912</td>\n",
       "      <td>0.270079</td>\n",
       "      <td>4.146514</td>\n",
       "      <td>3.844660</td>\n",
       "      <td>15.521624</td>\n",
       "      <td>185.0</td>\n",
       "      <td>77.0</td>\n",
       "      <td>6</td>\n",
       "    </tr>\n",
       "    <tr>\n",
       "      <th>2571</th>\n",
       "      <td>5798</td>\n",
       "      <td>8736</td>\n",
       "      <td>1988</td>\n",
       "      <td>Steve Colter</td>\n",
       "      <td>PG</td>\n",
       "      <td>25</td>\n",
       "      <td>TOT</td>\n",
       "      <td>68</td>\n",
       "      <td>1513.0</td>\n",
       "      <td>0.304560</td>\n",
       "      <td>...</td>\n",
       "      <td>4.116325</td>\n",
       "      <td>6.210178</td>\n",
       "      <td>1.475215</td>\n",
       "      <td>0.333113</td>\n",
       "      <td>2.093853</td>\n",
       "      <td>3.140780</td>\n",
       "      <td>11.516193</td>\n",
       "      <td>190.0</td>\n",
       "      <td>74.0</td>\n",
       "      <td>6</td>\n",
       "    </tr>\n",
       "    <tr>\n",
       "      <th>2572</th>\n",
       "      <td>5799</td>\n",
       "      <td>8738</td>\n",
       "      <td>1988</td>\n",
       "      <td>Steve Colter</td>\n",
       "      <td>PG</td>\n",
       "      <td>25</td>\n",
       "      <td>WSB</td>\n",
       "      <td>56</td>\n",
       "      <td>1361.0</td>\n",
       "      <td>0.354445</td>\n",
       "      <td>...</td>\n",
       "      <td>4.099927</td>\n",
       "      <td>6.216018</td>\n",
       "      <td>1.481264</td>\n",
       "      <td>0.370316</td>\n",
       "      <td>2.036738</td>\n",
       "      <td>2.962528</td>\n",
       "      <td>11.823659</td>\n",
       "      <td>190.0</td>\n",
       "      <td>74.0</td>\n",
       "      <td>6</td>\n",
       "    </tr>\n",
       "    <tr>\n",
       "      <th>887</th>\n",
       "      <td>4110</td>\n",
       "      <td>6296</td>\n",
       "      <td>1981</td>\n",
       "      <td>Kyle Macy</td>\n",
       "      <td>PG</td>\n",
       "      <td>23</td>\n",
       "      <td>PHO</td>\n",
       "      <td>82</td>\n",
       "      <td>1469.0</td>\n",
       "      <td>0.355344</td>\n",
       "      <td>...</td>\n",
       "      <td>3.234854</td>\n",
       "      <td>3.921035</td>\n",
       "      <td>1.862491</td>\n",
       "      <td>0.122532</td>\n",
       "      <td>2.328114</td>\n",
       "      <td>2.940776</td>\n",
       "      <td>16.247788</td>\n",
       "      <td>190.0</td>\n",
       "      <td>79.0</td>\n",
       "      <td>6</td>\n",
       "    </tr>\n",
       "    <tr>\n",
       "      <th>886</th>\n",
       "      <td>4109</td>\n",
       "      <td>6295</td>\n",
       "      <td>1981</td>\n",
       "      <td>Ollie Mack</td>\n",
       "      <td>SG</td>\n",
       "      <td>23</td>\n",
       "      <td>DAL</td>\n",
       "      <td>62</td>\n",
       "      <td>1666.0</td>\n",
       "      <td>0.280912</td>\n",
       "      <td>...</td>\n",
       "      <td>4.948379</td>\n",
       "      <td>3.500600</td>\n",
       "      <td>1.188475</td>\n",
       "      <td>0.151261</td>\n",
       "      <td>1.512605</td>\n",
       "      <td>2.463385</td>\n",
       "      <td>13.721489</td>\n",
       "      <td>190.0</td>\n",
       "      <td>83.0</td>\n",
       "      <td>6</td>\n",
       "    </tr>\n",
       "    <tr>\n",
       "      <th>885</th>\n",
       "      <td>4108</td>\n",
       "      <td>6293</td>\n",
       "      <td>1981</td>\n",
       "      <td>Ollie Mack</td>\n",
       "      <td>SG</td>\n",
       "      <td>23</td>\n",
       "      <td>TOT</td>\n",
       "      <td>65</td>\n",
       "      <td>1682.0</td>\n",
       "      <td>0.273960</td>\n",
       "      <td>...</td>\n",
       "      <td>4.922711</td>\n",
       "      <td>3.488704</td>\n",
       "      <td>1.198573</td>\n",
       "      <td>0.149822</td>\n",
       "      <td>1.498216</td>\n",
       "      <td>2.504162</td>\n",
       "      <td>13.655172</td>\n",
       "      <td>190.0</td>\n",
       "      <td>83.0</td>\n",
       "      <td>6</td>\n",
       "    </tr>\n",
       "    <tr>\n",
       "      <th>883</th>\n",
       "      <td>4106</td>\n",
       "      <td>6291</td>\n",
       "      <td>1981</td>\n",
       "      <td>John Lucas</td>\n",
       "      <td>PG</td>\n",
       "      <td>27</td>\n",
       "      <td>GSW</td>\n",
       "      <td>66</td>\n",
       "      <td>1919.0</td>\n",
       "      <td>0.217613</td>\n",
       "      <td>...</td>\n",
       "      <td>2.889005</td>\n",
       "      <td>8.704534</td>\n",
       "      <td>1.557061</td>\n",
       "      <td>0.037520</td>\n",
       "      <td>3.470558</td>\n",
       "      <td>2.626368</td>\n",
       "      <td>10.411673</td>\n",
       "      <td>190.0</td>\n",
       "      <td>79.0</td>\n",
       "      <td>6</td>\n",
       "    </tr>\n",
       "    <tr>\n",
       "      <th>1590</th>\n",
       "      <td>4813</td>\n",
       "      <td>7303</td>\n",
       "      <td>1984</td>\n",
       "      <td>Sleepy Floyd</td>\n",
       "      <td>PG</td>\n",
       "      <td>23</td>\n",
       "      <td>GSW</td>\n",
       "      <td>77</td>\n",
       "      <td>2555.0</td>\n",
       "      <td>0.205714</td>\n",
       "      <td>...</td>\n",
       "      <td>3.818395</td>\n",
       "      <td>3.790215</td>\n",
       "      <td>1.451272</td>\n",
       "      <td>0.436791</td>\n",
       "      <td>2.761644</td>\n",
       "      <td>3.043444</td>\n",
       "      <td>18.190215</td>\n",
       "      <td>190.0</td>\n",
       "      <td>77.0</td>\n",
       "      <td>6</td>\n",
       "    </tr>\n",
       "    <tr>\n",
       "      <th>2170</th>\n",
       "      <td>5394</td>\n",
       "      <td>8144</td>\n",
       "      <td>1986</td>\n",
       "      <td>Dirk Minniefield</td>\n",
       "      <td>PG</td>\n",
       "      <td>25</td>\n",
       "      <td>CLE</td>\n",
       "      <td>76</td>\n",
       "      <td>1131.0</td>\n",
       "      <td>0.448806</td>\n",
       "      <td>...</td>\n",
       "      <td>4.169761</td>\n",
       "      <td>8.562334</td>\n",
       "      <td>2.068966</td>\n",
       "      <td>0.031830</td>\n",
       "      <td>3.437666</td>\n",
       "      <td>5.251989</td>\n",
       "      <td>13.273210</td>\n",
       "      <td>190.0</td>\n",
       "      <td>81.0</td>\n",
       "      <td>6</td>\n",
       "    </tr>\n",
       "    <tr>\n",
       "      <th>879</th>\n",
       "      <td>4102</td>\n",
       "      <td>6286</td>\n",
       "      <td>1981</td>\n",
       "      <td>Allen Leavell</td>\n",
       "      <td>PG</td>\n",
       "      <td>23</td>\n",
       "      <td>HOU</td>\n",
       "      <td>79</td>\n",
       "      <td>1686.0</td>\n",
       "      <td>0.296797</td>\n",
       "      <td>...</td>\n",
       "      <td>2.861210</td>\n",
       "      <td>8.199288</td>\n",
       "      <td>2.071174</td>\n",
       "      <td>0.320285</td>\n",
       "      <td>4.035587</td>\n",
       "      <td>3.416370</td>\n",
       "      <td>13.708185</td>\n",
       "      <td>185.0</td>\n",
       "      <td>77.0</td>\n",
       "      <td>6</td>\n",
       "    </tr>\n",
       "    <tr>\n",
       "      <th>1570</th>\n",
       "      <td>4793</td>\n",
       "      <td>7277</td>\n",
       "      <td>1984</td>\n",
       "      <td>Johnny Davis</td>\n",
       "      <td>PG</td>\n",
       "      <td>28</td>\n",
       "      <td>ATL</td>\n",
       "      <td>75</td>\n",
       "      <td>2079.0</td>\n",
       "      <td>0.247619</td>\n",
       "      <td>...</td>\n",
       "      <td>2.406926</td>\n",
       "      <td>5.645022</td>\n",
       "      <td>1.073593</td>\n",
       "      <td>0.103896</td>\n",
       "      <td>2.320346</td>\n",
       "      <td>2.528139</td>\n",
       "      <td>16.017316</td>\n",
       "      <td>188.0</td>\n",
       "      <td>77.0</td>\n",
       "      <td>6</td>\n",
       "    </tr>\n",
       "    <tr>\n",
       "      <th>1577</th>\n",
       "      <td>4800</td>\n",
       "      <td>7284</td>\n",
       "      <td>1984</td>\n",
       "      <td>Larry Drew</td>\n",
       "      <td>PG</td>\n",
       "      <td>25</td>\n",
       "      <td>KCK</td>\n",
       "      <td>73</td>\n",
       "      <td>2363.0</td>\n",
       "      <td>0.251375</td>\n",
       "      <td>...</td>\n",
       "      <td>2.224291</td>\n",
       "      <td>8.501058</td>\n",
       "      <td>1.843419</td>\n",
       "      <td>0.152349</td>\n",
       "      <td>2.955565</td>\n",
       "      <td>2.589928</td>\n",
       "      <td>18.190436</td>\n",
       "      <td>185.0</td>\n",
       "      <td>77.0</td>\n",
       "      <td>6</td>\n",
       "    </tr>\n",
       "    <tr>\n",
       "      <th>1581</th>\n",
       "      <td>4804</td>\n",
       "      <td>7289</td>\n",
       "      <td>1984</td>\n",
       "      <td>Jerry Eaves</td>\n",
       "      <td>PG</td>\n",
       "      <td>24</td>\n",
       "      <td>UTA</td>\n",
       "      <td>80</td>\n",
       "      <td>1034.0</td>\n",
       "      <td>0.369052</td>\n",
       "      <td>...</td>\n",
       "      <td>2.959381</td>\n",
       "      <td>6.963250</td>\n",
       "      <td>1.148936</td>\n",
       "      <td>0.174081</td>\n",
       "      <td>3.237911</td>\n",
       "      <td>3.133462</td>\n",
       "      <td>12.394584</td>\n",
       "      <td>193.0</td>\n",
       "      <td>81.0</td>\n",
       "      <td>6</td>\n",
       "    </tr>\n",
       "    <tr>\n",
       "      <th>862</th>\n",
       "      <td>4085</td>\n",
       "      <td>6260</td>\n",
       "      <td>1981</td>\n",
       "      <td>Eddie Jordan</td>\n",
       "      <td>PG</td>\n",
       "      <td>26</td>\n",
       "      <td>LAL</td>\n",
       "      <td>60</td>\n",
       "      <td>987.0</td>\n",
       "      <td>0.353799</td>\n",
       "      <td>...</td>\n",
       "      <td>2.917933</td>\n",
       "      <td>7.112462</td>\n",
       "      <td>2.699088</td>\n",
       "      <td>0.255319</td>\n",
       "      <td>4.376900</td>\n",
       "      <td>4.960486</td>\n",
       "      <td>11.161094</td>\n",
       "      <td>185.0</td>\n",
       "      <td>77.0</td>\n",
       "      <td>6</td>\n",
       "    </tr>\n",
       "    <tr>\n",
       "      <th>861</th>\n",
       "      <td>4084</td>\n",
       "      <td>6258</td>\n",
       "      <td>1981</td>\n",
       "      <td>Eddie Jordan</td>\n",
       "      <td>PG</td>\n",
       "      <td>26</td>\n",
       "      <td>TOT</td>\n",
       "      <td>74</td>\n",
       "      <td>1226.0</td>\n",
       "      <td>0.305383</td>\n",
       "      <td>...</td>\n",
       "      <td>2.877651</td>\n",
       "      <td>7.076672</td>\n",
       "      <td>2.877651</td>\n",
       "      <td>0.234910</td>\n",
       "      <td>4.199021</td>\n",
       "      <td>4.845024</td>\n",
       "      <td>11.539967</td>\n",
       "      <td>185.0</td>\n",
       "      <td>77.0</td>\n",
       "      <td>6</td>\n",
       "    </tr>\n",
       "    <tr>\n",
       "      <th>2588</th>\n",
       "      <td>5815</td>\n",
       "      <td>8764</td>\n",
       "      <td>1988</td>\n",
       "      <td>Johnny Dawkins</td>\n",
       "      <td>PG</td>\n",
       "      <td>24</td>\n",
       "      <td>SAS</td>\n",
       "      <td>65</td>\n",
       "      <td>2179.0</td>\n",
       "      <td>0.280863</td>\n",
       "      <td>...</td>\n",
       "      <td>3.370353</td>\n",
       "      <td>7.930243</td>\n",
       "      <td>1.453878</td>\n",
       "      <td>0.033043</td>\n",
       "      <td>2.544286</td>\n",
       "      <td>1.569527</td>\n",
       "      <td>16.967416</td>\n",
       "      <td>188.0</td>\n",
       "      <td>74.0</td>\n",
       "      <td>6</td>\n",
       "    </tr>\n",
       "    <tr>\n",
       "      <th>2161</th>\n",
       "      <td>5385</td>\n",
       "      <td>8129</td>\n",
       "      <td>1986</td>\n",
       "      <td>Wes Matthews</td>\n",
       "      <td>PG</td>\n",
       "      <td>26</td>\n",
       "      <td>SAS</td>\n",
       "      <td>75</td>\n",
       "      <td>1853.0</td>\n",
       "      <td>0.301133</td>\n",
       "      <td>...</td>\n",
       "      <td>2.545062</td>\n",
       "      <td>9.247706</td>\n",
       "      <td>1.690232</td>\n",
       "      <td>0.621695</td>\n",
       "      <td>4.507285</td>\n",
       "      <td>3.263896</td>\n",
       "      <td>15.872639</td>\n",
       "      <td>185.0</td>\n",
       "      <td>77.0</td>\n",
       "      <td>6</td>\n",
       "    </tr>\n",
       "    <tr>\n",
       "      <th>880</th>\n",
       "      <td>4103</td>\n",
       "      <td>6287</td>\n",
       "      <td>1981</td>\n",
       "      <td>Ron Lee</td>\n",
       "      <td>PG</td>\n",
       "      <td>28</td>\n",
       "      <td>DET</td>\n",
       "      <td>82</td>\n",
       "      <td>1829.0</td>\n",
       "      <td>0.194861</td>\n",
       "      <td>...</td>\n",
       "      <td>4.330235</td>\n",
       "      <td>7.125205</td>\n",
       "      <td>3.267359</td>\n",
       "      <td>0.570804</td>\n",
       "      <td>3.405139</td>\n",
       "      <td>5.117551</td>\n",
       "      <td>6.711864</td>\n",
       "      <td>193.0</td>\n",
       "      <td>87.0</td>\n",
       "      <td>6</td>\n",
       "    </tr>\n",
       "    <tr>\n",
       "      <th>1942</th>\n",
       "      <td>5166</td>\n",
       "      <td>7790</td>\n",
       "      <td>1985</td>\n",
       "      <td>John Paxson</td>\n",
       "      <td>PG</td>\n",
       "      <td>24</td>\n",
       "      <td>SAS</td>\n",
       "      <td>78</td>\n",
       "      <td>1259.0</td>\n",
       "      <td>0.360286</td>\n",
       "      <td>...</td>\n",
       "      <td>1.944400</td>\n",
       "      <td>6.147736</td>\n",
       "      <td>1.286736</td>\n",
       "      <td>0.085782</td>\n",
       "      <td>2.316124</td>\n",
       "      <td>3.345512</td>\n",
       "      <td>13.896743</td>\n",
       "      <td>188.0</td>\n",
       "      <td>83.0</td>\n",
       "      <td>6</td>\n",
       "    </tr>\n",
       "  </tbody>\n",
       "</table>\n",
       "<p>3073 rows × 54 columns</p>\n",
       "</div>"
      ],
      "text/plain": [
       "      Unnamed: 0  Unnamed: 0.1  Year               Player Pos  Age   Tm   G  \\\n",
       "0           3218          5010  1978  Kareem Abdul-Jabbar   C   30  LAL  62   \n",
       "2852        6081          9189  1989       Brad Daugherty   C   23  CLE  78   \n",
       "1219        4442          6778  1982          Terry Tyler  PF   25  DET  82   \n",
       "2391        5618          8472  1987        Jerome Kersey  SF   24  POR  82   \n",
       "445         3664          5657  1979           Jack Sikma   C   23  SEA  82   \n",
       "2857        6086          9200  1989      James Donaldson   C   31  DAL  53   \n",
       "1230        4453          6792  1982     Jerome Whitehead   C   25  SDC  72   \n",
       "2384        5610          8462  1987        Steve Johnson   C   29  POR  79   \n",
       "436         3655          5643  1979       Dan Roundfield  PF   25  ATL  80   \n",
       "435         3654          5642  1979         Tree Rollins   C   23  ATL  81   \n",
       "1236        4459          6799  1982        Buck Williams  PF   21  NJN  82   \n",
       "433         3652          5640  1979       Bill Robinzine  PF   26  KCK  82   \n",
       "1250        4473          6823  1983  Kareem Abdul-Jabbar   C   35  LAL  79   \n",
       "1262        4485          6838  1983           Gene Banks  PF   23  SAS  81   \n",
       "2362        5588          8424  1987       Dave Greenwood  PF   29  SAS  79   \n",
       "2359        5585          8420  1987           A.C. Green  PF   23  LAL  79   \n",
       "2354        5580          8413  1987        Artis Gilmore   C   37  SAS  82   \n",
       "1282        4505          6866  1983           Kenny Carr  PF   27  POR  82   \n",
       "417         3636          5617  1979         Billy Paultz   C   30  SAS  79   \n",
       "1286        4509          6870  1983      Bill Cartwright   C   25  NYK  82   \n",
       "415         3634          5615  1979        Robert Parish   C   25  GSW  76   \n",
       "414         3633          5614  1979            Tom Owens   C   29  POR  82   \n",
       "2347        5573          8404  1987        Patrick Ewing  PF   24  NYK  63   \n",
       "410         3629          5607  1979           Swen Nater   C   29  SDC  79   \n",
       "2869        6098          9216  1989        Patrick Ewing   C   26  NYK  80   \n",
       "404         3623          5599  1979            Steve Mix  SF   31  PHI  74   \n",
       "1300        4523          6892  1983       Terry Cummings  PF   21  SDC  70   \n",
       "2876        6105          9232  1989         Mike Gminski   C   29  PHI  82   \n",
       "397         3616          5589  1979      George McGinnis  PF   28  DEN  76   \n",
       "2334        5560          8381  1987      James Donaldson   C   29  DAL  82   \n",
       "...          ...           ...   ...                  ...  ..  ...  ...  ..   \n",
       "831         4054          6217  1981     Gerald Henderson  PG   25  BOS  82   \n",
       "2611        5838          8796  1988      Winston Garland  PG   23  GSW  67   \n",
       "1598        4821          7313  1984           Mike Glenn  SG   28  ATL  81   \n",
       "825         4048          6207  1981         Bill Hanzlik  SF   23  SEA  74   \n",
       "824         4047          6205  1981       Ernie Grunfeld  SF   25  KCK  79   \n",
       "1601        4824          7316  1984         Rickey Green  PG   29  UTA  81   \n",
       "2607        5834          8790  1988         Sleepy Floyd  PG   27  TOT  77   \n",
       "815         4038          6196  1981           Mike Glenn  PG   25  NYK  82   \n",
       "851         4074          6243  1981         John Johnson  SF   33  SEA  80   \n",
       "2591        5818          8769  1988           Larry Drew  PG   29  LAC  74   \n",
       "891         4114          6300  1981         Wes Matthews  PG   21  WSB  45   \n",
       "890         4113          6299  1981         Wes Matthews  PG   21  TOT  79   \n",
       "2571        5798          8736  1988         Steve Colter  PG   25  TOT  68   \n",
       "2572        5799          8738  1988         Steve Colter  PG   25  WSB  56   \n",
       "887         4110          6296  1981            Kyle Macy  PG   23  PHO  82   \n",
       "886         4109          6295  1981           Ollie Mack  SG   23  DAL  62   \n",
       "885         4108          6293  1981           Ollie Mack  SG   23  TOT  65   \n",
       "883         4106          6291  1981           John Lucas  PG   27  GSW  66   \n",
       "1590        4813          7303  1984         Sleepy Floyd  PG   23  GSW  77   \n",
       "2170        5394          8144  1986     Dirk Minniefield  PG   25  CLE  76   \n",
       "879         4102          6286  1981        Allen Leavell  PG   23  HOU  79   \n",
       "1570        4793          7277  1984         Johnny Davis  PG   28  ATL  75   \n",
       "1577        4800          7284  1984           Larry Drew  PG   25  KCK  73   \n",
       "1581        4804          7289  1984          Jerry Eaves  PG   24  UTA  80   \n",
       "862         4085          6260  1981         Eddie Jordan  PG   26  LAL  60   \n",
       "861         4084          6258  1981         Eddie Jordan  PG   26  TOT  74   \n",
       "2588        5815          8764  1988       Johnny Dawkins  PG   24  SAS  65   \n",
       "2161        5385          8129  1986         Wes Matthews  PG   26  SAS  75   \n",
       "880         4103          6287  1981              Ron Lee  PG   28  DET  82   \n",
       "1942        5166          7790  1985          John Paxson  PG   24  SAS  78   \n",
       "\n",
       "          MP       PER     ...            TRB       AST       STL       BLK  \\\n",
       "0     2265.0  0.464106     ...      12.731126  4.275497  1.637086  2.940397   \n",
       "2852  2821.0  0.236086     ...       9.162708  3.637008  0.803970  0.510457   \n",
       "1219  1989.0  0.305882     ...       8.923077  2.280543  1.393665  2.895928   \n",
       "2391  2088.0  0.291379     ...       8.551724  3.344828  2.103448  1.327586   \n",
       "445   2958.0  0.198377     ...      12.328600  3.176471  0.997972  0.815416   \n",
       "2857  1746.0  0.292784     ...      11.752577  0.783505  0.494845  1.670103   \n",
       "1230  2214.0  0.271545     ...      10.796748  1.658537  0.780488  0.715447   \n",
       "2384  2345.0  0.231812     ...       8.689126  2.379531  0.752239  1.166738   \n",
       "436   2539.0  0.275069     ...      12.264671  1.857424  1.233557  2.495471   \n",
       "435   1900.0  0.327789     ...      11.141053  0.928421  0.871579  4.812632   \n",
       "1236  2825.0  0.219186     ...      12.807080  1.363540  1.070442  1.070442   \n",
       "433   2179.0  0.270950     ...      10.540615  1.718219  1.734741  0.247820   \n",
       "1250  2554.0  0.332655     ...       8.344558  2.819107  0.859828  2.396241   \n",
       "1262  2722.0  0.220867     ...       8.094048  3.689934  1.031594  0.277737   \n",
       "2362  2587.0  0.211519     ...      10.896019  3.298029  0.988017  0.695787   \n",
       "2359  2240.0  0.252321     ...       9.883929  1.350000  1.125000  1.285714   \n",
       "2354  2405.0  0.212557     ...       8.666944  2.245322  0.583784  1.422037   \n",
       "1282  2331.0  0.211583     ...       9.096525  1.791506  0.957529  0.648649   \n",
       "417   2122.0  0.262959     ...      10.603205  3.019793  0.593779  2.120641   \n",
       "1286  2468.0  0.277147     ...       8.606159  1.983793  0.598055  1.852512   \n",
       "415   2411.0  0.310577     ...      13.677312  1.717130  1.493156  3.240149   \n",
       "414   2791.0  0.256682     ...       9.544966  3.882479  0.761018  0.748119   \n",
       "2347  2206.0  0.308432     ...       9.057117  1.697189  1.452403  2.398912   \n",
       "410   2006.0  0.303290     ...      12.580259  2.512463  0.681954  0.520439   \n",
       "2869  2896.0  0.274724     ...       9.198895  2.337017  1.454420  3.493094   \n",
       "404   1269.0  0.550355     ...       8.312057  3.432624  1.617021  0.453901   \n",
       "1300  2531.0  0.324299     ...      10.582379  2.517582  1.834848  0.881865   \n",
       "2876  2739.0  0.243154     ...      10.107338  1.813801  0.604600  1.393209   \n",
       "397   2552.0  0.290596     ...      12.188088  3.992163  1.819749  0.733542   \n",
       "2334  3028.0  0.181902     ...      11.568032  0.749009  0.606341  1.616909   \n",
       "...      ...       ...     ...            ...       ...       ...       ...   \n",
       "831   1608.0  0.232836     ...       2.955224  4.768657  1.768657  0.268657   \n",
       "2611  2122.0  0.234119     ...       3.851084  7.278040  1.967955  0.118756   \n",
       "1598  1503.0  0.371257     ...       2.491018  4.095808  1.101796  0.119760   \n",
       "825   1259.0  0.314535     ...       4.374901  3.173948  1.658459  0.571882   \n",
       "824   1584.0  0.311364     ...       4.681818  4.659091  1.363636  0.340909   \n",
       "1601  2768.0  0.234104     ...       2.991329  9.728324  2.796243  0.169075   \n",
       "2607  2514.0  0.220525     ...       4.238663  7.789976  1.360382  0.171838   \n",
       "815   1506.0  0.358566     ...       2.103586  2.581673  1.721116  0.119522   \n",
       "851   2324.0  0.175043     ...       5.607573  4.833046  0.882960  0.387263   \n",
       "2591  2024.0  0.208103     ...       2.116601  6.812253  1.156126  0.000000   \n",
       "891   1161.0  0.390698     ...       2.077519  6.170543  1.426357  0.310078   \n",
       "890   2266.0  0.208120     ...       2.208297  6.529568  1.699912  0.270079   \n",
       "2571  1513.0  0.304560     ...       4.116325  6.210178  1.475215  0.333113   \n",
       "2572  1361.0  0.354445     ...       4.099927  6.216018  1.481264  0.370316   \n",
       "887   1469.0  0.355344     ...       3.234854  3.921035  1.862491  0.122532   \n",
       "886   1666.0  0.280912     ...       4.948379  3.500600  1.188475  0.151261   \n",
       "885   1682.0  0.273960     ...       4.922711  3.488704  1.198573  0.149822   \n",
       "883   1919.0  0.217613     ...       2.889005  8.704534  1.557061  0.037520   \n",
       "1590  2555.0  0.205714     ...       3.818395  3.790215  1.451272  0.436791   \n",
       "2170  1131.0  0.448806     ...       4.169761  8.562334  2.068966  0.031830   \n",
       "879   1686.0  0.296797     ...       2.861210  8.199288  2.071174  0.320285   \n",
       "1570  2079.0  0.247619     ...       2.406926  5.645022  1.073593  0.103896   \n",
       "1577  2363.0  0.251375     ...       2.224291  8.501058  1.843419  0.152349   \n",
       "1581  1034.0  0.369052     ...       2.959381  6.963250  1.148936  0.174081   \n",
       "862    987.0  0.353799     ...       2.917933  7.112462  2.699088  0.255319   \n",
       "861   1226.0  0.305383     ...       2.877651  7.076672  2.877651  0.234910   \n",
       "2588  2179.0  0.280863     ...       3.370353  7.930243  1.453878  0.033043   \n",
       "2161  1853.0  0.301133     ...       2.545062  9.247706  1.690232  0.621695   \n",
       "880   1829.0  0.194861     ...       4.330235  7.125205  3.267359  0.570804   \n",
       "1942  1259.0  0.360286     ...       1.944400  6.147736  1.286736  0.085782   \n",
       "\n",
       "           TOV        PF        PTS  height  weight  cluster_ID  \n",
       "0     3.305960  2.892715  25.430464   218.0   102.0           0  \n",
       "2852  2.935129  2.233251  18.823112   213.0   111.0           0  \n",
       "1219  2.190045  3.294118  14.751131   201.0    97.0           0  \n",
       "2391  2.568966  5.655172  17.396552   201.0    97.0           0  \n",
       "445   3.079108  3.590264  15.590264   211.0   104.0           0  \n",
       "2857  1.711340  2.288660   9.917526   218.0   124.0           0  \n",
       "1230  2.292683  4.715447  16.195122   208.0    99.0           0  \n",
       "2384  4.237100  5.219616  20.417910   203.0    99.0           0  \n",
       "436   2.963371  5.076014  17.354864   203.0    92.0           0  \n",
       "435   1.648421  6.214737  12.941053   216.0   106.0           0  \n",
       "1236  2.994690  3.631858  16.158584   203.0    97.0           0  \n",
       "433   2.957320  6.063332  18.140431   201.0   104.0           0  \n",
       "1250  2.819107  3.101018  24.272514   218.0   102.0           0  \n",
       "1262  2.261572  3.028655  15.950037   201.0    97.0           0  \n",
       "2362  2.240433  3.451102  12.746811   206.0   100.0           0  \n",
       "2359  1.639286  2.748214  13.692857   203.0   106.0           0  \n",
       "2354  2.664449  3.517672  13.980873   218.0   108.0           0  \n",
       "1282  2.857143  4.725869  15.150579   201.0    99.0           0  \n",
       "417   2.663525  3.460886  15.472196   211.0   106.0           0  \n",
       "1286  2.975689  4.594814  18.816856   216.0   111.0           0  \n",
       "415   3.479054  4.524264  19.470759   213.0   104.0           0  \n",
       "414   3.185955  4.243640  19.605876   208.0    97.0           0  \n",
       "2347  3.737081  4.047144  22.128740   213.0   108.0           0  \n",
       "410   3.050847  4.378863  15.182453   211.0   108.0           0  \n",
       "2869  3.306630  3.866022  22.562155   213.0   108.0           0  \n",
       "404   2.836879  3.177305  19.602837   201.0    97.0           0  \n",
       "1300  2.901620  4.181746  23.611221   206.0    99.0           0  \n",
       "2876  1.695509  1.866375  18.519168   211.0   113.0           0  \n",
       "397   4.880878  4.528213  24.192790   203.0   106.0           0  \n",
       "2334  1.236460  2.270806  10.569353   218.0   124.0           0  \n",
       "...        ...       ...        ...     ...     ...         ...  \n",
       "831   3.582090  3.962687  14.238806   188.0    79.0           6  \n",
       "2611  2.833176  3.189444  14.098021   188.0    77.0           6  \n",
       "1598  1.508982  3.497006  16.311377   188.0    79.0           6  \n",
       "825   2.401906  4.803813  11.323272   201.0    83.0           6  \n",
       "824   2.000000  3.522727  13.522727   198.0    95.0           6  \n",
       "1601  2.236994  2.015896  13.942197   183.0    77.0           6  \n",
       "2607  3.193317  2.720764  16.539379   190.0    77.0           6  \n",
       "815   1.482072  3.011952  16.063745   188.0    79.0           6  \n",
       "851   3.562823  3.129088  14.235800   201.0    90.0           6  \n",
       "2591  2.703557  2.027668  13.606719   185.0    77.0           6  \n",
       "891   4.620155  3.720930  17.116279   185.0    77.0           6  \n",
       "890   4.146514  3.844660  15.521624   185.0    77.0           6  \n",
       "2571  2.093853  3.140780  11.516193   190.0    74.0           6  \n",
       "2572  2.036738  2.962528  11.823659   190.0    74.0           6  \n",
       "887   2.328114  2.940776  16.247788   190.0    79.0           6  \n",
       "886   1.512605  2.463385  13.721489   190.0    83.0           6  \n",
       "885   1.498216  2.504162  13.655172   190.0    83.0           6  \n",
       "883   3.470558  2.626368  10.411673   190.0    79.0           6  \n",
       "1590  2.761644  3.043444  18.190215   190.0    77.0           6  \n",
       "2170  3.437666  5.251989  13.273210   190.0    81.0           6  \n",
       "879   4.035587  3.416370  13.708185   185.0    77.0           6  \n",
       "1570  2.320346  2.528139  16.017316   188.0    77.0           6  \n",
       "1577  2.955565  2.589928  18.190436   185.0    77.0           6  \n",
       "1581  3.237911  3.133462  12.394584   193.0    81.0           6  \n",
       "862   4.376900  4.960486  11.161094   185.0    77.0           6  \n",
       "861   4.199021  4.845024  11.539967   185.0    77.0           6  \n",
       "2588  2.544286  1.569527  16.967416   188.0    74.0           6  \n",
       "2161  4.507285  3.263896  15.872639   185.0    77.0           6  \n",
       "880   3.405139  5.117551   6.711864   193.0    87.0           6  \n",
       "1942  2.316124  3.345512  13.896743   188.0    83.0           6  \n",
       "\n",
       "[3073 rows x 54 columns]"
      ]
     },
     "execution_count": 627,
     "metadata": {},
     "output_type": "execute_result"
    }
   ],
   "source": [
    "pre90s_all_cluster_sort"
   ]
  },
  {
   "cell_type": "markdown",
   "metadata": {},
   "source": [
    "## Repeat similar approach for post 2010 data"
   ]
  },
  {
   "cell_type": "markdown",
   "metadata": {},
   "source": [
    "#### Inteprate through normalized dataset"
   ]
  },
  {
   "cell_type": "code",
   "execution_count": 552,
   "metadata": {},
   "outputs": [
    {
     "data": {
      "text/plain": [
       "<matplotlib.figure.Figure at 0x1a2dec4690>"
      ]
     },
     "metadata": {},
     "output_type": "display_data"
    },
    {
     "data": {
      "image/png": "[encoded data removed]",
      "text/plain": [
       "<matplotlib.figure.Figure at 0x1a2e162bd0>"
      ]
     },
     "metadata": {
      "needs_background": "light"
     },
     "output_type": "display_data"
    }
   ],
   "source": [
    "_10s_cluster = _10s_idx7\n",
    "_10s_z = pd.DataFrame(_10s_z)\n",
    "_10s_z.index = _10s.index\n",
    "_10s_z.columns = _10s.columns\n",
    "\n",
    "##Add the cluster membership to first dataframe x\n",
    "_10s_z['cluster_ID'] = _10s_cluster[:]\n",
    "_10s_z_cluster_sort = _10s_z.sort_values('cluster_ID')\n",
    "\n",
    "## Sort the players by cluster membership\n",
    "cluster1 = _10s_z_cluster_sort.loc[_10s_z_cluster_sort[\"cluster_ID\"] == 0]\n",
    "cluster2 = _10s_z_cluster_sort.loc[_10s_z_cluster_sort[\"cluster_ID\"] == 1]\n",
    "cluster3 = _10s_z_cluster_sort.loc[_10s_z_cluster_sort[\"cluster_ID\"] == 2]\n",
    "cluster4 = _10s_z_cluster_sort.loc[_10s_z_cluster_sort[\"cluster_ID\"] == 3]\n",
    "cluster5 = _10s_z_cluster_sort.loc[_10s_z_cluster_sort[\"cluster_ID\"] == 4]\n",
    "cluster6 = _10s_z_cluster_sort.loc[_10s_z_cluster_sort[\"cluster_ID\"] == 5]\n",
    "cluster7 = _10s_z_cluster_sort.loc[_10s_z_cluster_sort[\"cluster_ID\"] == 6]\n",
    "\n",
    "#calculate mean values for each clusters\n",
    "c1means = pd.DataFrame(cluster1.mean())\n",
    "c2means = pd.DataFrame(cluster2.mean())\n",
    "c3means = pd.DataFrame(cluster3.mean())\n",
    "c4means = pd.DataFrame(cluster4.mean())\n",
    "c5means = pd.DataFrame(cluster5.mean())\n",
    "c6means = pd.DataFrame(cluster6.mean())\n",
    "c7means = pd.DataFrame(cluster7.mean())\n",
    "\n",
    "summary = pd.concat([c1means, c2means, c3means, c4means, c5means, c6means, c7means], axis=1, join_axes = [c1means.index])\n",
    " \n",
    "## Assign column names to the dataframe summary\n",
    "summary.columns = ['Cluster_1', 'Cluster_2', 'Cluster_3', 'Cluster_4', 'Cluster_5', 'Cluster_6', 'Cluster_7']\n",
    "\n",
    "summary_feature1 = summary.loc[['height','weight']]\n",
    "summary_feature1 = summary_feature1.transpose()\n",
    "plt.figure()\n",
    "summary_feature1.plot(kind ='bar')\n",
    "plt.legend(bbox_to_anchor=(1.05, 1), loc=2, borderaxespad=0.) ## to move the legend outside of plot\n",
    "plt.show()"
   ]
  },
  {
   "cell_type": "markdown",
   "metadata": {},
   "source": [
    "#### large players: Cluster_2, Cluster_4, Cluster_7\n",
    "#### medium players: Cluster_5\n",
    "#### small players: Cluster_1, Cluster_3, Cluster_6"
   ]
  },
  {
   "cell_type": "code",
   "execution_count": 553,
   "metadata": {},
   "outputs": [],
   "source": [
    "summary_feature2 = summary.loc[['PTS','AST','TRB','STL','BLK','PF']]\n",
    "summary_feature2 = summary_feature2.transpose()"
   ]
  },
  {
   "cell_type": "code",
   "execution_count": 554,
   "metadata": {},
   "outputs": [
    {
     "data": {
      "text/plain": [
       "<matplotlib.legend.Legend at 0x1a2dd36890>"
      ]
     },
     "execution_count": 554,
     "metadata": {},
     "output_type": "execute_result"
    },
    {
     "data": {
      "image/png": "[encoded data removed]",
      "text/plain": [
       "<matplotlib.figure.Figure at 0x1a2dce8bd0>"
      ]
     },
     "metadata": {},
     "output_type": "display_data"
    }
   ],
   "source": [
    "from math import pi\n",
    "\n",
    "# ------- PART 1: Create background\n",
    " \n",
    "# number of variable\n",
    "categories=list(summary_feature2)[0:]\n",
    "N = len(categories) \n",
    " \n",
    "# What will be the angle of each axis in the plot? (we divide the plot / number of variable)\n",
    "angles = [n / float(N) * 2 * pi for n in range(N)]\n",
    "angles += angles[:1]\n",
    " \n",
    "# Initialise the spider plot\n",
    "ax = plt.subplot(111, polar=True)\n",
    " \n",
    "# If you want the first axis to be on top:\n",
    "ax.set_theta_offset(pi / 2)\n",
    "ax.set_theta_direction(-1)\n",
    " \n",
    "# Draw one axe per variable + add labels labels yet\n",
    "plt.xticks(angles[:-1], categories)\n",
    " \n",
    "# Draw ylabels\n",
    "ax.set_rlabel_position(0)\n",
    "plt.yticks([-1,-0.5,0,0.5,1,1.5], [\"-1\",\"-0.5\",\"0\",\"0.5\",\"1\",\"1.5\"], color=\"grey\", size=7)\n",
    "plt.ylim(-1.5,2.0)\n",
    " \n",
    " \n",
    "# ------- PART 2: Add plots\n",
    " \n",
    "# Plot each individual = each line of the data\n",
    "# I don't do a loop, because plotting more than 3 groups makes the chart unreadable\n",
    " \n",
    "# Ind1\n",
    "values=summary_feature2.loc['Cluster_1'].values.tolist()\n",
    "values += values[:1]\n",
    "ax.plot(angles, values, linewidth=1, linestyle='solid', label=\"Cluster_1\")\n",
    "ax.fill(angles, values, 'b', alpha=0.1)\n",
    " \n",
    "# Ind2\n",
    "values=summary_feature2.loc['Cluster_2'].values.tolist()\n",
    "values += values[:1]\n",
    "ax.plot(angles, values, linewidth=1, linestyle='solid', label=\"Cluster_2\")\n",
    "ax.fill(angles, values, 'r', alpha=0.1)\n",
    "\n",
    "# Ind3\n",
    "values=summary_feature2.loc['Cluster_3'].values.tolist()\n",
    "values += values[:1]\n",
    "ax.plot(angles, values, linewidth=1, linestyle='solid', label=\"Cluster_3\")\n",
    "ax.fill(angles, values, 'b', alpha=0.1)\n",
    " \n",
    "# Ind4\n",
    "values=summary_feature2.loc['Cluster_4'].values.tolist()\n",
    "values += values[:1]\n",
    "ax.plot(angles, values, linewidth=1, linestyle='solid', label=\"Cluster_4\")\n",
    "ax.fill(angles, values, 'r', alpha=0.1)\n",
    "\n",
    "# Ind5\n",
    "values=summary_feature2.loc['Cluster_5'].values.tolist()\n",
    "values += values[:1]\n",
    "ax.plot(angles, values, linewidth=1, linestyle='solid', label=\"Cluster_5\")\n",
    "ax.fill(angles, values, 'b', alpha=0.1)\n",
    " \n",
    "# Ind6\n",
    "values=summary_feature2.loc['Cluster_6'].values.tolist()\n",
    "values += values[:1]\n",
    "ax.plot(angles, values, linewidth=1, linestyle='solid', label=\"Cluster_6\")\n",
    "ax.fill(angles, values, 'r', alpha=0.1)\n",
    "\n",
    " \n",
    "# Ind7\n",
    "values=summary_feature2.loc['Cluster_7'].values.tolist()\n",
    "values += values[:1]\n",
    "ax.plot(angles, values, linewidth=1, linestyle='solid', label=\"Cluster_7\")\n",
    "ax.fill(angles, values, 'r', alpha=0.1)\n",
    "\n",
    "# Add legend\n",
    "plt.legend(loc='upper right', bbox_to_anchor=(0.1, 0.1))"
   ]
  },
  {
   "cell_type": "markdown",
   "metadata": {},
   "source": [
    "#### Cluster_7: big players well-rounded in all areas\n",
    "#### Cluster_3: small players particularly strong in scoring, assisting and stealing\n",
    "#### Cluster_2: big players particularly strong in rebounding and blocking, and and also getting fouls\n",
    "#### Cluster_4: big players exceptionaly strong in rebounding and blocking\n",
    "#### Cluster_6: small players relatively strong in assisting and stealing\n",
    "#### Cluster_1: small players average in all areas\n",
    "#### Cluster_5: medium players average in all areas"
   ]
  },
  {
   "cell_type": "code",
   "execution_count": 555,
   "metadata": {},
   "outputs": [],
   "source": [
    "summary_feature3 = summary.loc[['2P','2P%','3P','3P%','FT','FT%']]\n",
    "summary_feature3 = summary_feature3.transpose()"
   ]
  },
  {
   "cell_type": "code",
   "execution_count": 556,
   "metadata": {},
   "outputs": [
    {
     "data": {
      "text/plain": [
       "<matplotlib.legend.Legend at 0x1a2da67890>"
      ]
     },
     "execution_count": 556,
     "metadata": {},
     "output_type": "execute_result"
    },
    {
     "data": {
      "image/png": "[encoded data removed]",
      "text/plain": [
       "<matplotlib.figure.Figure at 0x1a2c4563d0>"
      ]
     },
     "metadata": {},
     "output_type": "display_data"
    }
   ],
   "source": [
    "from math import pi\n",
    "\n",
    "# ------- PART 1: Create background\n",
    " \n",
    "# number of variable\n",
    "categories=list(summary_feature3)[0:]\n",
    "N = len(categories) \n",
    " \n",
    "# What will be the angle of each axis in the plot? (we divide the plot / number of variable)\n",
    "angles = [n / float(N) * 2 * pi for n in range(N)]\n",
    "angles += angles[:1]\n",
    " \n",
    "# Initialise the spider plot\n",
    "ax = plt.subplot(111, polar=True)\n",
    " \n",
    "# If you want the first axis to be on top:\n",
    "ax.set_theta_offset(pi / 2)\n",
    "ax.set_theta_direction(-1)\n",
    " \n",
    "# Draw one axe per variable + add labels labels yet\n",
    "plt.xticks(angles[:-1], categories)\n",
    " \n",
    "# Draw ylabels\n",
    "ax.set_rlabel_position(0)\n",
    "plt.yticks([-1,-0.5,0,0.5,1,1.5,2], [\"-1\",\"-0.5\",\"0\",\"0.5\",\"1\",\"1.5\",\"2\"], color=\"grey\", size=7)\n",
    "plt.ylim(-1.5,2.5)\n",
    " \n",
    "\n",
    "# ------- PART 2: Add plots\n",
    " \n",
    "# Plot each individual = each line of the data\n",
    "# I don't do a loop, because plotting more than 3 groups makes the chart unreadable\n",
    " \n",
    "# Ind1\n",
    "values=summary_feature3.loc['Cluster_1'].values.tolist()\n",
    "values += values[:1]\n",
    "ax.plot(angles, values, linewidth=1, linestyle='solid', label=\"Cluster_1\")\n",
    "ax.fill(angles, values, 'b', alpha=0.1)\n",
    " \n",
    "# Ind2\n",
    "values=summary_feature3.loc['Cluster_2'].values.tolist()\n",
    "values += values[:1]\n",
    "ax.plot(angles, values, linewidth=1, linestyle='solid', label=\"Cluster_2\")\n",
    "ax.fill(angles, values, 'r', alpha=0.1)\n",
    "\n",
    "# Ind3\n",
    "values=summary_feature3.loc['Cluster_3'].values.tolist()\n",
    "values += values[:1]\n",
    "ax.plot(angles, values, linewidth=1, linestyle='solid', label=\"Cluster_3\")\n",
    "ax.fill(angles, values, 'b', alpha=0.1)\n",
    " \n",
    "# Ind4\n",
    "values=summary_feature3.loc['Cluster_4'].values.tolist()\n",
    "values += values[:1]\n",
    "ax.plot(angles, values, linewidth=1, linestyle='solid', label=\"Cluster_4\")\n",
    "ax.fill(angles, values, 'r', alpha=0.1)\n",
    "\n",
    "# Ind5\n",
    "values=summary_feature3.loc['Cluster_5'].values.tolist()\n",
    "values += values[:1]\n",
    "ax.plot(angles, values, linewidth=1, linestyle='solid', label=\"Cluster_5\")\n",
    "ax.fill(angles, values, 'b', alpha=0.1)\n",
    " \n",
    "# Ind6\n",
    "values=summary_feature3.loc['Cluster_6'].values.tolist()\n",
    "values += values[:1]\n",
    "ax.plot(angles, values, linewidth=1, linestyle='solid', label=\"Cluster_6\")\n",
    "ax.fill(angles, values, 'r', alpha=0.1)\n",
    "\n",
    " \n",
    "# Ind7\n",
    "values=summary_feature3.loc['Cluster_7'].values.tolist()\n",
    "values += values[:1]\n",
    "ax.plot(angles, values, linewidth=1, linestyle='solid', label=\"Cluster_7\")\n",
    "ax.fill(angles, values, 'r', alpha=0.1)\n",
    "\n",
    "# Add legend\n",
    "plt.legend(loc='upper right', bbox_to_anchor=(0.1, 0.1))"
   ]
  },
  {
   "cell_type": "markdown",
   "metadata": {},
   "source": [
    "#### Cluster_7: big players who shoot mid-range and free throw often, well-rounded in all areas\n",
    "#### Cluster_3: small players who's exceptionally strong in all kinds of shooting, assisting and stealing\n",
    "#### Cluster_2: big players who don't shoot much, but particularly strong in rebounding and blocking, and and also getting fouls\n",
    "#### Cluster_4: big players have good under basket shoots, bad at free throws, exceptionaly strong in rebounding and blocking\n",
    "#### Cluster_6: small players have well rounded shooting options, relatively strong in assisting and stealing\n",
    "#### Cluster_1: small players focus more on three points shooting, average in all areas\n",
    "#### Cluster_5: medium players who focus more on three points shooting, average in all areas"
   ]
  },
  {
   "cell_type": "markdown",
   "metadata": {},
   "source": [
    "### Inteprate through unnormalized dataset"
   ]
  },
  {
   "cell_type": "code",
   "execution_count": 557,
   "metadata": {
    "scrolled": false
   },
   "outputs": [
    {
     "name": "stdout",
     "output_type": "stream",
     "text": [
      "                 Cluster_1     Cluster_2     Cluster_3     Cluster_4  \\\n",
      "Unnamed: 0    14124.746193  13666.398714  14194.413793  14093.038328   \n",
      "Unnamed: 0.1  22554.390863  21768.366559  22673.706897  22498.585366   \n",
      "Year           2013.928934   2012.633441   2014.114943   2013.888502   \n",
      "Age              26.413706     26.205788     27.178161     26.313589   \n",
      "G                56.406091     60.469453     70.379310     66.327526   \n",
      "MP              992.771574   1083.189711   2401.241379   1434.254355   \n",
      "PER               0.393951      0.457977      0.350532      0.497141   \n",
      "TS%               0.480784      0.501801      0.575115      0.588631   \n",
      "3PAr              0.375297      0.052492      0.286218      0.018174   \n",
      "FTr               0.196975      0.310322      0.381983      0.447066   \n",
      "ORB%              2.652538      9.222186      2.966092     11.445993   \n",
      "DRB%             11.078426     18.697106     13.430460     21.810801   \n",
      "TRB%              6.845685     13.927653      8.277011     16.656098   \n",
      "AST%             14.571827      6.951447     28.457471      6.353310   \n",
      "STL%              1.605584      1.407074      2.037931      1.337282   \n",
      "BLK%              0.848731      2.576206      1.039655      4.020209   \n",
      "TOV%             14.675635     14.902894     12.951149     14.816725   \n",
      "USG%             17.180457     15.763987     28.185632     15.435192   \n",
      "OWS              -0.006136      0.012680      0.095104      0.058705   \n",
      "DWS               0.027214      0.040277      0.040571      0.051513   \n",
      "WS                0.021142      0.052976      0.135674      0.110161   \n",
      "WS/48             0.028195      0.070608      0.180862      0.146889   \n",
      "OBPM             -0.109807     -0.124023      0.068523     -0.036203   \n",
      "DBPM             -0.046459      0.027006     -0.004256      0.054253   \n",
      "BPM              -0.156264     -0.096961      0.064364      0.017962   \n",
      "VORP             -0.013879     -0.001539      0.057176      0.026737   \n",
      "FG                4.246995      4.392488      7.751028      4.987959   \n",
      "FGA              10.860447      9.509357     16.866307      8.898012   \n",
      "FG%               0.390523      0.463868      0.459529      0.562808   \n",
      "3P                1.291599      0.151355      1.767693      0.049207   \n",
      "3PA               4.039137      0.548840      4.782604      0.172413   \n",
      "3P%               0.317193      0.121370      0.359713      0.076672   \n",
      "2P                2.955395      4.241133      5.983336      4.938752   \n",
      "2PA               6.821310      8.960517     12.083703      8.725599   \n",
      "2P%               0.431340      0.474267      0.494764      0.568101   \n",
      "eFG%              0.450510      0.471032      0.512506      0.565369   \n",
      "FT                1.571509      1.834795      5.337488      2.405585   \n",
      "FTA               2.133904      2.791918      6.387809      3.815618   \n",
      "FT%               0.733624      0.659961      0.836983      0.635739   \n",
      "ORB               0.850012      2.920009      0.926684      3.613834   \n",
      "DRB               3.516228      5.844210      4.329185      6.961881   \n",
      "TRB               4.366240      8.764219      5.255868     10.575715   \n",
      "AST               3.451057      1.610680      5.898811      1.478671   \n",
      "STL               1.130265      0.979759      1.439184      0.944355   \n",
      "BLK               0.385738      1.188963      0.470089      1.837919   \n",
      "TOV               2.001121      1.813539      2.918749      1.802146   \n",
      "PF                3.077308      4.414602      2.382979      4.271813   \n",
      "PTS              11.357098     10.771126     22.607238     12.430709   \n",
      "height          195.746193    206.565916    196.011494    209.714286   \n",
      "weight           92.269036    108.675241     95.333333    111.679443   \n",
      "cluster_ID        0.000000      1.000000      2.000000      3.000000   \n",
      "\n",
      "                 Cluster_5     Cluster_6     Cluster_7  \n",
      "Unnamed: 0    14137.479777  13762.621094  13997.926554  \n",
      "Unnamed: 0.1  22576.810321  21933.238281  22336.084746  \n",
      "Year           2014.001395   2012.916016   2013.570621  \n",
      "Age              27.429568     26.009766     26.737288  \n",
      "G                68.850767     67.916016     70.203390  \n",
      "MP             1701.350070   1904.320312   2011.237288  \n",
      "PER               0.304110      0.311248      0.360089  \n",
      "TS%               0.550003      0.525451      0.547395  \n",
      "3PAr              0.460296      0.269393      0.074071  \n",
      "FTr               0.202024      0.267391      0.311924  \n",
      "ORB%              3.217434      2.484180      8.635028  \n",
      "DRB%             12.635704     10.288477     21.375424  \n",
      "TRB%              7.941283      6.355078     15.004520  \n",
      "AST%             10.410600     22.950195     10.816102  \n",
      "STL%              1.598745      1.805859      1.383333  \n",
      "BLK%              1.045328      0.664453      2.538136  \n",
      "TOV%             11.003905     14.090234     11.722034  \n",
      "USG%             16.910600     22.222461     22.806780  \n",
      "OWS               0.038157      0.032877      0.051350  \n",
      "DWS               0.033691      0.026661      0.047229  \n",
      "WS                0.071851      0.059516      0.098629  \n",
      "WS/48             0.095808      0.079344      0.131475  \n",
      "OBPM              0.002445      0.006893     -0.009147  \n",
      "DBPM             -0.009558     -0.028163      0.014002  \n",
      "BPM              -0.007157     -0.021279      0.004782  \n",
      "VORP              0.017543      0.011077      0.024249  \n",
      "FG                4.820466      5.925102      7.000308  \n",
      "FGA              11.107485     13.695429     14.177394  \n",
      "FG%               0.434384      0.434148      0.494732  \n",
      "3P                1.904935      1.302378      0.355060  \n",
      "3PA               5.082485      3.747090      1.064142  \n",
      "3P%               0.370605      0.333107      0.205669  \n",
      "2P                2.915530      4.622724      6.645248  \n",
      "2PA               6.025000      9.948340     13.113252  \n",
      "2P%               0.481448      0.464842      0.507720  \n",
      "eFG%              0.520656      0.480959      0.507090  \n",
      "FT                1.739203      2.888057      3.265214  \n",
      "FTA               2.229249      3.617694      4.386481  \n",
      "FT%               0.776756      0.797527      0.745749  \n",
      "ORB               1.021732      0.789385      2.749681  \n",
      "DRB               4.039545      3.222979      6.791771  \n",
      "TRB               5.061277      4.012364      9.541453  \n",
      "AST               2.437818      5.035687      2.271164  \n",
      "STL               1.126210      1.263439      0.969662  \n",
      "BLK               0.479729      0.304118      1.163666  \n",
      "TOV               1.469377      2.475114      2.132675  \n",
      "PF                2.812340      2.581431      3.236068  \n",
      "PTS              13.285070     16.040640     17.620889  \n",
      "height          199.246862    193.238281    208.361582  \n",
      "weight           96.191074     90.089844    111.494350  \n",
      "cluster_ID        4.000000      5.000000      6.000000  \n"
     ]
    },
    {
     "name": "stderr",
     "output_type": "stream",
     "text": [
      "/Users/yidingweng/anaconda3/envs/ai/lib/python2.7/site-packages/ipykernel_launcher.py:2: SettingWithCopyWarning: \n",
      "A value is trying to be set on a copy of a slice from a DataFrame.\n",
      "Try using .loc[row_indexer,col_indexer] = value instead\n",
      "\n",
      "See the caveats in the documentation: http://pandas.pydata.org/pandas-docs/stable/indexing.html#indexing-view-versus-copy\n",
      "  \n"
     ]
    }
   ],
   "source": [
    "_10s_cluster = _10s_idx7\n",
    "_10s_all['cluster_ID'] = _10s_cluster[:]\n",
    "_10s_all_cluster_sort = _10s_all.sort_values('cluster_ID')\n",
    "\n",
    "cluster1 = _10s_all_cluster_sort.loc[_10s_all_cluster_sort[\"cluster_ID\"] == 0]\n",
    "cluster2 = _10s_all_cluster_sort.loc[_10s_all_cluster_sort[\"cluster_ID\"] == 1]\n",
    "cluster3 = _10s_all_cluster_sort.loc[_10s_all_cluster_sort[\"cluster_ID\"] == 2]\n",
    "cluster4 = _10s_all_cluster_sort.loc[_10s_all_cluster_sort[\"cluster_ID\"] == 3]\n",
    "cluster5 = _10s_all_cluster_sort.loc[_10s_all_cluster_sort[\"cluster_ID\"] == 4]\n",
    "cluster6 = _10s_all_cluster_sort.loc[_10s_all_cluster_sort[\"cluster_ID\"] == 5]\n",
    "cluster7 = _10s_all_cluster_sort.loc[_10s_all_cluster_sort[\"cluster_ID\"] == 6]\n",
    "\n",
    "#calculate mean values for each clusters\n",
    "c1means = pd.DataFrame(cluster1.mean())\n",
    "c2means = pd.DataFrame(cluster2.mean())\n",
    "c3means = pd.DataFrame(cluster3.mean())\n",
    "c4means = pd.DataFrame(cluster4.mean())\n",
    "c5means = pd.DataFrame(cluster5.mean())\n",
    "c6means = pd.DataFrame(cluster6.mean())\n",
    "c7means = pd.DataFrame(cluster7.mean())\n",
    "\n",
    "##Concatenate the three dataframes along axis =1 using the index from c1means\n",
    "summary = pd.concat([c1means, c2means, c3means, c4means, c5means, c6means, c7means], axis=1, join_axes = [c1means.index])\n",
    "\n",
    "## Assign column names to the dataframe summary\n",
    "summary.columns = ['Cluster_1', 'Cluster_2', 'Cluster_3', 'Cluster_4', 'Cluster_5', 'Cluster_6', 'Cluster_7']\n",
    "print(summary)"
   ]
  },
  {
   "cell_type": "markdown",
   "metadata": {},
   "source": [
    "### Extra things to notice for each cluster:\n",
    "\n",
    "#### Cluster_4: one of the groups that are tallest and heaviest\n",
    "#### Cluster_3: one of the group played longest time, has the highest USG%(usage rate)\n",
    "#### Cluster_7: one of the groups that are tallest and heaviest\n",
    "#### Cluster_1: G(games played) and MP(minutes played) is signifcantly lower than other clusters"
   ]
  },
  {
   "cell_type": "markdown",
   "metadata": {},
   "source": [
    "### Observation so far for post 2010s players\n",
    "\n",
    "#### Cluster_7: big players who shoot mid-range and free throw often, well-rounded in all areas\n",
    "#### Cluster_3: small players who's exceptionally strong in all kinds of shooting, assisting and stealing, have highest usage\n",
    "#### Cluster_2: big players who don't shoot much, but particularly strong in rebounding and blocking, and and also getting fouls\n",
    "#### Cluster_4: big players have good under basket shoots, bad at free throws, exceptionaly strong in rebounding and blocking\n",
    "#### Cluster_6: small players have well rounded shooting options, relatively strong in assisting and stealing\n",
    "#### Cluster_1: small players focus more on three points shooting, average in all areas, less game time compare to other groups\n",
    "#### Cluster_5: medium players who focus more on three points shooting, average in all areas"
   ]
  },
  {
   "cell_type": "markdown",
   "metadata": {},
   "source": [
    "## Who are in each clusters"
   ]
  },
  {
   "cell_type": "markdown",
   "metadata": {},
   "source": [
    "As before we try to understand the character of each cluster by selecting prominent players in each cluster. "
   ]
  },
  {
   "cell_type": "markdown",
   "metadata": {},
   "source": [
    "### Big man with all traits"
   ]
  },
  {
   "cell_type": "code",
   "execution_count": 559,
   "metadata": {},
   "outputs": [
    {
     "data": {
      "text/plain": [
       "array(['LaMarcus Aldridge', 'Andrea Bargnani', 'Luol Deng', 'Chris Bosh',\n",
       "       'Karl-Anthony Towns', 'Zach Randolph', 'Carlos Boozer',\n",
       "       'Chris Kaman', 'Brook Lopez', 'David Lee', 'Dirk Nowitzki',\n",
       "       'Lamar Odom', 'Myles Turner', 'Gerald Wallace', 'Hassan Whiteside',\n",
       "       'David West', 'Luis Scola', 'Al Horford', 'Josh Smith',\n",
       "       \"Amar'e Stoudemire\", 'Al Jefferson', 'Greg Monroe', 'Pau Gasol',\n",
       "       'Marc Gasol', 'Blake Griffin', 'Kevin Love', 'Marcin Gortat',\n",
       "       'Serge Ibaka', 'Joakim Noah', 'Tristan Thompson', 'Nikola Vucevic',\n",
       "       'Giannis Antetokounmpo', 'Thaddeus Young', 'Paul Millsap',\n",
       "       'Gorgui Dieng', 'Anthony Davis', 'Elton Brand', 'Andre Drummond'], dtype=object)"
      ]
     },
     "execution_count": 559,
     "metadata": {},
     "output_type": "execute_result"
    }
   ],
   "source": [
    "cluster7.loc[cluster7['MP'] >= 2500]['Player'].unique()"
   ]
  },
  {
   "cell_type": "code",
   "execution_count": 560,
   "metadata": {},
   "outputs": [
    {
     "data": {
      "image/png": "[encoded data removed]",
      "text/plain": [
       "<matplotlib.figure.Figure at 0x1a2d42dc10>"
      ]
     },
     "metadata": {},
     "output_type": "display_data"
    }
   ],
   "source": [
    "sns.set(style=\"darkgrid\")\n",
    "ax = sns.countplot(x=\"Pos\", data=cluster1, order=[\"PG\", \"SG\", \"SF\",\"PF\",\"C\"])"
   ]
  },
  {
   "cell_type": "markdown",
   "metadata": {},
   "source": [
    "### Elite player who carries the team"
   ]
  },
  {
   "cell_type": "code",
   "execution_count": 562,
   "metadata": {},
   "outputs": [
    {
     "data": {
      "text/plain": [
       "array(['Jeff Teague', 'Russell Westbrook', 'Damian Lillard',\n",
       "       'LeBron James', 'Kobe Bryant', 'James Harden', 'Carmelo Anthony',\n",
       "       'Kemba Walker', 'Giannis Antetokounmpo', 'Rudy Gay', 'Kevin Durant',\n",
       "       'John Wall', 'Bradley Beal', 'Paul George', 'Jimmy Butler',\n",
       "       'DeMar DeRozan', 'Marc Gasol', 'Dirk Nowitzki', 'Paul Pierce',\n",
       "       'Kevin Love', 'Kyle Lowry', 'Deron Williams', 'Chris Paul',\n",
       "       'Stephen Curry', 'Eric Bledsoe', 'Derrick Rose', 'Dwyane Wade',\n",
       "       'C.J. McCollum', 'Tony Parker', 'Gordon Hayward', 'Isaiah Thomas',\n",
       "       'Danny Granger', 'Goran Dragic', 'Draymond Green', 'Kyrie Irving',\n",
       "       'Steve Nash', 'Kevin Martin', 'Klay Thompson'], dtype=object)"
      ]
     },
     "execution_count": 562,
     "metadata": {},
     "output_type": "execute_result"
    }
   ],
   "source": [
    "cluster3.loc[cluster3['MP'] >= 2500]['Player'].unique()"
   ]
  },
  {
   "cell_type": "code",
   "execution_count": 563,
   "metadata": {},
   "outputs": [
    {
     "data": {
      "image/png": "[encoded data removed]",
      "text/plain": [
       "<matplotlib.figure.Figure at 0x1a24911090>"
      ]
     },
     "metadata": {},
     "output_type": "display_data"
    }
   ],
   "source": [
    "ax = sns.countplot(x=\"Pos\", data=cluster3,order=[\"PG\", \"SG\", \"SF\",\"PF\",\"C\"])"
   ]
  },
  {
   "cell_type": "markdown",
   "metadata": {},
   "source": [
    "### Big Defensive inside"
   ]
  },
  {
   "cell_type": "code",
   "execution_count": 569,
   "metadata": {},
   "outputs": [
    {
     "data": {
      "text/plain": [
       "array(['Kendrick Perkins', 'Markieff Morris', 'Roy Hibbert', 'Luc Mbah',\n",
       "       'Tyler Zeller', 'Brad Miller', 'Bismack Biyombo', 'Jerami Grant',\n",
       "       'Dante Cunningham', 'Nerlens Noel', 'Joakim Noah', 'Brandon Bass',\n",
       "       'Al-Farouq Aminu', 'Tony Allen', 'Jason Thompson', 'Spencer Hawes',\n",
       "       'Michael Kidd-Gilchrist', 'Kenyon Martin', 'Taj Gibson',\n",
       "       'Jonas Jerebko', 'Alex Len', 'Samuel Dalembert',\n",
       "       'Giannis Antetokounmpo'], dtype=object)"
      ]
     },
     "execution_count": 569,
     "metadata": {},
     "output_type": "execute_result"
    }
   ],
   "source": [
    "cluster2.loc[cluster2['MP'] >= 1800]['Player'].unique()"
   ]
  },
  {
   "cell_type": "code",
   "execution_count": 570,
   "metadata": {},
   "outputs": [
    {
     "data": {
      "image/png": "[encoded data removed]",
      "text/plain": [
       "<matplotlib.figure.Figure at 0x1a28132dd0>"
      ]
     },
     "metadata": {},
     "output_type": "display_data"
    }
   ],
   "source": [
    "ax = sns.countplot(x=\"Pos\", data=cluster2,order=[\"PG\", \"SG\", \"SF\",\"PF\",\"C\"])"
   ]
  },
  {
   "cell_type": "markdown",
   "metadata": {},
   "source": [
    "### Under basket offender, ring protector"
   ]
  },
  {
   "cell_type": "code",
   "execution_count": 573,
   "metadata": {},
   "outputs": [
    {
     "data": {
      "text/plain": [
       "array(['Rudy Gobert', 'Amir Johnson', 'Robin Lopez', 'Andre Drummond',\n",
       "       'Nene Hilario', 'Gorgui Dieng', 'Tiago Splitter', 'Brendan Haywood',\n",
       "       'DeAndre Jordan', 'Tyson Chandler', 'Larry Sanders',\n",
       "       'Tristan Thompson', 'Samuel Dalembert', 'Dwight Howard',\n",
       "       'Mason Plumlee', 'Jonas Valanciunas', 'Serge Ibaka', 'Joakim Noah',\n",
       "       'Marcin Gortat', 'Miles Plumlee', 'Reggie Evans', 'Kenneth Faried',\n",
       "       'Marc Gasol', 'Omer Asik', 'Timofey Mozgov', 'JaMychal Green',\n",
       "       'Taj Gibson', 'Chuck Hayes', 'Kris Humphries', 'Zaza Pachulia',\n",
       "       'Steven Adams', 'Hassan Whiteside', 'JaVale McGee', 'Emeka Okafor',\n",
       "       'Greg Monroe', 'Andrew Bogut', 'Anderson Varejao',\n",
       "       'Kendrick Perkins', 'Ben Wallace'], dtype=object)"
      ]
     },
     "execution_count": 573,
     "metadata": {},
     "output_type": "execute_result"
    }
   ],
   "source": [
    "cluster4.loc[cluster4['MP'] >= 1900]['Player'].unique()"
   ]
  },
  {
   "cell_type": "code",
   "execution_count": 575,
   "metadata": {},
   "outputs": [
    {
     "data": {
      "image/png": "[encoded data removed]",
      "text/plain": [
       "<matplotlib.figure.Figure at 0x1a28132890>"
      ]
     },
     "metadata": {},
     "output_type": "display_data"
    }
   ],
   "source": [
    "ax = sns.countplot(x=\"Pos\", data=cluster4,order=[\"PG\", \"SG\", \"SF\",\"PF\",\"C\"])"
   ]
  },
  {
   "cell_type": "markdown",
   "metadata": {},
   "source": [
    "### Outside assistent"
   ]
  },
  {
   "cell_type": "code",
   "execution_count": 579,
   "metadata": {},
   "outputs": [
    {
     "data": {
      "text/plain": [
       "array(['Monta Ellis', 'Khris Middleton', 'C.J. McCollum', 'Beno Udrih',\n",
       "       'Trevor Ariza', 'John Wall', 'D.J. Augustin', 'Thaddeus Young',\n",
       "       'O.J. Mayo', 'Kemba Walker', 'Rajon Rondo', 'Mike Conley',\n",
       "       'Gordon Hayward', 'Jrue Holiday', 'Devin Booker', 'Nicolas Batum',\n",
       "       'DeMar DeRozan', 'Harrison Barnes', 'Andrew Wiggins',\n",
       "       'Brandon Jennings', 'Russell Westbrook', 'Andre Miller',\n",
       "       'Josh Smith', 'John Salmons', 'Derrick Rose', 'Jeff Green',\n",
       "       'Ricky Rubio', 'Wesley Matthews', 'Luol Deng', 'Raymond Felton',\n",
       "       'Andre Iguodala', 'Jeremy Lin', 'Damian Lillard', 'Stephen Jackson',\n",
       "       'Tyreke Evans', 'J.R. Smith', 'Rudy Gay', 'Ty Lawson',\n",
       "       'Jeff Teague', 'Paul George', 'Joe Johnson', 'Greivis Vasquez',\n",
       "       'Evan Turner', 'Aaron Brooks', 'Stephen Curry'], dtype=object)"
      ]
     },
     "execution_count": 579,
     "metadata": {},
     "output_type": "execute_result"
    }
   ],
   "source": [
    "cluster6.loc[cluster6['MP'] >= 2600]['Player'].unique()"
   ]
  },
  {
   "cell_type": "code",
   "execution_count": 580,
   "metadata": {},
   "outputs": [
    {
     "data": {
      "image/png": "[encoded data removed]",
      "text/plain": [
       "<matplotlib.figure.Figure at 0x1a2bc262d0>"
      ]
     },
     "metadata": {},
     "output_type": "display_data"
    }
   ],
   "source": [
    "ax = sns.countplot(x=\"Pos\", data=cluster6,order=[\"PG\", \"SG\", \"SF\",\"PF\",\"C\"])"
   ]
  },
  {
   "cell_type": "markdown",
   "metadata": {},
   "source": [
    "### Secondary ball handler, 3-point shooter"
   ]
  },
  {
   "cell_type": "code",
   "execution_count": 587,
   "metadata": {},
   "outputs": [
    {
     "data": {
      "text/plain": [
       "array(['Joe Johnson', 'Stanley Johnson', 'Emmanuel Mudiay', 'Earl Watson',\n",
       "       'Corey Brewer', 'Marco Belinelli', 'Randy Foye', 'D.J. Augustin',\n",
       "       'Monta Ellis', 'Matthew Dellavedova', 'Steve Blake',\n",
       "       'Travis Outlaw', 'Dion Waiters', 'Nik Stauskas', 'Norris Cole',\n",
       "       'Dante Exum', 'Tayshaun Prince', 'Ben McLemore', 'Kendall Marshall',\n",
       "       \"E'Twaun Moore\", 'Lance Stephenson', 'Michael Beasley',\n",
       "       'Iman Shumpert', 'Kirk Hinrich', 'Luc Mbah', 'Shane Larkin',\n",
       "       'Terrence Williams', 'Derek Fisher', 'Charlie Bell',\n",
       "       'Brandon Jennings', 'Brandon Ingram', 'Jeff Green',\n",
       "       'Domantas Sabonis', 'Isaiah Whitehead', 'Evan Turner',\n",
       "       'Sergio Rodriguez', 'Tim Frazier', 'Chris Duhon'], dtype=object)"
      ]
     },
     "execution_count": 587,
     "metadata": {},
     "output_type": "execute_result"
    }
   ],
   "source": [
    "cluster1.loc[cluster1['MP'] >= 1500]['Player'].unique()"
   ]
  },
  {
   "cell_type": "code",
   "execution_count": 588,
   "metadata": {},
   "outputs": [
    {
     "data": {
      "image/png": "[encoded data removed]",
      "text/plain": [
       "<matplotlib.figure.Figure at 0x1a2e242d90>"
      ]
     },
     "metadata": {},
     "output_type": "display_data"
    }
   ],
   "source": [
    "ax = sns.countplot(x=\"Pos\", data=cluster1, order=[\"PG\", \"SG\", \"SF\",\"PF\",\"C\"])"
   ]
  },
  {
   "cell_type": "markdown",
   "metadata": {},
   "source": [
    "### 3-point shooter, outside defender"
   ]
  },
  {
   "cell_type": "code",
   "execution_count": 595,
   "metadata": {},
   "outputs": [
    {
     "data": {
      "text/plain": [
       "array(['Avery Bradley', 'Arron Afflalo', 'Klay Thompson', 'Trevor Ariza',\n",
       "       'Chandler Parsons', 'Kentavious Caldwell-Pope', 'Jodie Meeks',\n",
       "       'Khris Middleton', 'P.J. Tucker', 'Tobias Harris', 'Draymond Green',\n",
       "       'J.R. Smith', 'Lance Stephenson', 'Ben McLemore', 'Wesley Matthews',\n",
       "       'Joe Johnson', 'Otto Porter', 'Kyle Korver', 'J.J. Redick',\n",
       "       'Marcus Morris', 'Luol Deng', 'Wilson Chandler', 'Courtney Lee',\n",
       "       'Evan Fournier', 'Rodney Hood', 'George Hill', 'Gary Harris',\n",
       "       'Jason Kidd', 'Richard Jefferson', 'Ryan Anderson', 'Nicolas Batum',\n",
       "       'Boris Diaw', 'Grant Hill', 'Alonzo Gee', 'Jeff Green',\n",
       "       'Danilo Gallinari', 'Landry Fields', 'Channing Frye', 'Metta World',\n",
       "       'Marvin Williams', 'Dorell Wright', 'Brandon Rush',\n",
       "       'Jason Richardson', 'Ray Allen', 'Corey Brewer', 'Jimmy Butler',\n",
       "       'Randy Foye', 'Mike Dunleavy', 'Rasual Butler', 'Jose Calderon',\n",
       "       'Tayshaun Prince', 'Shawn Marion'], dtype=object)"
      ]
     },
     "execution_count": 595,
     "metadata": {},
     "output_type": "execute_result"
    }
   ],
   "source": [
    "cluster5.loc[cluster5['MP'] >= 2400]['Player'].unique()"
   ]
  },
  {
   "cell_type": "code",
   "execution_count": 596,
   "metadata": {},
   "outputs": [
    {
     "data": {
      "image/png": "[encoded data removed]",
      "text/plain": [
       "<matplotlib.figure.Figure at 0x1a2e242c90>"
      ]
     },
     "metadata": {},
     "output_type": "display_data"
    }
   ],
   "source": [
    "ax = sns.countplot(x=\"Pos\", data=cluster5, order=[\"PG\", \"SG\", \"SF\",\"PF\",\"C\"])"
   ]
  }
 ],
 "metadata": {
  "kernelspec": {
   "display_name": "Python 2",
   "language": "python",
   "name": "python2"
  },
  "language_info": {
   "codemirror_mode": {
    "name": "ipython",
    "version": 2
   },
   "file_extension": ".py",
   "mimetype": "text/x-python",
   "name": "python",
   "nbconvert_exporter": "python",
   "pygments_lexer": "ipython2",
   "version": "2.7.15"
  }
 },
 "nbformat": 4,
 "nbformat_minor": 2
}
