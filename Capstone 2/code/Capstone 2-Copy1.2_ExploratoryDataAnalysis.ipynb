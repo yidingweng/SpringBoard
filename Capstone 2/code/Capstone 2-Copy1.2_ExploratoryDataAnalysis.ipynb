{
 "cells": [
  {
   "cell_type": "markdown",
   "metadata": {},
   "source": [
    "### Import Packages"
   ]
  },
  {
   "cell_type": "code",
   "execution_count": 31,
   "metadata": {},
   "outputs": [],
   "source": [
    "import re\n",
    "import csv\n",
    "import numpy as np\n",
    "import pandas as pd\n",
    "from pprint import pprint\n",
    "import matplotlib.pyplot as plt\n",
    "from tqdm import tqdm, tqdm_notebook\n",
    "from collections import Counter\n",
    "import spacy\n",
    "from spacy import displacy"
   ]
  },
  {
   "cell_type": "markdown",
   "metadata": {},
   "source": [
    "### Import data"
   ]
  },
  {
   "cell_type": "code",
   "execution_count": null,
   "metadata": {},
   "outputs": [],
   "source": [
    "with open('data/allNews_30%sample_lemmatized.pkl') as csvfile:\n",
    "    reader1 = csv.reader(csvfile)\n",
    "data = pd.read_csv('data/allNews_30%sample_lemmatized.pkl',sep='\\t')"
   ]
  },
  {
   "cell_type": "code",
   "execution_count": 32,
   "metadata": {},
   "outputs": [],
   "source": [
    "data = pd.read_pickle(\"data/allNews_1%sample_lemmatized_nontokenized.pkl\")"
   ]
  },
  {
   "cell_type": "code",
   "execution_count": 33,
   "metadata": {},
   "outputs": [
    {
     "data": {
      "text/html": [
       "<div>\n",
       "<style scoped>\n",
       "    .dataframe tbody tr th:only-of-type {\n",
       "        vertical-align: middle;\n",
       "    }\n",
       "\n",
       "    .dataframe tbody tr th {\n",
       "        vertical-align: top;\n",
       "    }\n",
       "\n",
       "    .dataframe thead th {\n",
       "        text-align: right;\n",
       "    }\n",
       "</style>\n",
       "<table border=\"1\" class=\"dataframe\">\n",
       "  <thead>\n",
       "    <tr style=\"text-align: right;\">\n",
       "      <th></th>\n",
       "      <th>id</th>\n",
       "      <th>title</th>\n",
       "      <th>publication</th>\n",
       "      <th>author</th>\n",
       "      <th>date</th>\n",
       "      <th>year</th>\n",
       "      <th>month</th>\n",
       "      <th>url</th>\n",
       "      <th>content</th>\n",
       "    </tr>\n",
       "  </thead>\n",
       "  <tbody>\n",
       "    <tr>\n",
       "      <th>131500</th>\n",
       "      <td>198273</td>\n",
       "      <td>Ivanka Trump just got booed in Germany for cal...</td>\n",
       "      <td>Vox</td>\n",
       "      <td>Zeeshan Aleem</td>\n",
       "      <td>2017/4/25</td>\n",
       "      <td>2017.0</td>\n",
       "      <td>4.0</td>\n",
       "      <td>http://www.vox.com/world/2017/4/25/15420358/iv...</td>\n",
       "      <td>Ivanka Trump is having trouble convincing the...</td>\n",
       "    </tr>\n",
       "    <tr>\n",
       "      <th>5192</th>\n",
       "      <td>23073</td>\n",
       "      <td>At Debate, Hillary Clinton Leaves Questions Ab...</td>\n",
       "      <td>New York Times</td>\n",
       "      <td>Peter Eavis</td>\n",
       "      <td>2016-04-15</td>\n",
       "      <td>2016.0</td>\n",
       "      <td>4.0</td>\n",
       "      <td>NaN</td>\n",
       "      <td>A jarring regulatory action this week against ...</td>\n",
       "    </tr>\n",
       "  </tbody>\n",
       "</table>\n",
       "</div>"
      ],
      "text/plain": [
       "            id                                              title  \\\n",
       "131500  198273  Ivanka Trump just got booed in Germany for cal...   \n",
       "5192     23073  At Debate, Hillary Clinton Leaves Questions Ab...   \n",
       "\n",
       "           publication         author        date    year  month  \\\n",
       "131500             Vox  Zeeshan Aleem   2017/4/25  2017.0    4.0   \n",
       "5192    New York Times    Peter Eavis  2016-04-15  2016.0    4.0   \n",
       "\n",
       "                                                      url  \\\n",
       "131500  http://www.vox.com/world/2017/4/25/15420358/iv...   \n",
       "5192                                                  NaN   \n",
       "\n",
       "                                                  content  \n",
       "131500   Ivanka Trump is having trouble convincing the...  \n",
       "5192    A jarring regulatory action this week against ...  "
      ]
     },
     "execution_count": 33,
     "metadata": {},
     "output_type": "execute_result"
    }
   ],
   "source": [
    "data.head(2)"
   ]
  },
  {
   "cell_type": "markdown",
   "metadata": {},
   "source": [
    "### Distribution of publication"
   ]
  },
  {
   "cell_type": "code",
   "execution_count": 34,
   "metadata": {},
   "outputs": [
    {
     "data": {
      "text/plain": [
       "Counter({'Vox': 61,\n",
       "         'New York Times': 84,\n",
       "         'Atlantic': 71,\n",
       "         'NPR': 111,\n",
       "         'National Review': 51,\n",
       "         'Reuters': 120,\n",
       "         'Breitbart': 238,\n",
       "         'Washington Post': 113,\n",
       "         'Guardian': 78,\n",
       "         'New York Post': 164,\n",
       "         'CNN': 122,\n",
       "         'Talking Points Memo': 45,\n",
       "         'Fox News': 46,\n",
       "         'Buzzfeed News': 50,\n",
       "         'Business Insider': 72})"
      ]
     },
     "execution_count": 34,
     "metadata": {},
     "output_type": "execute_result"
    }
   ],
   "source": [
    "Counter(data.publication)"
   ]
  },
  {
   "cell_type": "code",
   "execution_count": 35,
   "metadata": {},
   "outputs": [
    {
     "data": {
      "text/plain": [
       "<matplotlib.axes._subplots.AxesSubplot at 0x13a8db208>"
      ]
     },
     "execution_count": 35,
     "metadata": {},
     "output_type": "execute_result"
    },
    {
     "data": {
      "image/png": "[encoded data removed]",
      "text/plain": [
       "<Figure size 720x504 with 1 Axes>"
      ]
     },
     "metadata": {
      "needs_background": "light"
     },
     "output_type": "display_data"
    }
   ],
   "source": [
    "import matplotlib.pyplot as plt\n",
    "plt.figure(figsize=(10,7))\n",
    "data.publication.value_counts().plot(kind='bar')"
   ]
  },
  {
   "cell_type": "code",
   "execution_count": 36,
   "metadata": {},
   "outputs": [
    {
     "data": {
      "application/vnd.jupyter.widget-view+json": {
       "model_id": "5c5fb38e52cd471d83ae3289ec1ed2f3",
       "version_major": 2,
       "version_minor": 0
      },
      "text/plain": [
       "HBox(children=(IntProgress(value=1, bar_style='info', max=1), HTML(value='')))"
      ]
     },
     "metadata": {},
     "output_type": "display_data"
    },
    {
     "name": "stdout",
     "output_type": "stream",
     "text": [
      "\n"
     ]
    }
   ],
   "source": [
    "#for index, row in df.iterrows():\n",
    "    #print(row['c1'], row['c2'])\n",
    "\n",
    "nlp = spacy.load('en')\n",
    "frames = []\n",
    "for i,row in tqdm_notebook(data.iterrows()):\n",
    "    doc = row['content']\n",
    "    text_id = row['id']\n",
    "    doc = nlp(str(doc))\n",
    "    ents = [(e.text, e.start_char, e.end_char, e.label_) \n",
    "            for e in doc.ents \n",
    "            if len(e.text.strip(' -—')) > 0]\n",
    "    frame = pd.DataFrame(ents)\n",
    "    frame['id'] = text_id\n",
    "    frames.append(frame)"
   ]
  },
  {
   "cell_type": "code",
   "execution_count": 37,
   "metadata": {},
   "outputs": [
    {
     "name": "stderr",
     "output_type": "stream",
     "text": [
      "/Users/yidingweng/anaconda3/envs/ai/lib/python3.6/site-packages/ipykernel_launcher.py:1: FutureWarning: Sorting because non-concatenation axis is not aligned. A future version\n",
      "of pandas will change to not sort by default.\n",
      "\n",
      "To accept the future behavior, pass 'sort=False'.\n",
      "\n",
      "To retain the current behavior and silence the warning, pass 'sort=True'.\n",
      "\n",
      "  \"\"\"Entry point for launching an IPython kernel.\n"
     ]
    },
    {
     "data": {
      "text/html": [
       "<div>\n",
       "<style scoped>\n",
       "    .dataframe tbody tr th:only-of-type {\n",
       "        vertical-align: middle;\n",
       "    }\n",
       "\n",
       "    .dataframe tbody tr th {\n",
       "        vertical-align: top;\n",
       "    }\n",
       "\n",
       "    .dataframe thead th {\n",
       "        text-align: right;\n",
       "    }\n",
       "</style>\n",
       "<table border=\"1\" class=\"dataframe\">\n",
       "  <thead>\n",
       "    <tr style=\"text-align: right;\">\n",
       "      <th></th>\n",
       "      <th>0</th>\n",
       "      <th>1</th>\n",
       "      <th>2</th>\n",
       "      <th>3</th>\n",
       "      <th>id</th>\n",
       "    </tr>\n",
       "  </thead>\n",
       "  <tbody>\n",
       "    <tr>\n",
       "      <th>0</th>\n",
       "      <td>Ivanka Trump</td>\n",
       "      <td>0.0</td>\n",
       "      <td>13.0</td>\n",
       "      <td>ORG</td>\n",
       "      <td>198273</td>\n",
       "    </tr>\n",
       "    <tr>\n",
       "      <th>1</th>\n",
       "      <td>W20</td>\n",
       "      <td>155.0</td>\n",
       "      <td>158.0</td>\n",
       "      <td>PERSON</td>\n",
       "      <td>198273</td>\n",
       "    </tr>\n",
       "    <tr>\n",
       "      <th>2</th>\n",
       "      <td>Berlin</td>\n",
       "      <td>267.0</td>\n",
       "      <td>273.0</td>\n",
       "      <td>GPE</td>\n",
       "      <td>198273</td>\n",
       "    </tr>\n",
       "    <tr>\n",
       "      <th>3</th>\n",
       "      <td>Germany</td>\n",
       "      <td>275.0</td>\n",
       "      <td>282.0</td>\n",
       "      <td>GPE</td>\n",
       "      <td>198273</td>\n",
       "    </tr>\n",
       "    <tr>\n",
       "      <th>4</th>\n",
       "      <td>Tuesday</td>\n",
       "      <td>287.0</td>\n",
       "      <td>294.0</td>\n",
       "      <td>DATE</td>\n",
       "      <td>198273</td>\n",
       "    </tr>\n",
       "    <tr>\n",
       "      <th>5</th>\n",
       "      <td>Trump</td>\n",
       "      <td>912.0</td>\n",
       "      <td>917.0</td>\n",
       "      <td>PERSON</td>\n",
       "      <td>198273</td>\n",
       "    </tr>\n",
       "    <tr>\n",
       "      <th>6</th>\n",
       "      <td>one</td>\n",
       "      <td>982.0</td>\n",
       "      <td>985.0</td>\n",
       "      <td>CARDINAL</td>\n",
       "      <td>198273</td>\n",
       "    </tr>\n",
       "    <tr>\n",
       "      <th>7</th>\n",
       "      <td>” Miriam Meckel</td>\n",
       "      <td>1148.0</td>\n",
       "      <td>1163.0</td>\n",
       "      <td>PERSON</td>\n",
       "      <td>198273</td>\n",
       "    </tr>\n",
       "    <tr>\n",
       "      <th>8</th>\n",
       "      <td>German</td>\n",
       "      <td>1175.0</td>\n",
       "      <td>1181.0</td>\n",
       "      <td>NORP</td>\n",
       "      <td>198273</td>\n",
       "    </tr>\n",
       "    <tr>\n",
       "      <th>9</th>\n",
       "      <td>WirtschaftsWoche</td>\n",
       "      <td>1200.0</td>\n",
       "      <td>1216.0</td>\n",
       "      <td>ORG</td>\n",
       "      <td>198273</td>\n",
       "    </tr>\n",
       "  </tbody>\n",
       "</table>\n",
       "</div>"
      ],
      "text/plain": [
       "                  0       1       2         3      id\n",
       "0      Ivanka Trump     0.0    13.0       ORG  198273\n",
       "1               W20   155.0   158.0    PERSON  198273\n",
       "2            Berlin   267.0   273.0       GPE  198273\n",
       "3           Germany   275.0   282.0       GPE  198273\n",
       "4           Tuesday   287.0   294.0      DATE  198273\n",
       "5             Trump   912.0   917.0    PERSON  198273\n",
       "6               one   982.0   985.0  CARDINAL  198273\n",
       "7   ” Miriam Meckel  1148.0  1163.0    PERSON  198273\n",
       "8            German  1175.0  1181.0      NORP  198273\n",
       "9  WirtschaftsWoche  1200.0  1216.0       ORG  198273"
      ]
     },
     "execution_count": 37,
     "metadata": {},
     "output_type": "execute_result"
    }
   ],
   "source": [
    "npf = pd.concat(frames)\n",
    "npf.head(10)"
   ]
  },
  {
   "cell_type": "code",
   "execution_count": 38,
   "metadata": {},
   "outputs": [],
   "source": [
    "npf.columns = ['Text','Start','Stop','Type','id']"
   ]
  },
  {
   "cell_type": "markdown",
   "metadata": {},
   "source": [
    "### Distribution of types of predefined words"
   ]
  },
  {
   "cell_type": "code",
   "execution_count": 39,
   "metadata": {},
   "outputs": [
    {
     "data": {
      "text/plain": [
       "<matplotlib.axes._subplots.AxesSubplot at 0x131eaf358>"
      ]
     },
     "execution_count": 39,
     "metadata": {},
     "output_type": "execute_result"
    },
    {
     "data": {
      "image/png": "[encoded data removed]",
      "text/plain": [
       "<Figure size 720x504 with 1 Axes>"
      ]
     },
     "metadata": {
      "needs_background": "light"
     },
     "output_type": "display_data"
    }
   ],
   "source": [
    "plt.figure(figsize=(10,7))\n",
    "npf.Type.value_counts().plot(kind='bar')"
   ]
  },
  {
   "cell_type": "markdown",
   "metadata": {},
   "source": [
    "### Organizations that are commonly featured"
   ]
  },
  {
   "cell_type": "code",
   "execution_count": 55,
   "metadata": {},
   "outputs": [
    {
     "data": {
      "text/plain": [
       "<matplotlib.axes._subplots.AxesSubplot at 0x12924e748>"
      ]
     },
     "execution_count": 55,
     "metadata": {},
     "output_type": "execute_result"
    },
    {
     "data": {
      "image/png": "[encoded data removed]",
      "text/plain": [
       "<Figure size 720x504 with 1 Axes>"
      ]
     },
     "metadata": {
      "needs_background": "light"
     },
     "output_type": "display_data"
    }
   ],
   "source": [
    "orgs = npf[npf.Type == 'ORG']\n",
    "plt.figure(figsize=(10,7))\n",
    "orgs.Text.value_counts()[:20].plot(kind='bar')"
   ]
  },
  {
   "cell_type": "markdown",
   "metadata": {},
   "source": [
    "### Individuals that are commonly featured"
   ]
  },
  {
   "cell_type": "code",
   "execution_count": 41,
   "metadata": {},
   "outputs": [
    {
     "data": {
      "text/plain": [
       "<matplotlib.axes._subplots.AxesSubplot at 0x1223d2748>"
      ]
     },
     "execution_count": 41,
     "metadata": {},
     "output_type": "execute_result"
    },
    {
     "data": {
      "image/png": "[encoded data removed]",
      "text/plain": [
       "<Figure size 720x504 with 1 Axes>"
      ]
     },
     "metadata": {
      "needs_background": "light"
     },
     "output_type": "display_data"
    }
   ],
   "source": [
    "orgs = npf[npf.Type == 'PERSON']\n",
    "plt.figure(figsize=(10,7))\n",
    "orgs.Text.value_counts()[:15].plot(kind='bar')"
   ]
  },
  {
   "cell_type": "code",
   "execution_count": null,
   "metadata": {},
   "outputs": [],
   "source": []
  }
 ],
 "metadata": {
  "kernelspec": {
   "display_name": "Python 3",
   "language": "python",
   "name": "python3"
  },
  "language_info": {
   "codemirror_mode": {
    "name": "ipython",
    "version": 3
   },
   "file_extension": ".py",
   "mimetype": "text/x-python",
   "name": "python",
   "nbconvert_exporter": "python",
   "pygments_lexer": "ipython3",
   "version": "3.6.8"
  }
 },
 "nbformat": 4,
 "nbformat_minor": 2
}
