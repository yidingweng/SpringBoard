{
 "cells": [
  {
   "cell_type": "markdown",
   "metadata": {},
   "source": [
    "# Ensemble Methods\n",
    "\n",
    "This notebook is the hands-on portion of my [talk on ensemble methods](https://github.com/JeffMacaluso/Talks/blob/master/EnsembleMethods/EnsembleMethods.pptx). If you did not attend that talk and are interested in going through this notebook, I'll make a modified version with more commentary for a blog post and link that here when it's available.\n",
    "\n",
    "**TODO: Add link to blog post**\n",
    "\n",
    "## Overview\n",
    "\n",
    "In this notebook, we'll train a few ensemble models on an artificial dataset for binary classification. We'll use scikit-learn to compare a few different types of ensemble methods, and then use XGBoost and LightGBM for more specialized implementations of gradient boosting. Additionally, we'll go over hyperparameter tuning and discuss a few strategies for tuning ensemble models.\n",
    "\n",
    "One important note here is that we likely won't converge on optimal hyperparameters in this notebook due to the time restrictions of the hands-on portion of the talk. However, the longer blog post version will.\n",
    "\n",
    "## Setup\n",
    "\n",
    "The setup here is largely a series of import statements, creating an artificial classification dataset with [scikit-learn's make_classification function](http://scikit-learn.org/stable/modules/generated/sklearn.datasets.make_classification.html), and then creating a function to train our models and gather various metrics."
   ]
  },
  {
   "cell_type": "code",
   "execution_count": 1,
   "metadata": {
    "ExecuteTime": {
     "end_time": "2018-07-07T03:53:58.762241Z",
     "start_time": "2018-07-07T03:53:58.730991Z"
    }
   },
   "outputs": [
    {
     "name": "stdout",
     "output_type": "stream",
     "text": [
      "2018/07/07 10:16\n",
      "OS: darwin\n",
      "Python: 3.6.1 |Anaconda custom (x86_64)| (default, May 11 2017, 13:04:09) \n",
      "[GCC 4.2.1 Compatible Apple LLVM 6.0 (clang-600.0.57)]\n",
      "NumPy: 1.13.1\n",
      "Pandas: 0.22.0\n"
     ]
    }
   ],
   "source": [
    "import sys\n",
    "import time\n",
    "import scipy\n",
    "import numpy as np\n",
    "import pandas as pd\n",
    "import matplotlib.pyplot as plt\n",
    "import seaborn as sns\n",
    "\n",
    "from sklearn import datasets\n",
    "from sklearn.model_selection import train_test_split\n",
    "from sklearn.model_selection import RandomizedSearchCV\n",
    "from sklearn import ensemble\n",
    "from sklearn import linear_model\n",
    "from sklearn import metrics\n",
    "\n",
    "print(time.strftime('%Y/%m/%d %H:%M'))\n",
    "print('OS:', sys.platform)\n",
    "print('Python:', sys.version)\n",
    "print('NumPy:', np.__version__)\n",
    "print('Pandas:', pd.__version__)\n",
    "\n",
    "%matplotlib inline"
   ]
  },
  {
   "cell_type": "markdown",
   "metadata": {},
   "source": [
    "Creating an artificial data set with [scikit-learn's make_classification function](http://scikit-learn.org/stable/modules/generated/sklearn.datasets.make_classification.html).\n",
    "\n",
    "**Note: The dataset is being kept small to keep within time limits for the talk, but increase the size or swap it out with a real-world dataset to get a better idea of how these algorithms compare under different scenarios**"
   ]
  },
  {
   "cell_type": "code",
   "execution_count": 2,
   "metadata": {
    "ExecuteTime": {
     "end_time": "2018-07-07T03:53:58.840361Z",
     "start_time": "2018-07-07T03:53:58.762241Z"
    }
   },
   "outputs": [
    {
     "data": {
      "text/html": [
       "<div>\n",
       "<style scoped>\n",
       "    .dataframe tbody tr th:only-of-type {\n",
       "        vertical-align: middle;\n",
       "    }\n",
       "\n",
       "    .dataframe tbody tr th {\n",
       "        vertical-align: top;\n",
       "    }\n",
       "\n",
       "    .dataframe thead th {\n",
       "        text-align: right;\n",
       "    }\n",
       "</style>\n",
       "<table border=\"1\" class=\"dataframe\">\n",
       "  <thead>\n",
       "    <tr style=\"text-align: right;\">\n",
       "      <th></th>\n",
       "      <th>0</th>\n",
       "      <th>1</th>\n",
       "      <th>2</th>\n",
       "      <th>3</th>\n",
       "      <th>4</th>\n",
       "      <th>5</th>\n",
       "      <th>6</th>\n",
       "      <th>7</th>\n",
       "      <th>8</th>\n",
       "      <th>9</th>\n",
       "      <th>label</th>\n",
       "    </tr>\n",
       "  </thead>\n",
       "  <tbody>\n",
       "    <tr>\n",
       "      <th>0</th>\n",
       "      <td>-1.609606</td>\n",
       "      <td>-0.405804</td>\n",
       "      <td>1.646726</td>\n",
       "      <td>-1.350422</td>\n",
       "      <td>1.028112</td>\n",
       "      <td>0.150770</td>\n",
       "      <td>0.628511</td>\n",
       "      <td>1.589373</td>\n",
       "      <td>-0.470484</td>\n",
       "      <td>-1.568524</td>\n",
       "      <td>1</td>\n",
       "    </tr>\n",
       "    <tr>\n",
       "      <th>1</th>\n",
       "      <td>1.422521</td>\n",
       "      <td>1.471273</td>\n",
       "      <td>-2.185650</td>\n",
       "      <td>-0.368431</td>\n",
       "      <td>-1.657457</td>\n",
       "      <td>0.528370</td>\n",
       "      <td>-1.002433</td>\n",
       "      <td>-1.864973</td>\n",
       "      <td>-1.004933</td>\n",
       "      <td>1.438955</td>\n",
       "      <td>1</td>\n",
       "    </tr>\n",
       "    <tr>\n",
       "      <th>2</th>\n",
       "      <td>0.908927</td>\n",
       "      <td>-0.049227</td>\n",
       "      <td>0.826947</td>\n",
       "      <td>-0.195883</td>\n",
       "      <td>1.220820</td>\n",
       "      <td>-1.676695</td>\n",
       "      <td>0.720308</td>\n",
       "      <td>0.209854</td>\n",
       "      <td>0.561905</td>\n",
       "      <td>0.758860</td>\n",
       "      <td>1</td>\n",
       "    </tr>\n",
       "    <tr>\n",
       "      <th>3</th>\n",
       "      <td>-0.563904</td>\n",
       "      <td>1.131092</td>\n",
       "      <td>-1.771599</td>\n",
       "      <td>-0.056129</td>\n",
       "      <td>-2.047874</td>\n",
       "      <td>2.180386</td>\n",
       "      <td>-1.217147</td>\n",
       "      <td>-0.923479</td>\n",
       "      <td>0.660668</td>\n",
       "      <td>-0.379916</td>\n",
       "      <td>1</td>\n",
       "    </tr>\n",
       "    <tr>\n",
       "      <th>4</th>\n",
       "      <td>1.353001</td>\n",
       "      <td>1.391851</td>\n",
       "      <td>-1.782492</td>\n",
       "      <td>0.991630</td>\n",
       "      <td>-1.272597</td>\n",
       "      <td>0.234084</td>\n",
       "      <td>-0.772074</td>\n",
       "      <td>-1.587041</td>\n",
       "      <td>-0.552018</td>\n",
       "      <td>1.347231</td>\n",
       "      <td>0</td>\n",
       "    </tr>\n",
       "  </tbody>\n",
       "</table>\n",
       "</div>"
      ],
      "text/plain": [
       "          0         1         2         3         4         5         6  \\\n",
       "0 -1.609606 -0.405804  1.646726 -1.350422  1.028112  0.150770  0.628511   \n",
       "1  1.422521  1.471273 -2.185650 -0.368431 -1.657457  0.528370 -1.002433   \n",
       "2  0.908927 -0.049227  0.826947 -0.195883  1.220820 -1.676695  0.720308   \n",
       "3 -0.563904  1.131092 -1.771599 -0.056129 -2.047874  2.180386 -1.217147   \n",
       "4  1.353001  1.391851 -1.782492  0.991630 -1.272597  0.234084 -0.772074   \n",
       "\n",
       "          7         8         9  label  \n",
       "0  1.589373 -0.470484 -1.568524      1  \n",
       "1 -1.864973 -1.004933  1.438955      1  \n",
       "2  0.209854  0.561905  0.758860      1  \n",
       "3 -0.923479  0.660668 -0.379916      1  \n",
       "4 -1.587041 -0.552018  1.347231      0  "
      ]
     },
     "execution_count": 2,
     "metadata": {},
     "output_type": "execute_result"
    }
   ],
   "source": [
    "# Creating an artificial dataset to test algorithms on\n",
    "data = datasets.make_classification(n_samples=5000,\n",
    "                                    n_classes=2,\n",
    "                                    n_features=10,\n",
    "                                    n_redundant=5,  # Superfluous features working as noise for the algorithms\n",
    "                                    flip_y=0.5,  # Introduces additional noise\n",
    "                                    random_state=46)\n",
    "\n",
    "# Assigning features/labels to variables for ease of use\n",
    "X = data[0]  # Features\n",
    "y = data[1]  # Label\n",
    "\n",
    "# Train/test split\n",
    "X_train, X_test, y_train, y_test = train_test_split(X, y, test_size=0.30, random_state=46)\n",
    "\n",
    "# Putting into a dataframe for viewing\n",
    "df = pd.DataFrame(X)\n",
    "df['label'] = y\n",
    "\n",
    "df.head()"
   ]
  },
  {
   "cell_type": "markdown",
   "metadata": {},
   "source": [
    "In order to adhere to [DRY typing](https://en.wikipedia.org/wiki/Don%27t_repeat_yourself), we'll create a function to train our models and gather the accuracy, [AUC](https://en.wikipedia.org/wiki/Receiver_operating_characteristic#Area_under_the_curve), [log loss](https://en.wikipedia.org/wiki/Cross_entropy), and model training time."
   ]
  },
  {
   "cell_type": "code",
   "execution_count": 3,
   "metadata": {
    "ExecuteTime": {
     "end_time": "2018-07-07T03:53:58.871608Z",
     "start_time": "2018-07-07T03:53:58.840361Z"
    },
    "collapsed": true
   },
   "outputs": [],
   "source": [
    "# Data frame for gathering results \n",
    "results = pd.DataFrame(columns=['Accuracy', 'LogLoss', 'AUC', 'TrainingTime'])\n",
    "tuned_results = results.copy()\n",
    "\n",
    "# Function for training a model and retrieving the results\n",
    "def train_model_get_results(model, model_name):\n",
    "    '''\n",
    "    Trains a model and appends the results to the results dataframe\n",
    "    \n",
    "    Input:\n",
    "        - model: The model with specified hyperparameters to be trained\n",
    "        - model_name: The name of the model to be used as the index\n",
    "        - is_tuned: A binary flag for if hyperparameter tuning has been performed\n",
    "    \n",
    "    Output: The results dataframe with the model results added\n",
    "    \n",
    "    Note: Only works with scikit-learn models and frameworks that integrate \n",
    "          with the scikit-learn API\n",
    "    '''\n",
    "    \n",
    "    # Collecting training time for results\n",
    "    start_time = time.time()\n",
    "    \n",
    "    print('Training the model')\n",
    "    model.fit(X_train, y_train)\n",
    "    \n",
    "    end_time = time.time()\n",
    "    total_training_time = end_time - start_time\n",
    "    print('Completed')\n",
    "    \n",
    "    # Calculating the testing set accuracy with the score method\n",
    "    accuracy = model.score(X_test, y_test)\n",
    "    \n",
    "    # Calcuating the AUC and log loss with predicted probabilities\n",
    "    class_probabilities = model.predict_proba(X_test)\n",
    "    log_loss = metrics.log_loss(y_test, class_probabilities)\n",
    "    auc = metrics.roc_auc_score(y_test, class_probabilities[:, 1])\n",
    "    \n",
    "    # Adding the model results to the results dataframe\n",
    "    model_results = [accuracy, log_loss, auc, total_training_time]\n",
    "    results.loc[model_name] = model_results\n",
    "    \n",
    "    print('\\n', 'Non-tuned results:')\n",
    "    return results"
   ]
  },
  {
   "cell_type": "markdown",
   "metadata": {},
   "source": [
    "## Baseline\n",
    "\n",
    "It's always useful to have a baseline to compare against and let us know generally how difficult a problem is going to be. I like to use linear or logistic regression due to each them being extremely fast to train."
   ]
  },
  {
   "cell_type": "code",
   "execution_count": 4,
   "metadata": {
    "ExecuteTime": {
     "end_time": "2018-07-07T03:53:58.934106Z",
     "start_time": "2018-07-07T03:53:58.871608Z"
    }
   },
   "outputs": [
    {
     "name": "stdout",
     "output_type": "stream",
     "text": [
      "Training the model\n",
      "Completed\n",
      "\n",
      " Non-tuned results:\n"
     ]
    },
    {
     "data": {
      "text/html": [
       "<div>\n",
       "<style scoped>\n",
       "    .dataframe tbody tr th:only-of-type {\n",
       "        vertical-align: middle;\n",
       "    }\n",
       "\n",
       "    .dataframe tbody tr th {\n",
       "        vertical-align: top;\n",
       "    }\n",
       "\n",
       "    .dataframe thead th {\n",
       "        text-align: right;\n",
       "    }\n",
       "</style>\n",
       "<table border=\"1\" class=\"dataframe\">\n",
       "  <thead>\n",
       "    <tr style=\"text-align: right;\">\n",
       "      <th></th>\n",
       "      <th>Accuracy</th>\n",
       "      <th>LogLoss</th>\n",
       "      <th>AUC</th>\n",
       "      <th>TrainingTime</th>\n",
       "    </tr>\n",
       "  </thead>\n",
       "  <tbody>\n",
       "    <tr>\n",
       "      <th>Logistic Regression</th>\n",
       "      <td>0.696</td>\n",
       "      <td>0.604543</td>\n",
       "      <td>0.743498</td>\n",
       "      <td>0.012296</td>\n",
       "    </tr>\n",
       "  </tbody>\n",
       "</table>\n",
       "</div>"
      ],
      "text/plain": [
       "                     Accuracy   LogLoss       AUC  TrainingTime\n",
       "Logistic Regression     0.696  0.604543  0.743498      0.012296"
      ]
     },
     "execution_count": 4,
     "metadata": {},
     "output_type": "execute_result"
    }
   ],
   "source": [
    "# Instantiating the model\n",
    "logistic_regression = linear_model.LogisticRegression()\n",
    "\n",
    "# Using our user defined function to train the model and return the results\n",
    "train_model_get_results(model=logistic_regression, model_name='Logistic Regression')"
   ]
  },
  {
   "cell_type": "markdown",
   "metadata": {
    "ExecuteTime": {
     "end_time": "2018-06-30T21:52:49.624668Z",
     "start_time": "2018-06-30T21:52:49.593513Z"
    }
   },
   "source": [
    "## Bagging\n",
    "\n",
    "Bagging (bootstrap aggregating) is the technique that aggregates models built with bootstrapping, or sampling with replacement, via a majority vote or by averaging the predictions. The trees are independent of each other and can be built in parallel. \n",
    "\n",
    "Bagging models tend to decrease variance.\n",
    "\n",
    "### Random Forest\n",
    "\n",
    "The most popular bagging algorithm is the **random forest**. This algorithm works by building a series of decision trees where each tree uses a random selection of variables, and then decision trees vote on the final answer.  \n",
    "\n",
    "More specifically, for each tree:\n",
    "\n",
    "- Use a different training sample with replacement (bootstrapping) for the data\n",
    "- For each node, choose a number of random attributes and find the best split\n",
    "- Typically is not pruned in order to have a smaller bias\n",
    "\n",
    "Once these trees are grown, a majority vote among all of the trees will be used to make predictions.\n",
    "\n",
    "The main ideas here are that the randomness makes a set of diverse models that helps improve accuracy and using random subsets of features to consider at each split helps make it more efficient to train.\n",
    "\n",
    "<img src=\"http://www.globalsoftwaresupport.com/wp-content/uploads/2018/02/ggff5544hh.png\" width=\"1000px\">\n",
    "\n",
    "**Advantages:**\n",
    "- Robustness against over-fitting\n",
    "    - Since the model is created through dense randomness, the generalization is typically better, and you can usually increase the accuracy with the number of trees up until a saturation point\n",
    "- Able to parallelize training multiple trees at once and thus speed up training time"
   ]
  },
  {
   "cell_type": "code",
   "execution_count": 5,
   "metadata": {
    "ExecuteTime": {
     "end_time": "2018-07-07T03:53:59.309082Z",
     "start_time": "2018-07-07T03:53:58.934106Z"
    }
   },
   "outputs": [
    {
     "name": "stdout",
     "output_type": "stream",
     "text": [
      "Training the model\n",
      "Completed\n",
      "\n",
      " Non-tuned results:\n"
     ]
    },
    {
     "data": {
      "text/html": [
       "<div>\n",
       "<style scoped>\n",
       "    .dataframe tbody tr th:only-of-type {\n",
       "        vertical-align: middle;\n",
       "    }\n",
       "\n",
       "    .dataframe tbody tr th {\n",
       "        vertical-align: top;\n",
       "    }\n",
       "\n",
       "    .dataframe thead th {\n",
       "        text-align: right;\n",
       "    }\n",
       "</style>\n",
       "<table border=\"1\" class=\"dataframe\">\n",
       "  <thead>\n",
       "    <tr style=\"text-align: right;\">\n",
       "      <th></th>\n",
       "      <th>Accuracy</th>\n",
       "      <th>LogLoss</th>\n",
       "      <th>AUC</th>\n",
       "      <th>TrainingTime</th>\n",
       "    </tr>\n",
       "  </thead>\n",
       "  <tbody>\n",
       "    <tr>\n",
       "      <th>Logistic Regression</th>\n",
       "      <td>0.696</td>\n",
       "      <td>0.604543</td>\n",
       "      <td>0.743498</td>\n",
       "      <td>0.012296</td>\n",
       "    </tr>\n",
       "    <tr>\n",
       "      <th>Random Forest</th>\n",
       "      <td>0.660</td>\n",
       "      <td>1.372887</td>\n",
       "      <td>0.695566</td>\n",
       "      <td>0.118306</td>\n",
       "    </tr>\n",
       "  </tbody>\n",
       "</table>\n",
       "</div>"
      ],
      "text/plain": [
       "                     Accuracy   LogLoss       AUC  TrainingTime\n",
       "Logistic Regression     0.696  0.604543  0.743498      0.012296\n",
       "Random Forest           0.660  1.372887  0.695566      0.118306"
      ]
     },
     "execution_count": 5,
     "metadata": {},
     "output_type": "execute_result"
    }
   ],
   "source": [
    "random_forest = ensemble.RandomForestClassifier(n_jobs=-1)  # n_jobs=-1 uses all available cores\n",
    "\n",
    "train_model_get_results(random_forest, model_name='Random Forest')"
   ]
  },
  {
   "cell_type": "markdown",
   "metadata": {},
   "source": [
    "## Boosting\n",
    "\n",
    "Boosting methods train a sequence of weak learners (a learner that is barely better than random chance) where each successive model focuses on the parts that the previous model got wrong. The trees have to be built in a sequence and generally cannot be built in parallel without clever tricks.\n",
    "\n",
    "Boosting models tend to decrease bias.\n",
    "\n",
    "### Gradient Boosting\n",
    "\n",
    "While there are a few different boosting algorithms, gradient boosting is arguably the most popular. It's main differentiation from the others is that it uses gradient descent to decide what to focus on in order to minimize loss for the new trees being built in the sequence. This typically gives it performance advantages over other boosting algorithms.\n",
    "\n",
    "<img src=\"https://littleml.files.wordpress.com/2017/03/boosted-trees-process.png\">\n",
    "\n",
    "*Source: [BigML](https://blog.bigml.com/2017/03/14/introduction-to-boosted-trees/)*\n",
    "\n",
    "**Advantages:**\n",
    "- Can often outperform random forests when properly tuned\n",
    "\n",
    "**Disadvantages:**\n",
    "- Typically overfits easier than bagging\n",
    "- Sensitive to noise & extreme values\n",
    "- Has to be built sequentially, so cannot parallelize without tricks"
   ]
  },
  {
   "cell_type": "code",
   "execution_count": 6,
   "metadata": {
    "ExecuteTime": {
     "end_time": "2018-07-07T03:53:59.980918Z",
     "start_time": "2018-07-07T03:53:59.309082Z"
    }
   },
   "outputs": [
    {
     "name": "stdout",
     "output_type": "stream",
     "text": [
      "Training the model\n",
      "Completed\n",
      "\n",
      " Non-tuned results:\n"
     ]
    },
    {
     "data": {
      "text/html": [
       "<div>\n",
       "<style scoped>\n",
       "    .dataframe tbody tr th:only-of-type {\n",
       "        vertical-align: middle;\n",
       "    }\n",
       "\n",
       "    .dataframe tbody tr th {\n",
       "        vertical-align: top;\n",
       "    }\n",
       "\n",
       "    .dataframe thead th {\n",
       "        text-align: right;\n",
       "    }\n",
       "</style>\n",
       "<table border=\"1\" class=\"dataframe\">\n",
       "  <thead>\n",
       "    <tr style=\"text-align: right;\">\n",
       "      <th></th>\n",
       "      <th>Accuracy</th>\n",
       "      <th>LogLoss</th>\n",
       "      <th>AUC</th>\n",
       "      <th>TrainingTime</th>\n",
       "    </tr>\n",
       "  </thead>\n",
       "  <tbody>\n",
       "    <tr>\n",
       "      <th>Logistic Regression</th>\n",
       "      <td>0.696000</td>\n",
       "      <td>0.604543</td>\n",
       "      <td>0.743498</td>\n",
       "      <td>0.012296</td>\n",
       "    </tr>\n",
       "    <tr>\n",
       "      <th>Random Forest</th>\n",
       "      <td>0.660000</td>\n",
       "      <td>1.372887</td>\n",
       "      <td>0.695566</td>\n",
       "      <td>0.118306</td>\n",
       "    </tr>\n",
       "    <tr>\n",
       "      <th>Gradient Boosted Trees</th>\n",
       "      <td>0.723333</td>\n",
       "      <td>0.596531</td>\n",
       "      <td>0.733317</td>\n",
       "      <td>0.383259</td>\n",
       "    </tr>\n",
       "  </tbody>\n",
       "</table>\n",
       "</div>"
      ],
      "text/plain": [
       "                        Accuracy   LogLoss       AUC  TrainingTime\n",
       "Logistic Regression     0.696000  0.604543  0.743498      0.012296\n",
       "Random Forest           0.660000  1.372887  0.695566      0.118306\n",
       "Gradient Boosted Trees  0.723333  0.596531  0.733317      0.383259"
      ]
     },
     "execution_count": 6,
     "metadata": {},
     "output_type": "execute_result"
    }
   ],
   "source": [
    "gradient_boosting = ensemble.GradientBoostingClassifier()\n",
    "\n",
    "train_model_get_results(gradient_boosting, model_name='Gradient Boosted Trees')"
   ]
  },
  {
   "cell_type": "markdown",
   "metadata": {},
   "source": [
    "### Note on interpretability\n",
    "\n",
    "It's possible to obtain \"feature importance\" from both bagging and boosting methods. These are not as interpretable as coefficients from linear/logistic regressions, but can still give us an idea of what is happening. \n",
    "\n",
    "Note that the multicollinearity assumption applies here - these interpretations will be misleading if the features are heavily correlated with each other."
   ]
  },
  {
   "cell_type": "code",
   "execution_count": 7,
   "metadata": {
    "ExecuteTime": {
     "end_time": "2018-07-07T03:54:00.371517Z",
     "start_time": "2018-07-07T03:53:59.980918Z"
    }
   },
   "outputs": [
    {
     "data": {
      "image/png": "[encoded data removed]",
      "text/plain": [
       "<matplotlib.figure.Figure at 0x11677d940>"
      ]
     },
     "metadata": {},
     "output_type": "display_data"
    }
   ],
   "source": [
    "def feature_importance(model):\n",
    "    '''\n",
    "    Plots the feature importance for an ensemble model from scikit-learn\n",
    "    '''\n",
    "    feature_importance = model.feature_importances_\n",
    "    feature_importance = 100.0 * (feature_importance / feature_importance.max())\n",
    "    sorted_idx = np.argsort(feature_importance)\n",
    "    pos = np.arange(sorted_idx.shape[0]) + .5\n",
    "    plt.figure(figsize=(15, 8))\n",
    "    plt.subplot(1, 2, 2)\n",
    "    plt.barh(pos, feature_importance[sorted_idx], align='center')\n",
    "    plt.yticks(pos, sorted_idx)\n",
    "    plt.xlabel('Relative Importance')\n",
    "    plt.title('Variable Importance')\n",
    "    plt.show()\n",
    "    \n",
    "\n",
    "feature_importance(gradient_boosting)"
   ]
  },
  {
   "cell_type": "markdown",
   "metadata": {},
   "source": [
    "## Stacking\n",
    "\n",
    "Stacking is the final ensemble technique where we combine several different models into a chain of sorts. It is structured similarly to a neural network where layers of models provide predictions that the next layer then uses as inputs. Ultimately, the meta-classifier creates a final prediction.\n",
    "\n",
    "<img src=\"https://qph.fs.quoracdn.net/main-qimg-b22447659f3f63822bc97ba3eff8a546-c\">\n",
    "*Source: [Anshul Joshi](https://www.quora.com/What-is-stacking-in-machine-learning)*\n",
    "\n",
    "This is a little more nuanced than blending models (averaging their predictions for a final prediction) as the meta-learner learns how useful each of the models are.\n",
    "\n",
    "**Advantages:**\n",
    "- Can be more performant when properly tuned\n",
    "\n",
    "**Disadvantages:**\n",
    "- Much more computationally costly\n",
    "- More difficult to tune\n",
    "- Complete loss of interpretability\n",
    "\n",
    "We'll need another function that is similar to our previous one for training the models and getting the results. In this case, we'll deal with one layer of classifiers and use a logistic regression for the meta-learner. We'll use five different algorithms for the first layer, but this function is designed to accept any number of models."
   ]
  },
  {
   "cell_type": "code",
   "execution_count": 8,
   "metadata": {
    "ExecuteTime": {
     "end_time": "2018-07-07T03:54:05.261847Z",
     "start_time": "2018-07-07T03:54:00.371517Z"
    }
   },
   "outputs": [
    {
     "name": "stdout",
     "output_type": "stream",
     "text": [
      "Training the model\n",
      "Completed\n",
      "\n",
      "Coefficients for models\n",
      "Model 1: -1.1702223627923167\n",
      "Model 2: 12.98133010306732\n",
      "Model 3: 0.36520630987009545\n",
      "Model 4: 1.1103610452135195\n",
      "Model 5: -3.0064276509586163\n"
     ]
    },
    {
     "data": {
      "text/html": [
       "<div>\n",
       "<style scoped>\n",
       "    .dataframe tbody tr th:only-of-type {\n",
       "        vertical-align: middle;\n",
       "    }\n",
       "\n",
       "    .dataframe tbody tr th {\n",
       "        vertical-align: top;\n",
       "    }\n",
       "\n",
       "    .dataframe thead th {\n",
       "        text-align: right;\n",
       "    }\n",
       "</style>\n",
       "<table border=\"1\" class=\"dataframe\">\n",
       "  <thead>\n",
       "    <tr style=\"text-align: right;\">\n",
       "      <th></th>\n",
       "      <th>Accuracy</th>\n",
       "      <th>LogLoss</th>\n",
       "      <th>AUC</th>\n",
       "      <th>TrainingTime</th>\n",
       "    </tr>\n",
       "  </thead>\n",
       "  <tbody>\n",
       "    <tr>\n",
       "      <th>Logistic Regression</th>\n",
       "      <td>0.696000</td>\n",
       "      <td>0.604543</td>\n",
       "      <td>0.743498</td>\n",
       "      <td>0.012296</td>\n",
       "    </tr>\n",
       "    <tr>\n",
       "      <th>Random Forest</th>\n",
       "      <td>0.660000</td>\n",
       "      <td>1.372887</td>\n",
       "      <td>0.695566</td>\n",
       "      <td>0.118306</td>\n",
       "    </tr>\n",
       "    <tr>\n",
       "      <th>Gradient Boosted Trees</th>\n",
       "      <td>0.723333</td>\n",
       "      <td>0.596531</td>\n",
       "      <td>0.733317</td>\n",
       "      <td>0.383259</td>\n",
       "    </tr>\n",
       "    <tr>\n",
       "      <th>Stacking</th>\n",
       "      <td>0.644000</td>\n",
       "      <td>1.053404</td>\n",
       "      <td>0.677154</td>\n",
       "      <td>3.137867</td>\n",
       "    </tr>\n",
       "  </tbody>\n",
       "</table>\n",
       "</div>"
      ],
      "text/plain": [
       "                        Accuracy   LogLoss       AUC  TrainingTime\n",
       "Logistic Regression     0.696000  0.604543  0.743498      0.012296\n",
       "Random Forest           0.660000  1.372887  0.695566      0.118306\n",
       "Gradient Boosted Trees  0.723333  0.596531  0.733317      0.383259\n",
       "Stacking                0.644000  1.053404  0.677154      3.137867"
      ]
     },
     "execution_count": 8,
     "metadata": {},
     "output_type": "execute_result"
    }
   ],
   "source": [
    "def train_stacking_get_results(list_of_models):\n",
    "    '''\n",
    "    Trains a stacking classifier and appends the results to the rsults dataframe\n",
    "    \n",
    "    Input: list_of_models: a list of untrained scikit-learn models\n",
    "    \n",
    "    Output: The results dataframe with the model results added\n",
    "    \n",
    "    Note: Only works with scikit-learn models and frameworks that integrate \n",
    "          with the scikit-learn API\n",
    "    '''\n",
    "    # The meta learner is the one that takes the outputs from\n",
    "    # the other models as input before final classification\n",
    "    meta_learner = linear_model.LogisticRegression()\n",
    "\n",
    "    # Collecting training time for results\n",
    "    start_time = time.time()\n",
    "    print('Training the model')\n",
    "\n",
    "    # Fitting the first layer models\n",
    "    for model in list_of_models:\n",
    "        model.fit(X_train, y_train)\n",
    "\n",
    "    # Collecting the predictions from the models for training\n",
    "    model_output = []\n",
    "\n",
    "    for model in list_of_models:\n",
    "        class_probabilities = model.predict_proba(X_train)[:, 1]\n",
    "        model_output.append(class_probabilities)\n",
    "\n",
    "    # Re-shaping before passing to the meta learner\n",
    "    X_train_meta = np.array(model_output).transpose()\n",
    "\n",
    "    # Fitting the meta learner\n",
    "    meta_learner.fit(X_train_meta, y_train)\n",
    "\n",
    "    end_time = time.time()\n",
    "    total_time = end_time - start_time\n",
    "    print('Completed')\n",
    "\n",
    "    # Collecting the predictions from the models for testing\n",
    "    model_output = []\n",
    "\n",
    "    for model in list_of_models:\n",
    "        class_probabilities = model.predict_proba(X_test)[:, 1]\n",
    "        model_output.append(class_probabilities)\n",
    "\n",
    "    # Re-shaping before passing to the meta learner\n",
    "    X_test_meta = np.array(model_output).transpose()\n",
    "\n",
    "    # Collecting the accuracy from the meta learner\n",
    "    accuracy = meta_learner.score(X_test_meta, y_test)\n",
    "\n",
    "    # Calcuating the log loss with predicted probabilities\n",
    "    class_probabilities = meta_learner.predict_proba(X_test_meta)\n",
    "    log_loss = metrics.log_loss(y_test, class_probabilities)\n",
    "    auc = metrics.roc_auc_score(y_test, class_probabilities[:, 1])\n",
    "\n",
    "    # Printing coefficients of models\n",
    "    print()\n",
    "    print('Coefficients for models')\n",
    "    for i, coef in enumerate(meta_learner.coef_[0]):\n",
    "        print('Model {0}: {1}'.format( i+1, coef))\n",
    "    \n",
    "    model_results = [accuracy, log_loss, auc, total_time]\n",
    "    results.loc['Stacking'] = model_results\n",
    "\n",
    "    return results\n",
    "\n",
    "\n",
    "# Adding extra imports for additional models\n",
    "from sklearn import neighbors\n",
    "from sklearn import svm\n",
    "\n",
    "# Defining the learners for the first layer\n",
    "model_1 = linear_model.LogisticRegression()\n",
    "model_2 = ensemble.RandomForestClassifier(n_jobs=-1)\n",
    "model_3 = ensemble.GradientBoostingClassifier()\n",
    "model_4 = neighbors.KNeighborsClassifier(n_jobs=-1)\n",
    "model_5 = svm.SVC(probability=True)\n",
    "\n",
    "# Putting the models in a list to iterate through in the function\n",
    "models = [model_1, model_2, model_3, model_4, model_5]\n",
    "\n",
    "# Running our function to build a stacking model\n",
    "train_stacking_get_results(models)"
   ]
  },
  {
   "cell_type": "markdown",
   "metadata": {},
   "source": [
    "# Hyperparameter Tuning\n",
    "\n",
    "There two main methodologies for hyperparameter tuning: \n",
    "1. Manually testing hypotheses on how changing certain hyperparameters will impact the performance of the model\n",
    "2. Automatically checking a bunch of different combinations of hyperparameters using either a grid search or a randomized search\n",
    "\n",
    "For this talk, we will discuss a few strategies for the first option, and then go with the second option by using a randomized search. We unfortunately won't have enough time to explore these strategies in this notebook, but the blog post version I mentioned will include that. **TODO: Add link to blog post**\n",
    "\n",
    "Between grid search and random search, grid search generally makes more intuitive sense. However, research from [James Bergstra and Yoshua Bengio](http://jmlr.csail.mit.edu/papers/volume13/bergstra12a/bergstra12a.pdf) have shown that random search tends to converge to good hyperparameters faster than grid search. Here's a graphic from their paper that gives an intuitive example of how random search can potentially cover more ground when there are hyperparameters that aren't as important:\n",
    "\n",
    "<img src=\"https://cdn-images-1.medium.com/max/923/1*ZTlQm_WRcrNqL-nLnx6GJA.png\">\n",
    "\n",
    "*Source: [James Bergstra & Yoshua Bengio](http://jmlr.csail.mit.edu/papers/volume13/bergstra12a/bergstra12a.pdf)*\n",
    "\n",
    "## Hyperparameters & Decision Tree Structure\n",
    "\n",
    "Because both random forests and gradient boosted trees use decision trees for their underlying structures, their hyperparameters are largely the same. Here's a recap of the decision tree structure and a quick summary of what each of the hyperparameters we'll be tuning are:\n",
    "\n",
    "<img src=\"http://3.bp.blogspot.com/-2OYbpGM5AsA/T9_UacNCyxI/AAAAAAAAADI/KWb2PJamTVU/s400/1.png\">\n",
    "\n",
    "*Source: [Murtuza Morbiwala](http://insightfromdata.blogspot.com/2012/06/decision-tree-unembellished.html)*\n",
    "\n",
    "\n",
    "### Hyperparameters\n",
    "\n",
    "This is list is not all-inclusive, but has most of the common hyperparameters:\n",
    "\n",
    "- **Number of Estimators:** The number of decision trees to be trained\n",
    "    - A higher number typically means better predictions (at the cost of computational power) up until a saturation point where the model begins to overfit\n",
    "- **Max Depth:** How deep a tree can be\n",
    "    - This should ideally be low for gradient boosting and large (or none) for random forests\n",
    "- **Minimum Samples per Split:** The minimum samples considered to split a node\n",
    "    - A higher number typically results in better performance at the cost of computational efficiency\n",
    "- **Minimum Samples per Leaf:** The minimum number of samples required to be a leaf node\n",
    "    - A lower number could potentially result in more noise being captured\n",
    "- **Max Features:** The number of features to consider when looking for the best split\n",
    "    - A lower number typically reduces variance/increases bias and improves computational efficiency\n",
    "- **Max Leaf Nodes:** The maximum number of leaf nodes for the tree\n",
    "    - A smaller number could help prevent overfitting\n",
    "- **Learning Rate (gradient boosting only):** The adjustment/step size for each iteration\n",
    "    - A larger step size can help get better performance in fewer iterations, but will plateau at a lower performance\n",
    "    - A smaller step size will require more iterations (number of estimators) but will ultimately achieve a better performance\n",
    "\n",
    "Here is an illustration on what a learning rate is and how too small or large of a learning rate can have adverse impacts:\n",
    "\n",
    "<img src=\"https://www.jeremyjordan.me/content/images/2018/02/Screen-Shot-2018-02-24-at-11.47.09-AM.png\" width=\"900px\">\n",
    "*Source: [Jeremy Jordan](https://www.jeremyjordan.me/nn-learning-rate/)*\n",
    "\n",
    "Here is a more visual version of these hyperparameters on a tree: \n",
    "\n",
    "<img src=\"https://www.analyticsvidhya.com/wp-content/uploads/2016/02/tree-infographic.png\">\n",
    "*Source: [Analytics Vidhya](https://www.analyticsvidhya.com/blog/2016/02/complete-guide-parameter-tuning-gradient-boosting-gbm-python/)*\n",
    "\n",
    "### General Strategies\n",
    "\n",
    "Most strategies are specific to either random forests or gradient boosting, but there are a few strategies that apply to both.\n",
    "\n",
    "- Increase the number of estimators until either just before overfitting begins to start occurring or there are severely diminishing returns in performance\n",
    "    - Compare the performance against the default parameters to see if this helps and how much\n",
    "- Further adjust the model complexity (starting with tree depth)\n",
    "    - Decrease the complexity of the trees if you suspect the model is suffering from high variance\n",
    "    - Increase the complexity of the trees if you suspect the model is suffering from high bias\n",
    "    \n",
    "Remember that hyperparameter tuning is all about controlling model complexity in order to achieve the optimal state in the bias-variance tradeoff:\n",
    "\n",
    "<img src=\"https://www.learnopencv.com/wp-content/uploads/2017/02/Bias-Variance-Tradeoff-In-Machine-Learning-1.png\" width=\"600px\">\n",
    "*Source: [Satya Mallick](https://www.learnopencv.com/bias-variance-tradeoff-in-machine-learning/)*\n",
    "\n",
    "### Setup\n",
    "\n",
    "In order to do the actual hyperparameter tuning we need to create our third and final function. This will take a model, a dictionary of parameters, perform a random search for the number of iterations, and then give us our results."
   ]
  },
  {
   "cell_type": "code",
   "execution_count": 9,
   "metadata": {
    "ExecuteTime": {
     "end_time": "2018-07-07T03:54:05.293095Z",
     "start_time": "2018-07-07T03:54:05.261847Z"
    },
    "collapsed": true
   },
   "outputs": [],
   "source": [
    "def hyperparameter_tune_get_results(model, parameters, model_name, num_rounds=30):\n",
    "    '''\n",
    "    Performs a random search to find optimal hyperparameters and append the results\n",
    "    to the tuned_results dataframe\n",
    "    \n",
    "    Input: \n",
    "        - model: A scikit-learn model\n",
    "        - parameters: A dictionary of parameters for the model\n",
    "        - model_name: A string of the model name for the tuned_results dataframe\n",
    "        - num_rounds: The number of rounds to try different hyperparameters\n",
    "    \n",
    "    Output: The tuned_results dataframe with the results appended\n",
    "    '''\n",
    "    \n",
    "    # Reporting the default parameters before tuning\n",
    "    print('Default Parameters:', '\\n')\n",
    "    print(model, '\\n')\n",
    "    \n",
    "    # Defining the random search cross validation\n",
    "    random_search = RandomizedSearchCV(model,\n",
    "                                       param_distributions=parameters,\n",
    "                                       n_iter=num_rounds, n_jobs=-1, cv=3,\n",
    "                                       return_train_score=True, random_state=46,\n",
    "                                       verbose=20)  # Prints status of each completed fit\n",
    "    \n",
    "    print('Beginning hyperparameter tuning')\n",
    "    start_time = time.time()\n",
    "    random_search.fit(X_train, y_train)\n",
    "    end_time = time.time()\n",
    "    total_training_time = end_time - start_time\n",
    "    print('Completed')\n",
    "    \n",
    "    # Calculating the testing set accuracy on the best estimator with the score method\n",
    "    accuracy = random_search.best_estimator_.score(X_test, y_test)\n",
    "    \n",
    "    # Calcuating the log loss with predicted probabilities\n",
    "    class_probabilities = random_search.best_estimator_.predict_proba(X_test)\n",
    "    log_loss = metrics.log_loss(y_test, class_probabilities)\n",
    "    auc = metrics.roc_auc_score(y_test, class_probabilities[:, 1])\n",
    "    \n",
    "    # Adding the model results to the results dataframe\n",
    "    model_results = [accuracy, log_loss, auc, total_training_time]\n",
    "    tuned_results.loc[model_name] = model_results\n",
    "    \n",
    "    # Plotting the mean training accuracy from the different iterations\n",
    "    sns.distplot(random_search.cv_results_['mean_test_score'])\n",
    "    plt.title('Mean test score')\n",
    "    \n",
    "    print('Best estimator:', '\\n')\n",
    "    print(random_search.best_estimator_)\n",
    "    \n",
    "    print()\n",
    "    print('Accuracy before tuning:', results.loc[model_name]['Accuracy'])\n",
    "    print('Accuracy after tuning:', tuned_results.loc[model_name]['Accuracy'])\n",
    "    \n",
    "    print('\\n', 'Tuned results:')\n",
    "    return tuned_results"
   ]
  },
  {
   "cell_type": "markdown",
   "metadata": {
    "ExecuteTime": {
     "end_time": "2018-06-30T23:13:57.881984Z",
     "start_time": "2018-06-30T23:13:57.866361Z"
    }
   },
   "source": [
    "## Baseline\n",
    "\n",
    "For our logistic regression model, we're just going to tune the regularization parameter. One of the advantages of simpler models like this is that they are easier to tune because we don't have nearly as many hyperparameters to worry about.\n",
    "\n",
    "**Note: The number of rounds is being kept small in these examples to keep within time limits for the talk, but increase them in a real-world scenario for more effective hyperparameter tuning**"
   ]
  },
  {
   "cell_type": "code",
   "execution_count": 10,
   "metadata": {
    "ExecuteTime": {
     "end_time": "2018-07-07T03:54:09.511593Z",
     "start_time": "2018-07-07T03:54:05.293095Z"
    }
   },
   "outputs": [
    {
     "name": "stdout",
     "output_type": "stream",
     "text": [
      "Default Parameters: \n",
      "\n",
      "LogisticRegression(C=1.0, class_weight=None, dual=False, fit_intercept=True,\n",
      "          intercept_scaling=1, max_iter=100, multi_class='ovr', n_jobs=1,\n",
      "          penalty='l2', random_state=None, solver='liblinear', tol=0.0001,\n",
      "          verbose=0, warm_start=False) \n",
      "\n",
      "Beginning hyperparameter tuning\n",
      "Fitting 3 folds for each of 5 candidates, totalling 15 fits\n",
      "[CV] C=7.83832350806, penalty=l1 .....................................\n",
      "[CV] C=7.83832350806, penalty=l1 .....................................\n",
      "[CV] C=7.83832350806, penalty=l1 .....................................\n",
      "[CV] C=6.84217298396, penalty=l2 .....................................\n",
      "[CV] C=6.84217298396, penalty=l2 .....................................\n",
      "[CV] C=6.84217298396, penalty=l2 .....................................\n",
      "[CV] C=7.5807586465, penalty=l2 ......................................\n",
      "[CV] C=7.5807586465, penalty=l2 ......................................\n",
      "[CV]  C=6.84217298396, penalty=l2, score=0.7163667523564696, total=   0.0s\n",
      "[CV]  C=7.5807586465, penalty=l2, score=0.6949443016281063, total=   0.0s\n",
      "[CV]  C=7.5807586465, penalty=l2, score=0.7163667523564696, total=   0.0s\n",
      "[CV]  C=7.83832350806, penalty=l1, score=0.7015437392795884, total=   0.0s\n",
      "[CV]  C=6.84217298396, penalty=l2, score=0.7015437392795884, total=   0.0s\n",
      "[CV]  C=6.84217298396, penalty=l2, score=0.6949443016281063, total=   0.0s\n",
      "[CV] C=7.5807586465, penalty=l2 ......................................\n",
      "[CV] C=9.89686324725, penalty=l1 .....................................\n",
      "[CV] C=9.89686324725, penalty=l1 .....................................\n",
      "[CV] C=9.89686324725, penalty=l1 .....................................\n",
      "[CV] C=0.428654483523, penalty=l1 ....................................\n",
      "[CV] C=0.428654483523, penalty=l1 ....................................\n",
      "[CV]  C=7.83832350806, penalty=l1, score=0.7163667523564696, total=   0.0s\n",
      "[CV]  C=7.5807586465, penalty=l2, score=0.7015437392795884, total=   0.0s\n",
      "[CV] C=0.428654483523, penalty=l1 ....................................\n",
      "[CV]  C=9.89686324725, penalty=l1, score=0.7015437392795884, total=   0.1s\n",
      "[CV]  C=7.83832350806, penalty=l1, score=0.6949443016281063, total=   0.2s\n",
      "[CV]  C=9.89686324725, penalty=l1, score=0.6949443016281063, total=   0.1s\n",
      "[CV]  C=0.428654483523, penalty=l1, score=0.7146529562982005, total=   0.1s\n",
      "[CV]  C=0.428654483523, penalty=l1, score=0.6958011996572407, total=   0.1s\n",
      "[CV]  C=9.89686324725, penalty=l1, score=0.7163667523564696, total=   0.1s\n",
      "[CV]  C=0.428654483523, penalty=l1, score=0.7049742710120068, total=   0.1s\n"
     ]
    },
    {
     "name": "stderr",
     "output_type": "stream",
     "text": [
      "[Parallel(n_jobs=-1)]: Done   1 tasks      | elapsed:    0.1s\n",
      "[Parallel(n_jobs=-1)]: Batch computation too fast (0.0708s.) Setting batch_size=4.\n",
      "[Parallel(n_jobs=-1)]: Done   2 out of  15 | elapsed:    0.1s remaining:    0.5s\n",
      "[Parallel(n_jobs=-1)]: Done   3 out of  15 | elapsed:    0.1s remaining:    0.3s\n",
      "[Parallel(n_jobs=-1)]: Done   4 out of  15 | elapsed:    0.1s remaining:    0.2s\n",
      "[Parallel(n_jobs=-1)]: Done   5 out of  15 | elapsed:    0.1s remaining:    0.2s\n",
      "[Parallel(n_jobs=-1)]: Done   6 out of  15 | elapsed:    0.1s remaining:    0.1s\n",
      "[Parallel(n_jobs=-1)]: Done   7 out of  15 | elapsed:    0.1s remaining:    0.1s\n",
      "[Parallel(n_jobs=-1)]: Done   8 out of  15 | elapsed:    0.1s remaining:    0.1s\n",
      "[Parallel(n_jobs=-1)]: Done   9 out of  15 | elapsed:    0.2s remaining:    0.1s\n",
      "[Parallel(n_jobs=-1)]: Done  10 out of  15 | elapsed:    0.2s remaining:    0.1s\n",
      "[Parallel(n_jobs=-1)]: Done  11 out of  15 | elapsed:    0.2s remaining:    0.1s\n",
      "[Parallel(n_jobs=-1)]: Done  12 out of  15 | elapsed:    0.2s remaining:    0.1s\n",
      "[Parallel(n_jobs=-1)]: Done  13 out of  15 | elapsed:    0.2s remaining:    0.0s\n",
      "[Parallel(n_jobs=-1)]: Done  15 out of  15 | elapsed:    0.2s remaining:    0.0s\n",
      "[Parallel(n_jobs=-1)]: Done  15 out of  15 | elapsed:    0.3s finished\n"
     ]
    },
    {
     "name": "stdout",
     "output_type": "stream",
     "text": [
      "Completed\n",
      "Best estimator: \n",
      "\n",
      "LogisticRegression(C=0.42865448352263913, class_weight=None, dual=False,\n",
      "          fit_intercept=True, intercept_scaling=1, max_iter=100,\n",
      "          multi_class='ovr', n_jobs=1, penalty='l1', random_state=None,\n",
      "          solver='liblinear', tol=0.0001, verbose=0, warm_start=False)\n",
      "\n",
      "Accuracy before tuning: 0.696\n",
      "Accuracy after tuning: 0.696666666667\n",
      "\n",
      " Tuned results:\n"
     ]
    },
    {
     "data": {
      "text/html": [
       "<div>\n",
       "<style scoped>\n",
       "    .dataframe tbody tr th:only-of-type {\n",
       "        vertical-align: middle;\n",
       "    }\n",
       "\n",
       "    .dataframe tbody tr th {\n",
       "        vertical-align: top;\n",
       "    }\n",
       "\n",
       "    .dataframe thead th {\n",
       "        text-align: right;\n",
       "    }\n",
       "</style>\n",
       "<table border=\"1\" class=\"dataframe\">\n",
       "  <thead>\n",
       "    <tr style=\"text-align: right;\">\n",
       "      <th></th>\n",
       "      <th>Accuracy</th>\n",
       "      <th>LogLoss</th>\n",
       "      <th>AUC</th>\n",
       "      <th>TrainingTime</th>\n",
       "    </tr>\n",
       "  </thead>\n",
       "  <tbody>\n",
       "    <tr>\n",
       "      <th>Logistic Regression</th>\n",
       "      <td>0.696667</td>\n",
       "      <td>0.604585</td>\n",
       "      <td>0.743363</td>\n",
       "      <td>0.466686</td>\n",
       "    </tr>\n",
       "  </tbody>\n",
       "</table>\n",
       "</div>"
      ],
      "text/plain": [
       "                     Accuracy   LogLoss       AUC  TrainingTime\n",
       "Logistic Regression  0.696667  0.604585  0.743363      0.466686"
      ]
     },
     "execution_count": 10,
     "metadata": {},
     "output_type": "execute_result"
    },
    {
     "data": {
      "image/png": "[encoded data removed]",
      "text/plain": [
       "<matplotlib.figure.Figure at 0x1167430b8>"
      ]
     },
     "metadata": {},
     "output_type": "display_data"
    }
   ],
   "source": [
    "parameters = {'C': scipy.stats.uniform(0, 10),  # Uniform distribution between 0 and 10\n",
    "              'penalty': ['l1', 'l2']\n",
    "             }\n",
    "\n",
    "hyperparameter_tune_get_results(model=logistic_regression, parameters=parameters,\n",
    "                                model_name='Logistic Regression', num_rounds=5)"
   ]
  },
  {
   "cell_type": "markdown",
   "metadata": {},
   "source": [
    "## Random Forests\n",
    "\n",
    "Because random forests are generally robust to overfitting and there aren't as many parameters to control as there are in gradient boosting, our hyperparameter tuning strategy doesn't have to be as nuanced.\n",
    "\n",
    "I've found that increasing the number of trees has the most direct impact on performance. Because the saturation point of overfitting by too many trees is relatively high for random forests, we can usually increase them until our models take too long to train or there isn't much of a performance gain from using more trees. Scikit-learn's random forest implementation only uses 10 by default, but R's [randomForest](https://cran.r-project.org/web/packages/randomForest/randomForest.pdf#page=17) package uses 500 by default.\n",
    "\n",
    "That's the first level of complexity to control, so after that it's looking into controlling the max depth for overall model complexity. How this is adjusted depends on if we need to reduce bias or variance.\n",
    "\n",
    "We can also control a few other components like the number of features considered for each split or the minimum samples required for each split/leaf, but these may not have as large of an impact as the number of estimators or max depth."
   ]
  },
  {
   "cell_type": "code",
   "execution_count": 11,
   "metadata": {
    "ExecuteTime": {
     "end_time": "2018-07-07T03:54:57.727464Z",
     "start_time": "2018-07-07T03:54:09.511593Z"
    },
    "scrolled": false
   },
   "outputs": [
    {
     "name": "stdout",
     "output_type": "stream",
     "text": [
      "Default Parameters: \n",
      "\n",
      "RandomForestClassifier(bootstrap=True, class_weight=None, criterion='gini',\n",
      "            max_depth=None, max_features='auto', max_leaf_nodes=None,\n",
      "            min_impurity_decrease=0.0, min_impurity_split=None,\n",
      "            min_samples_leaf=1, min_samples_split=2,\n",
      "            min_weight_fraction_leaf=0.0, n_estimators=10, n_jobs=-1,\n",
      "            oob_score=False, random_state=None, verbose=0,\n",
      "            warm_start=False) \n",
      "\n",
      "Beginning hyperparameter tuning\n",
      "Fitting 3 folds for each of 5 candidates, totalling 15 fits\n",
      "[CV] max_depth=10, max_features=log2, min_samples_leaf=1, min_samples_split=2, n_estimators=452 \n",
      "[CV] max_depth=10, max_features=log2, min_samples_leaf=1, min_samples_split=2, n_estimators=452 \n",
      "[CV] max_depth=10, max_features=log2, min_samples_leaf=1, min_samples_split=2, n_estimators=452 \n",
      "[CV] max_depth=100, max_features=None, min_samples_leaf=2, min_samples_split=2, n_estimators=421 \n",
      "[CV] max_depth=100, max_features=None, min_samples_leaf=2, min_samples_split=2, n_estimators=421 \n",
      "[CV] max_depth=100, max_features=None, min_samples_leaf=2, min_samples_split=2, n_estimators=421 \n",
      "[CV] max_depth=None, max_features=None, min_samples_leaf=1, min_samples_split=2, n_estimators=297 \n",
      "[CV] max_depth=None, max_features=None, min_samples_leaf=1, min_samples_split=2, n_estimators=297 \n",
      "[CV]  max_depth=10, max_features=log2, min_samples_leaf=1, min_samples_split=2, n_estimators=452, score=0.7283633247643531, total=   4.8s\n",
      "[CV] max_depth=None, max_features=None, min_samples_leaf=1, min_samples_split=2, n_estimators=297 \n",
      "[CV]  max_depth=10, max_features=log2, min_samples_leaf=1, min_samples_split=2, n_estimators=452, score=0.712082262210797, total=   5.0s\n",
      "[CV] max_depth=100, max_features=None, min_samples_leaf=4, min_samples_split=10, n_estimators=364 \n"
     ]
    },
    {
     "name": "stderr",
     "output_type": "stream",
     "text": [
      "[Parallel(n_jobs=-1)]: Done   1 tasks      | elapsed:    5.1s\n",
      "[Parallel(n_jobs=-1)]: Done   2 out of  15 | elapsed:    5.2s remaining:   33.8s\n"
     ]
    },
    {
     "name": "stdout",
     "output_type": "stream",
     "text": [
      "[CV]  max_depth=10, max_features=log2, min_samples_leaf=1, min_samples_split=2, n_estimators=452, score=0.7195540308747856, total=   5.0s\n",
      "[CV] max_depth=100, max_features=None, min_samples_leaf=4, min_samples_split=10, n_estimators=364 \n"
     ]
    },
    {
     "name": "stderr",
     "output_type": "stream",
     "text": [
      "[Parallel(n_jobs=-1)]: Done   3 out of  15 | elapsed:    5.3s remaining:   21.2s\n"
     ]
    },
    {
     "name": "stdout",
     "output_type": "stream",
     "text": [
      "[CV]  max_depth=None, max_features=None, min_samples_leaf=1, min_samples_split=2, n_estimators=297, score=0.699228791773779, total=   6.6s\n",
      "[CV] max_depth=100, max_features=None, min_samples_leaf=4, min_samples_split=10, n_estimators=364 \n",
      "[CV]  max_depth=None, max_features=None, min_samples_leaf=1, min_samples_split=2, n_estimators=297, score=0.7095115681233933, total=   6.8s\n",
      "[CV] max_depth=30, max_features=None, min_samples_leaf=4, min_samples_split=2, n_estimators=130 \n"
     ]
    },
    {
     "name": "stderr",
     "output_type": "stream",
     "text": [
      "[Parallel(n_jobs=-1)]: Done   4 out of  15 | elapsed:    6.9s remaining:   19.0s\n",
      "[Parallel(n_jobs=-1)]: Done   5 out of  15 | elapsed:    7.1s remaining:   14.2s\n"
     ]
    },
    {
     "name": "stdout",
     "output_type": "stream",
     "text": [
      "[CV]  max_depth=100, max_features=None, min_samples_leaf=2, min_samples_split=2, n_estimators=421, score=0.7069408740359897, total=  10.0s\n",
      "[CV] max_depth=30, max_features=None, min_samples_leaf=4, min_samples_split=2, n_estimators=130 \n",
      "[CV]  max_depth=100, max_features=None, min_samples_leaf=2, min_samples_split=2, n_estimators=421, score=0.7101200686106347, total=  10.1s\n",
      "[CV] max_depth=30, max_features=None, min_samples_leaf=4, min_samples_split=2, n_estimators=130 \n",
      "[CV]  max_depth=30, max_features=None, min_samples_leaf=4, min_samples_split=2, n_estimators=130, score=0.7129391602399314, total=   3.2s\n"
     ]
    },
    {
     "name": "stderr",
     "output_type": "stream",
     "text": [
      "[Parallel(n_jobs=-1)]: Done   6 out of  15 | elapsed:   10.3s remaining:   15.4s\n",
      "[Parallel(n_jobs=-1)]: Done   7 out of  15 | elapsed:   10.4s remaining:   11.8s\n",
      "[Parallel(n_jobs=-1)]: Done   8 out of  15 | elapsed:   10.4s remaining:    9.1s\n"
     ]
    },
    {
     "name": "stdout",
     "output_type": "stream",
     "text": [
      "[CV]  max_depth=100, max_features=None, min_samples_leaf=2, min_samples_split=2, n_estimators=421, score=0.7163667523564696, total=  10.2s\n"
     ]
    },
    {
     "name": "stderr",
     "output_type": "stream",
     "text": [
      "[Parallel(n_jobs=-1)]: Done   9 out of  15 | elapsed:   10.5s remaining:    7.0s\n"
     ]
    },
    {
     "name": "stdout",
     "output_type": "stream",
     "text": [
      "[CV]  max_depth=None, max_features=None, min_samples_leaf=1, min_samples_split=2, n_estimators=297, score=0.7015437392795884, total=   8.4s\n",
      "[CV]  max_depth=30, max_features=None, min_samples_leaf=4, min_samples_split=2, n_estimators=130, score=0.7163667523564696, total=   3.2s\n",
      "[CV]  max_depth=30, max_features=None, min_samples_leaf=4, min_samples_split=2, n_estimators=130, score=0.7126929674099486, total=   3.2s\n"
     ]
    },
    {
     "name": "stderr",
     "output_type": "stream",
     "text": [
      "[Parallel(n_jobs=-1)]: Done  10 out of  15 | elapsed:   13.6s remaining:    6.8s\n",
      "[Parallel(n_jobs=-1)]: Done  11 out of  15 | elapsed:   13.6s remaining:    5.0s\n",
      "[Parallel(n_jobs=-1)]: Done  12 out of  15 | elapsed:   13.7s remaining:    3.4s\n"
     ]
    },
    {
     "name": "stdout",
     "output_type": "stream",
     "text": [
      "[CV]  max_depth=100, max_features=None, min_samples_leaf=4, min_samples_split=10, n_estimators=364, score=0.7146529562982005, total=   8.9s\n",
      "[CV]  max_depth=100, max_features=None, min_samples_leaf=4, min_samples_split=10, n_estimators=364, score=0.7197943444730077, total=   8.9s\n"
     ]
    },
    {
     "name": "stderr",
     "output_type": "stream",
     "text": [
      "[Parallel(n_jobs=-1)]: Done  13 out of  15 | elapsed:   14.3s remaining:    2.2s\n"
     ]
    },
    {
     "name": "stdout",
     "output_type": "stream",
     "text": [
      "[CV]  max_depth=100, max_features=None, min_samples_leaf=4, min_samples_split=10, n_estimators=364, score=0.7178387650085764, total=   7.7s\n"
     ]
    },
    {
     "name": "stderr",
     "output_type": "stream",
     "text": [
      "[Parallel(n_jobs=-1)]: Done  15 out of  15 | elapsed:   14.7s remaining:    0.0s\n",
      "[Parallel(n_jobs=-1)]: Done  15 out of  15 | elapsed:   14.7s finished\n"
     ]
    },
    {
     "name": "stdout",
     "output_type": "stream",
     "text": [
      "Completed\n",
      "Best estimator: \n",
      "\n",
      "RandomForestClassifier(bootstrap=True, class_weight=None, criterion='gini',\n",
      "            max_depth=10, max_features='log2', max_leaf_nodes=None,\n",
      "            min_impurity_decrease=0.0, min_impurity_split=None,\n",
      "            min_samples_leaf=1, min_samples_split=2,\n",
      "            min_weight_fraction_leaf=0.0, n_estimators=452, n_jobs=-1,\n",
      "            oob_score=False, random_state=None, verbose=0,\n",
      "            warm_start=False)\n",
      "\n",
      "Accuracy before tuning: 0.66\n",
      "Accuracy after tuning: 0.720666666667\n",
      "\n",
      " Tuned results:\n"
     ]
    },
    {
     "data": {
      "text/html": [
       "<div>\n",
       "<style scoped>\n",
       "    .dataframe tbody tr th:only-of-type {\n",
       "        vertical-align: middle;\n",
       "    }\n",
       "\n",
       "    .dataframe tbody tr th {\n",
       "        vertical-align: top;\n",
       "    }\n",
       "\n",
       "    .dataframe thead th {\n",
       "        text-align: right;\n",
       "    }\n",
       "</style>\n",
       "<table border=\"1\" class=\"dataframe\">\n",
       "  <thead>\n",
       "    <tr style=\"text-align: right;\">\n",
       "      <th></th>\n",
       "      <th>Accuracy</th>\n",
       "      <th>LogLoss</th>\n",
       "      <th>AUC</th>\n",
       "      <th>TrainingTime</th>\n",
       "    </tr>\n",
       "  </thead>\n",
       "  <tbody>\n",
       "    <tr>\n",
       "      <th>Logistic Regression</th>\n",
       "      <td>0.696667</td>\n",
       "      <td>0.604585</td>\n",
       "      <td>0.743363</td>\n",
       "      <td>0.466686</td>\n",
       "    </tr>\n",
       "    <tr>\n",
       "      <th>Random Forest</th>\n",
       "      <td>0.720667</td>\n",
       "      <td>0.601032</td>\n",
       "      <td>0.731740</td>\n",
       "      <td>16.125815</td>\n",
       "    </tr>\n",
       "  </tbody>\n",
       "</table>\n",
       "</div>"
      ],
      "text/plain": [
       "                     Accuracy   LogLoss       AUC  TrainingTime\n",
       "Logistic Regression  0.696667  0.604585  0.743363      0.466686\n",
       "Random Forest        0.720667  0.601032  0.731740     16.125815"
      ]
     },
     "execution_count": 11,
     "metadata": {},
     "output_type": "execute_result"
    },
    {
     "data": {
      "image/png": "[encoded data removed]",
      "text/plain": [
       "<matplotlib.figure.Figure at 0x11677dcc0>"
      ]
     },
     "metadata": {},
     "output_type": "display_data"
    }
   ],
   "source": [
    "# Creating the dictionary of parameters to use in the search\n",
    "parameters = {'n_estimators': scipy.stats.randint(low=10, high=500),  # Uniform distribution between 10 and 500\n",
    "              'max_depth': [None, 10, 30, 100],  # Maximum number of levels in a tree\n",
    "              'max_features': ['auto', 'log2', None],  # Number of features to consider at each split\n",
    "              'min_samples_split': [2, 5, 10],  # Minimum number of samples required to split a node\n",
    "              'min_samples_leaf': [1, 2, 4]  # Minimum number of samples required at each leaf node\n",
    "             }\n",
    "\n",
    "hyperparameter_tune_get_results(random_forest, parameters, 'Random Forest', num_rounds=5)"
   ]
  },
  {
   "cell_type": "markdown",
   "metadata": {},
   "source": [
    "## Gradient Boosted Trees\n",
    "\n",
    "Because gradient boosting is used for kaggle-style competitions more commonly than random forests, there are quite a few more established strategies out there. These models can often be more difficult to tune than random forests, but it is a little more nuanced than simply cranking up the number of trees and crossing your fingers.\n",
    "\n",
    "One crucial hyperparameter that is introduced to gradient boosting is the learning rate. As previously mentioned, this tells us how drastic the adjustments are on our new trees being built. One peculiarity is that learning rates suffer pretty heavily from the [Goldilocks principle](https://en.wikipedia.org/wiki/Goldilocks_principle) - it has to be just right to have the optimal performance. It also highly depends on the number of trees we're training. Here is a chart that shows the relationship between the number of trees and the learning rate:\n",
    "\n",
    "<img src=\"https://cdn-images-1.medium.com/max/923/0*bK0tJrr8dBqCZDmF.\" width=\"600px\">\n",
    "*Source: [Synced](https://medium.com/syncedreview/tree-boosting-with-xgboost-why-does-xgboost-win-every-machine-learning-competition-ca8034c0b283)*\n",
    "\n",
    "Generally speaking, if we have a low number of trees and a high learning rate, we will get to a good performance faster but we will have a lower top-end performance. Conversely, we can get a better performance with a low learning rate and a lot of trees, but it will take much longer to get there.\n",
    "\n",
    "Most of the other hyperparameters are either similar to or are the same as those in random forests. However, we'll want to use different value ranges for them because the trees between the two algorithms are inherently different. Random forests use larger, relatively unconstrained trees, but boosting methods use weak learners. These week learners are by definition much less complex, so they are smaller, simpler trees.\n",
    "\n",
    "There are a variety of tuning guides (several are listed [here](https://machinelearningmastery.com/configure-gradient-boosting-algorithm/)), but my favorite is this guide from Zhonghua Zhang, the former \\#1 Kaggler in the world:\n",
    "\n",
    "<img src=\"https://3qeqpr26caki16dnhd19sv6by6v-wpengine.netdna-ssl.com/wp-content/uploads/2016/07/Owen-Zhang-Table-of-Suggestions-for-Hyperparameter-Tuning-of-XGBoost.png\">\n",
    "*Source: [Zhonghua Zhang](https://www.slideshare.net/ShangxuanZhang/winning-data-science-competitions-presented-by-owen-zhang)*\n",
    "\n",
    "Note that this does include several hyperparameters specifically for XGBoost that are not included in the scikit-learn implementation, but we will ignore those for now."
   ]
  },
  {
   "cell_type": "code",
   "execution_count": 12,
   "metadata": {
    "ExecuteTime": {
     "end_time": "2018-07-07T03:55:43.130919Z",
     "start_time": "2018-07-07T03:54:57.727464Z"
    }
   },
   "outputs": [
    {
     "name": "stdout",
     "output_type": "stream",
     "text": [
      "Default Parameters: \n",
      "\n",
      "GradientBoostingClassifier(criterion='friedman_mse', init=None,\n",
      "              learning_rate=0.1, loss='deviance', max_depth=3,\n",
      "              max_features=None, max_leaf_nodes=None,\n",
      "              min_impurity_decrease=0.0, min_impurity_split=None,\n",
      "              min_samples_leaf=1, min_samples_split=2,\n",
      "              min_weight_fraction_leaf=0.0, n_estimators=100,\n",
      "              presort='auto', random_state=None, subsample=1.0, verbose=0,\n",
      "              warm_start=False) \n",
      "\n",
      "Beginning hyperparameter tuning\n",
      "Fitting 3 folds for each of 5 candidates, totalling 15 fits\n",
      "[CV] learning_rate=0.03, max_depth=6, min_samples_leaf=1, min_samples_split=2, n_estimators=542, subsample=1.0 \n",
      "[CV] learning_rate=0.03, max_depth=6, min_samples_leaf=1, min_samples_split=2, n_estimators=542, subsample=1.0 \n",
      "[CV] learning_rate=0.03, max_depth=6, min_samples_leaf=1, min_samples_split=2, n_estimators=542, subsample=1.0 \n",
      "[CV] learning_rate=0.3, max_depth=6, min_samples_leaf=1, min_samples_split=2, n_estimators=847, subsample=1.0 \n",
      "[CV] learning_rate=0.3, max_depth=6, min_samples_leaf=1, min_samples_split=2, n_estimators=847, subsample=1.0 \n",
      "[CV] learning_rate=0.3, max_depth=6, min_samples_leaf=1, min_samples_split=2, n_estimators=847, subsample=1.0 \n",
      "[CV] learning_rate=0.01, max_depth=3, min_samples_leaf=4, min_samples_split=10, n_estimators=159, subsample=1.0 \n",
      "[CV] learning_rate=0.01, max_depth=3, min_samples_leaf=4, min_samples_split=10, n_estimators=159, subsample=1.0 \n",
      "[CV]  learning_rate=0.01, max_depth=3, min_samples_leaf=4, min_samples_split=10, n_estimators=159, subsample=1.0, score=0.7240788346186804, total=   0.9s\n",
      "[CV]  learning_rate=0.01, max_depth=3, min_samples_leaf=4, min_samples_split=10, n_estimators=159, subsample=1.0, score=0.7283633247643531, total=   0.9s\n",
      "[CV] learning_rate=0.01, max_depth=3, min_samples_leaf=4, min_samples_split=10, n_estimators=159, subsample=1.0 \n",
      "[CV] learning_rate=0.1, max_depth=8, min_samples_leaf=4, min_samples_split=10, n_estimators=827, subsample=0.5 \n"
     ]
    },
    {
     "name": "stderr",
     "output_type": "stream",
     "text": [
      "[Parallel(n_jobs=-1)]: Done   1 tasks      | elapsed:    1.0s\n",
      "[Parallel(n_jobs=-1)]: Done   2 out of  15 | elapsed:    1.0s remaining:    6.6s\n"
     ]
    },
    {
     "name": "stdout",
     "output_type": "stream",
     "text": [
      "[CV]  learning_rate=0.01, max_depth=3, min_samples_leaf=4, min_samples_split=10, n_estimators=159, subsample=1.0, score=0.7238421955403087, total=   1.0s\n",
      "[CV] learning_rate=0.1, max_depth=8, min_samples_leaf=4, min_samples_split=10, n_estimators=827, subsample=0.5 \n"
     ]
    },
    {
     "name": "stderr",
     "output_type": "stream",
     "text": [
      "[Parallel(n_jobs=-1)]: Done   3 out of  15 | elapsed:    2.0s remaining:    8.1s\n"
     ]
    },
    {
     "name": "stdout",
     "output_type": "stream",
     "text": [
      "[CV]  learning_rate=0.03, max_depth=6, min_samples_leaf=1, min_samples_split=2, n_estimators=542, subsample=1.0, score=0.6809605488850772, total=   6.8s\n",
      "[CV] learning_rate=0.1, max_depth=8, min_samples_leaf=4, min_samples_split=10, n_estimators=827, subsample=0.5 \n"
     ]
    },
    {
     "name": "stderr",
     "output_type": "stream",
     "text": [
      "[Parallel(n_jobs=-1)]: Done   4 out of  15 | elapsed:    6.9s remaining:   19.1s\n"
     ]
    },
    {
     "name": "stdout",
     "output_type": "stream",
     "text": [
      "[CV]  learning_rate=0.03, max_depth=6, min_samples_leaf=1, min_samples_split=2, n_estimators=542, subsample=1.0, score=0.7086546700942588, total=   7.1s\n",
      "[CV] learning_rate=0.01, max_depth=8, min_samples_leaf=1, min_samples_split=2, n_estimators=870, subsample=0.5 \n",
      "[CV]  learning_rate=0.03, max_depth=6, min_samples_leaf=1, min_samples_split=2, n_estimators=542, subsample=1.0, score=0.6932305055698372, total=   7.2s\n",
      "[CV] learning_rate=0.01, max_depth=8, min_samples_leaf=1, min_samples_split=2, n_estimators=870, subsample=0.5 \n",
      "[CV]  learning_rate=0.3, max_depth=6, min_samples_leaf=1, min_samples_split=2, n_estimators=847, subsample=1.0, score=0.6983718937446444, total=   7.2s\n",
      "[CV] learning_rate=0.01, max_depth=8, min_samples_leaf=1, min_samples_split=2, n_estimators=870, subsample=0.5 \n",
      "[CV]  learning_rate=0.3, max_depth=6, min_samples_leaf=1, min_samples_split=2, n_estimators=847, subsample=1.0, score=0.675235646958012, total=   7.2s\n",
      "[CV]  learning_rate=0.3, max_depth=6, min_samples_leaf=1, min_samples_split=2, n_estimators=847, subsample=1.0, score=0.6646655231560892, total=   7.3s\n"
     ]
    },
    {
     "name": "stderr",
     "output_type": "stream",
     "text": [
      "[Parallel(n_jobs=-1)]: Done   5 out of  15 | elapsed:    7.2s remaining:   14.4s\n",
      "[Parallel(n_jobs=-1)]: Done   6 out of  15 | elapsed:    7.3s remaining:   10.9s\n",
      "[Parallel(n_jobs=-1)]: Done   7 out of  15 | elapsed:    7.3s remaining:    8.4s\n",
      "[Parallel(n_jobs=-1)]: Done   8 out of  15 | elapsed:    7.4s remaining:    6.5s\n",
      "[Parallel(n_jobs=-1)]: Done   9 out of  15 | elapsed:    7.4s remaining:    4.9s\n"
     ]
    },
    {
     "name": "stdout",
     "output_type": "stream",
     "text": [
      "[CV]  learning_rate=0.1, max_depth=8, min_samples_leaf=4, min_samples_split=10, n_estimators=827, subsample=0.5, score=0.6666666666666666, total=   9.3s\n"
     ]
    },
    {
     "name": "stderr",
     "output_type": "stream",
     "text": [
      "[Parallel(n_jobs=-1)]: Done  10 out of  15 | elapsed:   10.5s remaining:    5.2s\n"
     ]
    },
    {
     "name": "stdout",
     "output_type": "stream",
     "text": [
      "[CV]  learning_rate=0.1, max_depth=8, min_samples_leaf=4, min_samples_split=10, n_estimators=827, subsample=0.5, score=0.6838046272493573, total=   9.2s\n"
     ]
    },
    {
     "name": "stderr",
     "output_type": "stream",
     "text": [
      "[Parallel(n_jobs=-1)]: Done  11 out of  15 | elapsed:   11.3s remaining:    4.1s\n"
     ]
    },
    {
     "name": "stdout",
     "output_type": "stream",
     "text": [
      "[CV]  learning_rate=0.1, max_depth=8, min_samples_leaf=4, min_samples_split=10, n_estimators=827, subsample=0.5, score=0.6749571183533448, total=   6.8s\n"
     ]
    },
    {
     "name": "stderr",
     "output_type": "stream",
     "text": [
      "[Parallel(n_jobs=-1)]: Done  12 out of  15 | elapsed:   13.8s remaining:    3.5s\n"
     ]
    },
    {
     "name": "stdout",
     "output_type": "stream",
     "text": [
      "[CV]  learning_rate=0.01, max_depth=8, min_samples_leaf=1, min_samples_split=2, n_estimators=870, subsample=0.5, score=0.6963979416809606, total=   8.9s\n",
      "[CV]  learning_rate=0.01, max_depth=8, min_samples_leaf=1, min_samples_split=2, n_estimators=870, subsample=0.5, score=0.6975149957155099, total=   9.1s\n"
     ]
    },
    {
     "name": "stderr",
     "output_type": "stream",
     "text": [
      "[Parallel(n_jobs=-1)]: Done  13 out of  15 | elapsed:   16.4s remaining:    2.5s\n"
     ]
    },
    {
     "name": "stdout",
     "output_type": "stream",
     "text": [
      "[CV]  learning_rate=0.01, max_depth=8, min_samples_leaf=1, min_samples_split=2, n_estimators=870, subsample=0.5, score=0.712082262210797, total=   9.2s\n"
     ]
    },
    {
     "name": "stderr",
     "output_type": "stream",
     "text": [
      "[Parallel(n_jobs=-1)]: Done  15 out of  15 | elapsed:   16.6s remaining:    0.0s\n",
      "[Parallel(n_jobs=-1)]: Done  15 out of  15 | elapsed:   16.6s finished\n"
     ]
    },
    {
     "name": "stdout",
     "output_type": "stream",
     "text": [
      "Completed\n",
      "Best estimator: \n",
      "\n",
      "GradientBoostingClassifier(criterion='friedman_mse', init=None,\n",
      "              learning_rate=0.01, loss='deviance', max_depth=3,\n",
      "              max_features=None, max_leaf_nodes=None,\n",
      "              min_impurity_decrease=0.0, min_impurity_split=None,\n",
      "              min_samples_leaf=4, min_samples_split=10,\n",
      "              min_weight_fraction_leaf=0.0, n_estimators=159,\n",
      "              presort='auto', random_state=None, subsample=1.0, verbose=0,\n",
      "              warm_start=False)\n",
      "\n",
      "Accuracy before tuning: 0.723333333333\n",
      "Accuracy after tuning: 0.721333333333\n",
      "\n",
      " Tuned results:\n"
     ]
    },
    {
     "data": {
      "text/html": [
       "<div>\n",
       "<style scoped>\n",
       "    .dataframe tbody tr th:only-of-type {\n",
       "        vertical-align: middle;\n",
       "    }\n",
       "\n",
       "    .dataframe tbody tr th {\n",
       "        vertical-align: top;\n",
       "    }\n",
       "\n",
       "    .dataframe thead th {\n",
       "        text-align: right;\n",
       "    }\n",
       "</style>\n",
       "<table border=\"1\" class=\"dataframe\">\n",
       "  <thead>\n",
       "    <tr style=\"text-align: right;\">\n",
       "      <th></th>\n",
       "      <th>Accuracy</th>\n",
       "      <th>LogLoss</th>\n",
       "      <th>AUC</th>\n",
       "      <th>TrainingTime</th>\n",
       "    </tr>\n",
       "  </thead>\n",
       "  <tbody>\n",
       "    <tr>\n",
       "      <th>Logistic Regression</th>\n",
       "      <td>0.696667</td>\n",
       "      <td>0.604585</td>\n",
       "      <td>0.743363</td>\n",
       "      <td>0.466686</td>\n",
       "    </tr>\n",
       "    <tr>\n",
       "      <th>Random Forest</th>\n",
       "      <td>0.720667</td>\n",
       "      <td>0.601032</td>\n",
       "      <td>0.731740</td>\n",
       "      <td>16.125815</td>\n",
       "    </tr>\n",
       "    <tr>\n",
       "      <th>Gradient Boosted Trees</th>\n",
       "      <td>0.721333</td>\n",
       "      <td>0.591312</td>\n",
       "      <td>0.742440</td>\n",
       "      <td>17.356916</td>\n",
       "    </tr>\n",
       "  </tbody>\n",
       "</table>\n",
       "</div>"
      ],
      "text/plain": [
       "                        Accuracy   LogLoss       AUC  TrainingTime\n",
       "Logistic Regression     0.696667  0.604585  0.743363      0.466686\n",
       "Random Forest           0.720667  0.601032  0.731740     16.125815\n",
       "Gradient Boosted Trees  0.721333  0.591312  0.742440     17.356916"
      ]
     },
     "execution_count": 12,
     "metadata": {},
     "output_type": "execute_result"
    },
    {
     "data": {
      "image/png": "[encoded data removed]",
      "text/plain": [
       "<matplotlib.figure.Figure at 0x11676bda0>"
      ]
     },
     "metadata": {},
     "output_type": "display_data"
    }
   ],
   "source": [
    "# Creating the dictionary of parameters to use in the search\n",
    "parameters = {'n_estimators': scipy.stats.randint(low=100, high=1000),  # Uniform distribution between 100 and 1000\n",
    "              'learning_rate': [0.01, 0.03, 0.1, 0.3],  # How drastic updates are\n",
    "              'subsample': [0.5, 0.75, 1.0],  # The portion of rows to use in updates\n",
    "              'max_depth': [3, 6, 8, 10],  # Maximum number of levels in a tree\n",
    "              'min_samples_split': [2, 5, 10],  # Minimum number of samples required to split a node\n",
    "              'min_samples_leaf': [1, 2, 4]  # Minimum number of samples required at each leaf node\n",
    "             }\n",
    "\n",
    "hyperparameter_tune_get_results(gradient_boosting, parameters, 'Gradient Boosted Trees', num_rounds=5)"
   ]
  },
  {
   "cell_type": "markdown",
   "metadata": {},
   "source": [
    "## Stacking\n",
    "\n",
    "Stacking is more of a special case because we have to worry about tuning the hyperparameters of the individual models within the ensemble. \n",
    "\n",
    "Due to the time restrictions of this talk, we will be skipping hyperparameter tuning our stacking model. However, this will be done in the blog post mentioned at the beginning of this notebook.\n",
    "\n",
    "**TODO: Add link to blog post**"
   ]
  },
  {
   "cell_type": "markdown",
   "metadata": {},
   "source": [
    "# Additional Frameworks\n",
    "\n",
    "We have been using scikit-learn up until now for our models, but there are more specialized frameworks for gradient boosting in particular. Scikit-learn's gradient boosting algorithm is good, but lacks additional optimization and a few components and options that can be useful\n",
    "\n",
    "Specifically, we're going to focus on **XGBoost** and **LightGBM**. We'll go into more specifics for each, but both frameworks are focused on speed and performance and have the following advantages & disadvantages:\n",
    "\n",
    "#### Advantages\n",
    "- Ability to parallelize training\n",
    "- Ability to use GPUs\n",
    "- Additional under-the-hood optimization\n",
    "- Can specify loss functions\n",
    "- Additional tuning parameters\n",
    "- Distributed computing options\n",
    "- Native handling of missing values\n",
    "\n",
    "#### Disadvantages\n",
    "- Relatively difficult to install\n",
    "- Not as unified integration in older versions\n",
    "\n",
    "So generally speaking, XGBoost and LightGBM are able to train better models faster, but can be more difficult to set up and use."
   ]
  },
  {
   "cell_type": "markdown",
   "metadata": {},
   "source": [
    "### XGBoost\n",
    "\n",
    "[XGBoost](https://github.com/dmlc/xgboost) is an extremely popular framework for gradient boosted trees created by Tianqi Chen, a Ph.D. student at the University of Washington. It was initially released in 2014, but did not become popular until it started dominating competitions on Kaggle a few years later. It has implementations in several languages, but we will be focusing on the Python implementation. For more history, Tianqi posted [this blog post](https://homes.cs.washington.edu/~tqchen/2016/03/10/story-and-lessons-behind-the-evolution-of-xgboost.html) about the history, philosophy, and learnings behind creating XGBoost.\n",
    "\n",
    "As I mentioned, both XGBoost and LightGBM use a series of clever tricks and under-the-hood optimizations that are not included in the Scikit-Learn implementation that make them train better models faster. One example is that XGBoost uses second derivatives to find the optimal constant in each terminal node, whereas other implementations just use the first derivative. This is nearly impossible to unpack without getting into the math, but it should give an idea of the type of under-the-hood optimization that is happening. If you are interested, [here is the XGBoost white paper](https://arxiv.org/abs/1603.02754) that explains a lot of the optimizations.\n",
    "\n",
    "#### Installation\n",
    "\n",
    "The [installation guide](https://xgboost.readthedocs.io/en/latest/build.html) states that there is only a wheel file on PyPI for the 64-bit version of Linux, so things get a little more complicated for Windows & OSX users. Specifically, you have to build the library from the source.\n",
    "\n",
    "However, I do have a workaround for Windows users (sorry OSX users!) that I borrowed from [this blog post](https://medium.com/@rakshithvasudev/how-i-installed-xgboost-after-a-lot-of-hassels-on-my-windows-machine-c53e972e801e). Download the wheel file for your version of Windows and Python [here](https://www.lfd.uci.edu/~gohlke/pythonlibs/#xgboost) (cp27/35/36/37 are the version of Python, and win32/\\_amd64 are the versions of Windows), navigate a command window to the directory where you downloaded it, and do a pip install in your command prompt with `pip install xgboost‑0.72‑cp35‑cp35m‑win_amd64.whl` using whichever wheel file you downloaded.\n",
    "\n",
    "If you don't know your version of Windows or Python, run the code block below."
   ]
  },
  {
   "cell_type": "code",
   "execution_count": 30,
   "metadata": {
    "ExecuteTime": {
     "end_time": "2018-07-07T03:55:43.146545Z",
     "start_time": "2018-07-07T03:55:43.130919Z"
    }
   },
   "outputs": [
    {
     "name": "stdout",
     "output_type": "stream",
     "text": [
      "Python: 3.5.5 | packaged by conda-forge | (default, Apr  6 2018, 16:03:44) [MSC v.1900 64 bit (AMD64)]\n",
      "('64bit', 'WindowsPE')\n"
     ]
    }
   ],
   "source": [
    "import sys\n",
    "import platform\n",
    "\n",
    "print('Python:', sys.version)\n",
    "print(platform.architecture())"
   ]
  },
  {
   "cell_type": "code",
   "execution_count": 31,
   "metadata": {
    "ExecuteTime": {
     "end_time": "2018-07-07T03:55:43.537145Z",
     "start_time": "2018-07-07T03:55:43.146545Z"
    }
   },
   "outputs": [
    {
     "name": "stdout",
     "output_type": "stream",
     "text": [
      "Training the model\n",
      "Completed\n",
      "\n",
      " Non-tuned results:\n"
     ]
    },
    {
     "data": {
      "text/html": [
       "<div>\n",
       "<style scoped>\n",
       "    .dataframe tbody tr th:only-of-type {\n",
       "        vertical-align: middle;\n",
       "    }\n",
       "\n",
       "    .dataframe tbody tr th {\n",
       "        vertical-align: top;\n",
       "    }\n",
       "\n",
       "    .dataframe thead th {\n",
       "        text-align: right;\n",
       "    }\n",
       "</style>\n",
       "<table border=\"1\" class=\"dataframe\">\n",
       "  <thead>\n",
       "    <tr style=\"text-align: right;\">\n",
       "      <th></th>\n",
       "      <th>Accuracy</th>\n",
       "      <th>LogLoss</th>\n",
       "      <th>AUC</th>\n",
       "      <th>TrainingTime</th>\n",
       "    </tr>\n",
       "  </thead>\n",
       "  <tbody>\n",
       "    <tr>\n",
       "      <th>Logistic Regression</th>\n",
       "      <td>0.696000</td>\n",
       "      <td>0.604543</td>\n",
       "      <td>0.743498</td>\n",
       "      <td>0.000000</td>\n",
       "    </tr>\n",
       "    <tr>\n",
       "      <th>Random Forest</th>\n",
       "      <td>0.666000</td>\n",
       "      <td>1.364582</td>\n",
       "      <td>0.703736</td>\n",
       "      <td>0.140622</td>\n",
       "    </tr>\n",
       "    <tr>\n",
       "      <th>Gradient Boosted Trees</th>\n",
       "      <td>0.723333</td>\n",
       "      <td>0.596737</td>\n",
       "      <td>0.733113</td>\n",
       "      <td>0.624965</td>\n",
       "    </tr>\n",
       "    <tr>\n",
       "      <th>Stacking</th>\n",
       "      <td>0.636000</td>\n",
       "      <td>1.060365</td>\n",
       "      <td>0.683022</td>\n",
       "      <td>4.484106</td>\n",
       "    </tr>\n",
       "    <tr>\n",
       "      <th>XGBoost</th>\n",
       "      <td>0.722000</td>\n",
       "      <td>0.595399</td>\n",
       "      <td>0.736951</td>\n",
       "      <td>0.328104</td>\n",
       "    </tr>\n",
       "  </tbody>\n",
       "</table>\n",
       "</div>"
      ],
      "text/plain": [
       "                        Accuracy   LogLoss       AUC  TrainingTime\n",
       "Logistic Regression     0.696000  0.604543  0.743498      0.000000\n",
       "Random Forest           0.666000  1.364582  0.703736      0.140622\n",
       "Gradient Boosted Trees  0.723333  0.596737  0.733113      0.624965\n",
       "Stacking                0.636000  1.060365  0.683022      4.484106\n",
       "XGBoost                 0.722000  0.595399  0.736951      0.328104"
      ]
     },
     "execution_count": 31,
     "metadata": {},
     "output_type": "execute_result"
    }
   ],
   "source": [
    "import xgboost as xgb\n",
    "\n",
    "xgboost = xgb.XGBClassifier(n_jobs=-1)  # n_jobs=-1 uses all available cores\n",
    "\n",
    "# Due to the scikit-learn API option, LightGBM works with our function!\n",
    "train_model_get_results(xgboost, 'XGBoost')"
   ]
  },
  {
   "cell_type": "markdown",
   "metadata": {},
   "source": [
    "#### Hyperparameter Tuning\n",
    "\n",
    "XGBoost has additional hyperparameters that can be tuned - [here is the full list](https://xgboost.readthedocs.io/en/latest/parameter.html#parameters-for-tree-booster). For the purposes of this demonstration, we'll stick with mostly the same hyperparameters that we used for our previous gradient boosting example.\n",
    "\n",
    "I mentioned this above, but below is the tuning guide from Zhonghua Zhang, the former \\#1 kaggler in the world. Additionally, [here](https://machinelearningmastery.com/configure-gradient-boosting-algorithm/) is the blog post containing other tuning strategies that are primarily focused on XGBoost.\n",
    "\n",
    "<img src=\"https://3qeqpr26caki16dnhd19sv6by6v-wpengine.netdna-ssl.com/wp-content/uploads/2016/07/Owen-Zhang-Table-of-Suggestions-for-Hyperparameter-Tuning-of-XGBoost.png\">\n",
    "*Source: [Zhonghua Zhang](https://www.slideshare.net/ShangxuanZhang/winning-data-science-competitions-presented-by-owen-zhang)*\n",
    "\n",
    "**TODO: Update these hyperparameters**"
   ]
  },
  {
   "cell_type": "code",
   "execution_count": 32,
   "metadata": {
    "ExecuteTime": {
     "end_time": "2018-07-07T03:56:18.465846Z",
     "start_time": "2018-07-07T03:55:43.537145Z"
    }
   },
   "outputs": [
    {
     "name": "stdout",
     "output_type": "stream",
     "text": [
      "Default Parameters: \n",
      "\n",
      "XGBClassifier(base_score=0.5, booster='gbtree', colsample_bylevel=1,\n",
      "       colsample_bytree=1, gamma=0, learning_rate=0.1, max_delta_step=0,\n",
      "       max_depth=3, min_child_weight=1, missing=None, n_estimators=100,\n",
      "       n_jobs=-1, nthread=None, objective='binary:logistic',\n",
      "       random_state=0, reg_alpha=0, reg_lambda=1, scale_pos_weight=1,\n",
      "       seed=None, silent=True, subsample=1) \n",
      "\n",
      "Beginning hyperparameter tuning\n",
      "Fitting 3 folds for each of 5 candidates, totalling 15 fits\n"
     ]
    },
    {
     "name": "stderr",
     "output_type": "stream",
     "text": [
      "[Parallel(n_jobs=-1)]: Done   1 tasks      | elapsed:    6.2s\n",
      "[Parallel(n_jobs=-1)]: Done   2 tasks      | elapsed:    8.8s\n",
      "[Parallel(n_jobs=-1)]: Done   3 tasks      | elapsed:    9.2s\n",
      "[Parallel(n_jobs=-1)]: Done   4 tasks      | elapsed:   10.0s\n",
      "[Parallel(n_jobs=-1)]: Done   5 tasks      | elapsed:   11.8s\n",
      "[Parallel(n_jobs=-1)]: Done   6 tasks      | elapsed:   12.3s\n",
      "[Parallel(n_jobs=-1)]: Done   7 tasks      | elapsed:   16.8s\n",
      "[Parallel(n_jobs=-1)]: Done   8 tasks      | elapsed:   17.8s\n",
      "[Parallel(n_jobs=-1)]: Done   9 out of  15 | elapsed:   19.4s remaining:   12.9s\n",
      "[Parallel(n_jobs=-1)]: Done  10 out of  15 | elapsed:   22.8s remaining:   11.3s\n",
      "[Parallel(n_jobs=-1)]: Done  11 out of  15 | elapsed:   25.9s remaining:    9.3s\n",
      "[Parallel(n_jobs=-1)]: Done  12 out of  15 | elapsed:   26.6s remaining:    6.6s\n",
      "[Parallel(n_jobs=-1)]: Done  13 out of  15 | elapsed:   28.2s remaining:    4.3s\n",
      "[Parallel(n_jobs=-1)]: Done  15 out of  15 | elapsed:   30.7s remaining:    0.0s\n",
      "[Parallel(n_jobs=-1)]: Done  15 out of  15 | elapsed:   30.7s finished\n"
     ]
    },
    {
     "name": "stdout",
     "output_type": "stream",
     "text": [
      "Completed\n",
      "Best estimator: \n",
      "\n",
      "XGBClassifier(base_score=0.5, booster='gbtree', colsample_bylevel=1,\n",
      "       colsample_bytree=1, gamma=0, learning_rate=0.01, max_delta_step=0,\n",
      "       max_depth=4, min_child_weight=1, missing=None, n_estimators=899,\n",
      "       n_jobs=-1, nthread=None, objective='binary:logistic',\n",
      "       random_state=0, reg_alpha=1, reg_lambda=0, scale_pos_weight=1,\n",
      "       seed=None, silent=True, subsample=1.0)\n",
      "\n",
      "Accuracy before tuning: 0.722\n",
      "Accuracy after tuning: 0.719333333333\n",
      "\n",
      " Tuned results:\n"
     ]
    },
    {
     "data": {
      "text/html": [
       "<div>\n",
       "<style scoped>\n",
       "    .dataframe tbody tr th:only-of-type {\n",
       "        vertical-align: middle;\n",
       "    }\n",
       "\n",
       "    .dataframe tbody tr th {\n",
       "        vertical-align: top;\n",
       "    }\n",
       "\n",
       "    .dataframe thead th {\n",
       "        text-align: right;\n",
       "    }\n",
       "</style>\n",
       "<table border=\"1\" class=\"dataframe\">\n",
       "  <thead>\n",
       "    <tr style=\"text-align: right;\">\n",
       "      <th></th>\n",
       "      <th>Accuracy</th>\n",
       "      <th>LogLoss</th>\n",
       "      <th>AUC</th>\n",
       "      <th>TrainingTime</th>\n",
       "    </tr>\n",
       "  </thead>\n",
       "  <tbody>\n",
       "    <tr>\n",
       "      <th>Logistic Regression</th>\n",
       "      <td>0.696000</td>\n",
       "      <td>0.604582</td>\n",
       "      <td>0.743400</td>\n",
       "      <td>3.874764</td>\n",
       "    </tr>\n",
       "    <tr>\n",
       "      <th>Random Forest</th>\n",
       "      <td>0.718667</td>\n",
       "      <td>0.598547</td>\n",
       "      <td>0.736356</td>\n",
       "      <td>47.465955</td>\n",
       "    </tr>\n",
       "    <tr>\n",
       "      <th>Gradient Boosted Trees</th>\n",
       "      <td>0.721333</td>\n",
       "      <td>0.591308</td>\n",
       "      <td>0.742436</td>\n",
       "      <td>45.106599</td>\n",
       "    </tr>\n",
       "    <tr>\n",
       "      <th>XGBoost</th>\n",
       "      <td>0.719333</td>\n",
       "      <td>0.603150</td>\n",
       "      <td>0.732412</td>\n",
       "      <td>34.553720</td>\n",
       "    </tr>\n",
       "  </tbody>\n",
       "</table>\n",
       "</div>"
      ],
      "text/plain": [
       "                        Accuracy   LogLoss       AUC  TrainingTime\n",
       "Logistic Regression     0.696000  0.604582  0.743400      3.874764\n",
       "Random Forest           0.718667  0.598547  0.736356     47.465955\n",
       "Gradient Boosted Trees  0.721333  0.591308  0.742436     45.106599\n",
       "XGBoost                 0.719333  0.603150  0.732412     34.553720"
      ]
     },
     "execution_count": 32,
     "metadata": {},
     "output_type": "execute_result"
    },
    {
     "data": {
      "image/png": "[encoded data removed]",
      "text/plain": [
       "<matplotlib.figure.Figure at 0x19ae622af98>"
      ]
     },
     "metadata": {},
     "output_type": "display_data"
    }
   ],
   "source": [
    "parameters = {'n_estimators': scipy.stats.randint(low=100, high=1000),  # Uniform distribution between 10 and 1000\n",
    "              'learning_rate': [0.01, 0.03, 0.1, 0.3],\n",
    "              'max_depth': [4, 6, 8, 10],\n",
    "              'subsample': [0.5, 0.75, 1.0],\n",
    "              'reg_alpha': [0, 1],  # L1 regularization\n",
    "              'reg_lambda': [0, 1]  # L2 regularization\n",
    "             }\n",
    "\n",
    "hyperparameter_tune_get_results(xgboost, parameters, 'XGBoost', num_rounds=5)"
   ]
  },
  {
   "cell_type": "markdown",
   "metadata": {},
   "source": [
    "### LightGBM\n",
    "\n",
    "[LightGBM](https://github.com/Microsoft/LightGBM) is a project from [Microsoft Research Asia](https://www.microsoft.com/en-us/research/lab/microsoft-research-asia/) that is focused around training gradient boosted trees in a highly efficient and distributed manner. It's generally comparable to XGBoost, but is not as popular because it is much newer. More specifically, LightGBM was released in December, 2016, after XGBoost had taken become the de-facto framework for Kaggle competitions.\n",
    "\n",
    "One of the fundamental differences between LightGBM and other implementations of gradient boosted trees is that it grows the trees leaf-wise rather than level-wise, which is reportedly able to let them achieve lower loss than level-wise trees:\n",
    "\n",
    "<img src=\"https://s3-ap-south-1.amazonaws.com/av-blog-media/wp-content/uploads/2017/06/11194110/leaf.png\">\n",
    "\n",
    "<img src=\"https://raw.githubusercontent.com/Microsoft/LightGBM/master/docs/_static/images/leaf-wise.png\">\n",
    "\n",
    "*Source: [LightGBM](https://github.com/Microsoft/LightGBM/blob/master/docs/Features.rst)*\n",
    "\n",
    "Additionally, LightGBM uses a histogram based algorithm to discretize continuous variables into buckets in order to speed up the training process and reduce the memory requirements. XGBoost has included this in recent versions, but it is not enabled by default.\n",
    "\n",
    "There are several other optimizations happening under the hood (listed [here](https://github.com/Microsoft/LightGBM/blob/master/docs/Features.rst)), but those are a few of the main differences from other implementations.\n",
    "\n",
    "#### Installation\n",
    "\n",
    "[The documentation on GitHub](https://github.com/Microsoft/LightGBM/tree/master/python-package#installation) has installation instructions for LightGBM. It can be installed from PyPI with `pip install lightgbm`, but requires a few things to work - check out the documentation depending on your OS."
   ]
  },
  {
   "cell_type": "code",
   "execution_count": 33,
   "metadata": {
    "ExecuteTime": {
     "end_time": "2018-07-07T03:56:18.559588Z",
     "start_time": "2018-07-07T03:56:18.465846Z"
    }
   },
   "outputs": [
    {
     "name": "stdout",
     "output_type": "stream",
     "text": [
      "Training the model\n",
      "Completed\n",
      "\n",
      " Non-tuned results:\n"
     ]
    },
    {
     "data": {
      "text/html": [
       "<div>\n",
       "<style scoped>\n",
       "    .dataframe tbody tr th:only-of-type {\n",
       "        vertical-align: middle;\n",
       "    }\n",
       "\n",
       "    .dataframe tbody tr th {\n",
       "        vertical-align: top;\n",
       "    }\n",
       "\n",
       "    .dataframe thead th {\n",
       "        text-align: right;\n",
       "    }\n",
       "</style>\n",
       "<table border=\"1\" class=\"dataframe\">\n",
       "  <thead>\n",
       "    <tr style=\"text-align: right;\">\n",
       "      <th></th>\n",
       "      <th>Accuracy</th>\n",
       "      <th>LogLoss</th>\n",
       "      <th>AUC</th>\n",
       "      <th>TrainingTime</th>\n",
       "    </tr>\n",
       "  </thead>\n",
       "  <tbody>\n",
       "    <tr>\n",
       "      <th>Logistic Regression</th>\n",
       "      <td>0.696000</td>\n",
       "      <td>0.604543</td>\n",
       "      <td>0.743498</td>\n",
       "      <td>0.000000</td>\n",
       "    </tr>\n",
       "    <tr>\n",
       "      <th>Random Forest</th>\n",
       "      <td>0.666000</td>\n",
       "      <td>1.364582</td>\n",
       "      <td>0.703736</td>\n",
       "      <td>0.140622</td>\n",
       "    </tr>\n",
       "    <tr>\n",
       "      <th>Gradient Boosted Trees</th>\n",
       "      <td>0.723333</td>\n",
       "      <td>0.596737</td>\n",
       "      <td>0.733113</td>\n",
       "      <td>0.624965</td>\n",
       "    </tr>\n",
       "    <tr>\n",
       "      <th>Stacking</th>\n",
       "      <td>0.636000</td>\n",
       "      <td>1.060365</td>\n",
       "      <td>0.683022</td>\n",
       "      <td>4.484106</td>\n",
       "    </tr>\n",
       "    <tr>\n",
       "      <th>XGBoost</th>\n",
       "      <td>0.722000</td>\n",
       "      <td>0.595399</td>\n",
       "      <td>0.736951</td>\n",
       "      <td>0.328104</td>\n",
       "    </tr>\n",
       "    <tr>\n",
       "      <th>LightGBM</th>\n",
       "      <td>0.722667</td>\n",
       "      <td>0.600648</td>\n",
       "      <td>0.734010</td>\n",
       "      <td>0.046870</td>\n",
       "    </tr>\n",
       "  </tbody>\n",
       "</table>\n",
       "</div>"
      ],
      "text/plain": [
       "                        Accuracy   LogLoss       AUC  TrainingTime\n",
       "Logistic Regression     0.696000  0.604543  0.743498      0.000000\n",
       "Random Forest           0.666000  1.364582  0.703736      0.140622\n",
       "Gradient Boosted Trees  0.723333  0.596737  0.733113      0.624965\n",
       "Stacking                0.636000  1.060365  0.683022      4.484106\n",
       "XGBoost                 0.722000  0.595399  0.736951      0.328104\n",
       "LightGBM                0.722667  0.600648  0.734010      0.046870"
      ]
     },
     "execution_count": 33,
     "metadata": {},
     "output_type": "execute_result"
    }
   ],
   "source": [
    "import lightgbm as lgb\n",
    "\n",
    "lightGBM = lgb.LGBMClassifier(nthread=-1)  # nthread=-1 uses all available cores\n",
    "\n",
    "# Due to the scikit-learn API option, LightGBM works with our function!\n",
    "train_model_get_results(lightGBM, 'LightGBM')"
   ]
  },
  {
   "cell_type": "markdown",
   "metadata": {},
   "source": [
    "#### Hyperparameter Tuning\n",
    "\n",
    "Because LightGBM is so similar to XGBoost, we can use the same tuning guidelines in principle. However, there are a few additional tuning guidelines noted in the official [LightGBM Parameter Tuning Guide](http://lightgbm.readthedocs.io/en/latest/Parameters-Tuning.html).\n",
    "\n",
    "**TODO: Adjust these hyperparameters**"
   ]
  },
  {
   "cell_type": "code",
   "execution_count": 34,
   "metadata": {
    "ExecuteTime": {
     "end_time": "2018-07-07T03:56:35.886665Z",
     "start_time": "2018-07-07T03:56:18.559588Z"
    }
   },
   "outputs": [
    {
     "name": "stdout",
     "output_type": "stream",
     "text": [
      "Default Parameters: \n",
      "\n",
      "LGBMClassifier(boosting_type='gbdt', colsample_bytree=1, learning_rate=0.1,\n",
      "        max_bin=255, max_depth=-1, min_child_samples=10,\n",
      "        min_child_weight=5, min_split_gain=0, n_estimators=10, nthread=-1,\n",
      "        num_leaves=31, objective='binary', reg_alpha=0, reg_lambda=0,\n",
      "        seed=0, silent=True, subsample=1, subsample_for_bin=50000,\n",
      "        subsample_freq=1) \n",
      "\n",
      "Beginning hyperparameter tuning\n",
      "Fitting 3 folds for each of 5 candidates, totalling 15 fits\n"
     ]
    },
    {
     "name": "stderr",
     "output_type": "stream",
     "text": [
      "[Parallel(n_jobs=-1)]: Done   1 tasks      | elapsed:    2.9s\n",
      "[Parallel(n_jobs=-1)]: Done   2 tasks      | elapsed:    4.3s\n",
      "[Parallel(n_jobs=-1)]: Done   3 tasks      | elapsed:    5.6s\n",
      "[Parallel(n_jobs=-1)]: Done   4 tasks      | elapsed:    7.4s\n",
      "[Parallel(n_jobs=-1)]: Done   5 tasks      | elapsed:    7.5s\n",
      "[Parallel(n_jobs=-1)]: Done   6 tasks      | elapsed:    7.6s\n",
      "[Parallel(n_jobs=-1)]: Done   7 tasks      | elapsed:    8.5s\n",
      "[Parallel(n_jobs=-1)]: Done   8 tasks      | elapsed:   10.0s\n",
      "[Parallel(n_jobs=-1)]: Done   9 out of  15 | elapsed:   10.3s remaining:    6.8s\n",
      "[Parallel(n_jobs=-1)]: Done  10 out of  15 | elapsed:   11.4s remaining:    5.7s\n",
      "[Parallel(n_jobs=-1)]: Done  11 out of  15 | elapsed:   12.2s remaining:    4.4s\n",
      "[Parallel(n_jobs=-1)]: Done  12 out of  15 | elapsed:   13.7s remaining:    3.4s\n",
      "[Parallel(n_jobs=-1)]: Done  13 out of  15 | elapsed:   14.6s remaining:    2.2s\n",
      "[Parallel(n_jobs=-1)]: Done  15 out of  15 | elapsed:   15.6s remaining:    0.0s\n",
      "[Parallel(n_jobs=-1)]: Done  15 out of  15 | elapsed:   15.6s finished\n"
     ]
    },
    {
     "name": "stdout",
     "output_type": "stream",
     "text": [
      "Completed\n",
      "Best estimator: \n",
      "\n",
      "LGBMClassifier(boosting_type='gbdt', colsample_bytree=1, learning_rate=0.01,\n",
      "        max_bin=255, max_depth=4, min_child_samples=10, min_child_weight=5,\n",
      "        min_split_gain=0, n_estimators=899, nthread=-1, num_leaves=31,\n",
      "        objective='binary', reg_alpha=1, reg_lambda=0, seed=0, silent=True,\n",
      "        subsample=1.0, subsample_for_bin=50000, subsample_freq=1)\n",
      "\n",
      "Accuracy before tuning: 0.722666666667\n",
      "Accuracy after tuning: 0.718\n",
      "\n",
      " Tuned results:\n"
     ]
    },
    {
     "data": {
      "text/html": [
       "<div>\n",
       "<style scoped>\n",
       "    .dataframe tbody tr th:only-of-type {\n",
       "        vertical-align: middle;\n",
       "    }\n",
       "\n",
       "    .dataframe tbody tr th {\n",
       "        vertical-align: top;\n",
       "    }\n",
       "\n",
       "    .dataframe thead th {\n",
       "        text-align: right;\n",
       "    }\n",
       "</style>\n",
       "<table border=\"1\" class=\"dataframe\">\n",
       "  <thead>\n",
       "    <tr style=\"text-align: right;\">\n",
       "      <th></th>\n",
       "      <th>Accuracy</th>\n",
       "      <th>LogLoss</th>\n",
       "      <th>AUC</th>\n",
       "      <th>TrainingTime</th>\n",
       "    </tr>\n",
       "  </thead>\n",
       "  <tbody>\n",
       "    <tr>\n",
       "      <th>Logistic Regression</th>\n",
       "      <td>0.696000</td>\n",
       "      <td>0.604582</td>\n",
       "      <td>0.743400</td>\n",
       "      <td>3.874764</td>\n",
       "    </tr>\n",
       "    <tr>\n",
       "      <th>Random Forest</th>\n",
       "      <td>0.718667</td>\n",
       "      <td>0.598547</td>\n",
       "      <td>0.736356</td>\n",
       "      <td>47.465955</td>\n",
       "    </tr>\n",
       "    <tr>\n",
       "      <th>Gradient Boosted Trees</th>\n",
       "      <td>0.721333</td>\n",
       "      <td>0.591308</td>\n",
       "      <td>0.742436</td>\n",
       "      <td>45.106599</td>\n",
       "    </tr>\n",
       "    <tr>\n",
       "      <th>XGBoost</th>\n",
       "      <td>0.719333</td>\n",
       "      <td>0.603150</td>\n",
       "      <td>0.732412</td>\n",
       "      <td>34.553720</td>\n",
       "    </tr>\n",
       "    <tr>\n",
       "      <th>LightGBM</th>\n",
       "      <td>0.718000</td>\n",
       "      <td>0.603786</td>\n",
       "      <td>0.729733</td>\n",
       "      <td>16.889602</td>\n",
       "    </tr>\n",
       "  </tbody>\n",
       "</table>\n",
       "</div>"
      ],
      "text/plain": [
       "                        Accuracy   LogLoss       AUC  TrainingTime\n",
       "Logistic Regression     0.696000  0.604582  0.743400      3.874764\n",
       "Random Forest           0.718667  0.598547  0.736356     47.465955\n",
       "Gradient Boosted Trees  0.721333  0.591308  0.742436     45.106599\n",
       "XGBoost                 0.719333  0.603150  0.732412     34.553720\n",
       "LightGBM                0.718000  0.603786  0.729733     16.889602"
      ]
     },
     "execution_count": 34,
     "metadata": {},
     "output_type": "execute_result"
    },
    {
     "data": {
      "image/png": "[encoded data removed]",
      "text/plain": [
       "<matplotlib.figure.Figure at 0x19aeaf8d748>"
      ]
     },
     "metadata": {},
     "output_type": "display_data"
    }
   ],
   "source": [
    "parameters = {'n_estimators': scipy.stats.randint(low=100, high=1000),  # Uniform distribution between 10 and 1000\n",
    "              'learning_rate': [0.01, 0.03, 0.1, 0.3],\n",
    "              'max_depth': [4, 6, 8, 10],\n",
    "              'subsample': [0.5, 0.75, 1.0],\n",
    "              'reg_alpha': [0, 1],  # L1 regularization\n",
    "              'reg_lambda': [0, 1]  # L2 regularization\n",
    "             }\n",
    "\n",
    "hyperparameter_tune_get_results(lightGBM, parameters, 'LightGBM', num_rounds=5)"
   ]
  },
  {
   "cell_type": "markdown",
   "metadata": {},
   "source": [
    "# Summary\n",
    "\n",
    "And there we have it! We looked at different types of ensemble methods, how to tune them, and a few different frameworks for using them.\n",
    "\n",
    "If you enjoyed that and wanted a more in-depth version where we fully tune our models, check out the blog post when it's released.\n",
    "\n",
    "**TODO: Add link to blog post**\n",
    "\n",
    "For a shameless plug, if you liked that kind of material, here are a few places where I put out content:\n",
    "- [Blog](https://jeffmacaluso.github.io/)\n",
    "- [GitHub](https://github.com/jeffmacaluso)\n",
    "- [Twitter](https://twitter.com/MacalusoJeff)\n",
    "- [Instagram](https://www.instagram.com/booksandtibbs/)\n",
    "    - Note: This is really just pictures of my dogs, but who doesn't like dogs?"
   ]
  }
 ],
 "metadata": {
  "kernelspec": {
   "display_name": "Python 3",
   "language": "python",
   "name": "python3"
  },
  "language_info": {
   "codemirror_mode": {
    "name": "ipython",
    "version": 3
   },
   "file_extension": ".py",
   "mimetype": "text/x-python",
   "name": "python",
   "nbconvert_exporter": "python",
   "pygments_lexer": "ipython3",
   "version": "3.6.1"
  },
  "varInspector": {
   "cols": {
    "lenName": 16,
    "lenType": 16,
    "lenVar": 40
   },
   "kernels_config": {
    "python": {
     "delete_cmd_postfix": "",
     "delete_cmd_prefix": "del ",
     "library": "var_list.py",
     "varRefreshCmd": "print(var_dic_list())"
    },
    "r": {
     "delete_cmd_postfix": ") ",
     "delete_cmd_prefix": "rm(",
     "library": "var_list.r",
     "varRefreshCmd": "cat(var_dic_list()) "
    }
   },
   "types_to_exclude": [
    "module",
    "function",
    "builtin_function_or_method",
    "instance",
    "_Feature"
   ],
   "window_display": false
  }
 },
 "nbformat": 4,
 "nbformat_minor": 2
}
