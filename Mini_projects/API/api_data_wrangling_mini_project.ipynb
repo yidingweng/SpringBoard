{
 "cells": [
  {
   "cell_type": "markdown",
   "metadata": {},
   "source": [
    "This exercise will require you to pull some data from the Qunadl API. Qaundl is currently the most widely used aggregator of financial market data."
   ]
  },
  {
   "cell_type": "markdown",
   "metadata": {},
   "source": [
    "As a first step, you will need to register a free account on the http://www.quandl.com website."
   ]
  },
  {
   "cell_type": "markdown",
   "metadata": {},
   "source": [
    "After you register, you will be provided with a unique API key, that you should store:"
   ]
  },
  {
   "cell_type": "code",
   "execution_count": 34,
   "metadata": {
    "collapsed": true
   },
   "outputs": [],
   "source": [
    "# Store the API key as a string - according to PEP8, constants are always named in all upper case\n",
    "API_KEY = 'wyuWV4cyusRe1iru7amh'"
   ]
  },
  {
   "cell_type": "markdown",
   "metadata": {},
   "source": [
    "Qaundl has a large number of data sources, but, unfortunately, most of them require a Premium subscription. Still, there are also a good number of free datasets."
   ]
  },
  {
   "cell_type": "markdown",
   "metadata": {},
   "source": [
    "For this mini project, we will focus on equities data from the Frankfurt Stock Exhange (FSE), which is available for free. We'll try and analyze the stock prices of a company called Carl Zeiss Meditec, which manufactures tools for eye examinations, as well as medical lasers for laser eye surgery: https://www.zeiss.com/meditec/int/home.html. The company is listed under the stock ticker AFX_X."
   ]
  },
  {
   "cell_type": "markdown",
   "metadata": {},
   "source": [
    "You can find the detailed Quandl API instructions here: https://docs.quandl.com/docs/time-series"
   ]
  },
  {
   "cell_type": "markdown",
   "metadata": {},
   "source": [
    "While there is a dedicated Python package for connecting to the Quandl API, we would prefer that you use the *requests* package, which can be easily downloaded using *pip* or *conda*. You can find the documentation for the package here: http://docs.python-requests.org/en/master/ "
   ]
  },
  {
   "cell_type": "markdown",
   "metadata": {},
   "source": [
    "Finally, apart from the *requests* package, you are encouraged to not use any third party Python packages, such as *pandas*, and instead focus on what's available in the Python Standard Library (the *collections* module might come in handy: https://pymotw.com/3/collections/).\n",
    "Also, since you won't have access to DataFrames, you are encouraged to us Python's native data structures - preferably dictionaries, though some questions can also be answered using lists.\n",
    "You can read more on these data structures here: https://docs.python.org/3/tutorial/datastructures.html"
   ]
  },
  {
   "cell_type": "markdown",
   "metadata": {},
   "source": [
    "Keep in mind that the JSON responses you will be getting from the API map almost one-to-one to Python's dictionaries. Unfortunately, they can be very nested, so make sure you read up on indexing dictionaries in the documentation provided above."
   ]
  },
  {
   "cell_type": "code",
   "execution_count": 2,
   "metadata": {
    "collapsed": true
   },
   "outputs": [],
   "source": [
    "# First, import the relevant modules\n",
    "import requests\n",
    "import collections\n",
    "import statistics\n",
    "import json"
   ]
  },
  {
   "cell_type": "code",
   "execution_count": 36,
   "metadata": {},
   "outputs": [
    {
     "name": "stdout",
     "output_type": "stream",
     "text": [
      "https://www.quandl.com/api/v3/datasets/FSE/AFX_X/data.json?start_date=2017-04-15\n",
      "                             &end_date=2017-04-15&api_key=wyuWV4cyusRe1iru7amh\n"
     ]
    }
   ],
   "source": [
    "print (\"\"\"https://www.quandl.com/api/v3/datasets/FSE/AFX_X/data.json?start_date=2017-04-15\n",
    "                             &end_date=2017-04-15&api_key=\"\"\"+API_KEY)"
   ]
  },
  {
   "cell_type": "code",
   "execution_count": 37,
   "metadata": {
    "collapsed": true
   },
   "outputs": [],
   "source": [
    "# Now, call the Quandl API and pull out a small sample of the data (only one day) to get a glimpse\n",
    "# into the JSON structure that will be returned\n",
    "quand_request = requests.get( \"\"\"https://www.quandl.com/api/v3/datasets/FSE/AFX_X/data.json?start_date=2017-07-02\n",
    "                             &end_date=2017-07-03&api_key=\"\"\" + API_KEY)"
   ]
  },
  {
   "cell_type": "code",
   "execution_count": 38,
   "metadata": {},
   "outputs": [
    {
     "name": "stdout",
     "output_type": "stream",
     "text": [
      "{'dataset_data': {'limit': None, 'transform': None, 'column_index': None, 'column_names': ['Date', 'Open', 'High', 'Low', 'Close', 'Change', 'Traded Volume', 'Turnover', 'Last Price of the Day', 'Daily Traded Units', 'Daily Turnover'], 'start_date': '2017-07-02', 'end_date': '2017-07-03', 'frequency': 'daily', 'data': [['2017-07-03', 45.29, 45.83, 45.06, 45.75, None, 71381.0, 3251502.0, None, None, None]], 'collapse': None, 'order': None}}\n"
     ]
    }
   ],
   "source": [
    "# Inspect the JSON structure of the object you created, and take note of how nested it is,\n",
    "# as well as the overall structure\n",
    "print (quand_request.json())"
   ]
  },
  {
   "cell_type": "markdown",
   "metadata": {},
   "source": [
    "These are your tasks for this mini project:\n",
    "\n",
    "1. Collect data from the Franfurt Stock Exchange, for the ticker AFX_X, for the whole year 2017 (keep in mind that the date format is YYYY-MM-DD).\n",
    "2. Convert the returned JSON object into a Python dictionary.\n",
    "3. Calculate what the highest and lowest opening prices were for the stock in this period.\n",
    "4. What was the largest change in any one day (based on High and Low price)?\n",
    "5. What was the largest change between any two days (based on Closing Price)?\n",
    "6. What was the average daily trading volume during this year?\n",
    "7. (Optional) What was the median trading volume during this year. (Note: you may need to implement your own function for calculating the median.)"
   ]
  },
  {
   "cell_type": "markdown",
   "metadata": {
    "collapsed": true
   },
   "source": [
    "### 1. Collect data from the Franfurt Stock Exchange, for the ticker AFX_X, for the whole year 2017 (keep in mind that the date format is YYYY-MM-DD)."
   ]
  },
  {
   "cell_type": "code",
   "execution_count": 39,
   "metadata": {
    "collapsed": true
   },
   "outputs": [],
   "source": [
    "year_request = requests.get (\"\"\"https://www.quandl.com/api/v3/datasets/FSE/AFX_X/data.json?start_date=2017-01-01\n",
    "                             &end_date=2017-12-31&api_key=\"\"\" + API_KEY)"
   ]
  },
  {
   "cell_type": "markdown",
   "metadata": {},
   "source": [
    "### 2. Convert the returned JSON object into a Python dictionary."
   ]
  },
  {
   "cell_type": "code",
   "execution_count": 40,
   "metadata": {},
   "outputs": [
    {
     "name": "stdout",
     "output_type": "stream",
     "text": [
      "<class 'dict'>\n"
     ]
    }
   ],
   "source": [
    "\n",
    "# Returned as a python dictionary# Return \n",
    "year_dict = year_request.json()\n",
    "print (type(year_dict))"
   ]
  },
  {
   "cell_type": "markdown",
   "metadata": {},
   "source": [
    "### 3. Calculate what the highest and lowest opening prices were for the stock in this period."
   ]
  },
  {
   "cell_type": "code",
   "execution_count": 52,
   "metadata": {},
   "outputs": [
    {
     "name": "stdout",
     "output_type": "stream",
     "text": [
      "The highest opening price in 2017 was $53.11 per share and occured on 2017-12-14.\n",
      "The lowest opening price in 2017 was $34.00 per share and oocurred on 2017-01-24.\n"
     ]
    }
   ],
   "source": [
    "open_dict = {row[0]: row[1] for row in year_dict[\"dataset_data\"][\"data\"] if row[1] != None}\n",
    "open_max_date, open_max = max(open_dict.items(), key=lambda k: k[1])\n",
    "open_min_date, open_min = min(open_dict.items(), key=lambda k: k[1])\n",
    "\n",
    "print(\"The highest opening price in 2017 was ${0:.2f} per share and occured on {1}.\" \\\n",
    "      .format(round(open_max, 2), open_max_date))\n",
    "print(\"The lowest opening price in 2017 was ${0:.2f} per share and oocurred on {1}.\" \\\n",
    "      .format(round(open_min, 2), open_min_date))"
   ]
  },
  {
   "cell_type": "markdown",
   "metadata": {},
   "source": [
    "### 4. What was the largest change in any one day (based on High and Low price)?"
   ]
  },
  {
   "cell_type": "code",
   "execution_count": 55,
   "metadata": {},
   "outputs": [
    {
     "name": "stdout",
     "output_type": "stream",
     "text": [
      "The largest daily price spread in 2017 was Δ$2.81 per share and occurred on 2017-05-11.\n"
     ]
    }
   ],
   "source": [
    "#High occurs at [2] and low occurs at [3]\n",
    "'''\n",
    "max_change = 0\n",
    "for day in data:\n",
    "    if (day[2] - day[3]) > max_change:\n",
    "        max_change = (day[2] - day[3])\n",
    "        \n",
    "print ('Highest change price:', max_change)\n",
    "'''\n",
    "spread_dict = {row[0]: row[2] - row[3] for row in year_dict[\"dataset_data\"][\"data\"]}\n",
    "spread_max_date, spread_max = max(spread_dict.items(), key=lambda k: k[1])\n",
    "\n",
    "print(\"The largest daily price spread in 2017 was {1}${0:.2f} per share and occurred on {2}.\" \\\n",
    "      .format(round(spread_max, 2), u'\\u0394', spread_max_date))"
   ]
  },
  {
   "cell_type": "markdown",
   "metadata": {},
   "source": [
    "### 5. What was the largest change between any two days (based on Closing Price)?"
   ]
  },
  {
   "cell_type": "code",
   "execution_count": 58,
   "metadata": {},
   "outputs": [
    {
     "name": "stdout",
     "output_type": "stream",
     "text": [
      "Largest price change between two days: 2.56\n"
     ]
    }
   ],
   "source": [
    "#Largest price change occurs at [4]\n",
    "largest_two_days = 0\n",
    "for day in range(0, len(data)-1):\n",
    "    two_days = abs(data[day][4] - data[day+1][4])\n",
    "    if two_days > largest_two_days:\n",
    "        largest_two_days = two_days\n",
    "print ('Largest price change between two days:', round(largest_two_days,2))"
   ]
  },
  {
   "cell_type": "markdown",
   "metadata": {},
   "source": [
    "### 6. What was the average daily trading volume during this year?"
   ]
  },
  {
   "cell_type": "code",
   "execution_count": 59,
   "metadata": {},
   "outputs": [
    {
     "name": "stdout",
     "output_type": "stream",
     "text": [
      "Average daily trading volume for 2017: 89124.34\n"
     ]
    }
   ],
   "source": [
    "#Trading volume occurs at [6]\n",
    "#Using the statistics library\n",
    "average_trading = statistics.mean([day[6] for day in data])\n",
    "print ('Average daily trading volume for 2017:', round(average_trading,2))"
   ]
  },
  {
   "cell_type": "markdown",
   "metadata": {},
   "source": [
    "### 7. (Optional) What was the median trading volume during this year. (Note: you may need to implement your own function for calculating the median.)"
   ]
  },
  {
   "cell_type": "code",
   "execution_count": 47,
   "metadata": {},
   "outputs": [
    {
     "name": "stdout",
     "output_type": "stream",
     "text": [
      "Median trading volume for 2017: 76286.0\n"
     ]
    }
   ],
   "source": [
    "\n",
    "#Using the statisics library#Using t \n",
    "median_trading_volume = statistics.median([day[6] for day in data])\n",
    "print ('Median trading volume for 2017:', median_trading_volume)"
   ]
  }
 ],
 "metadata": {
  "kernelspec": {
   "display_name": "Python 3",
   "language": "python",
   "name": "python3"
  },
  "language_info": {
   "codemirror_mode": {
    "name": "ipython",
    "version": 3
   },
   "file_extension": ".py",
   "mimetype": "text/x-python",
   "name": "python",
   "nbconvert_exporter": "python",
   "pygments_lexer": "ipython3",
   "version": "3.6.1"
  }
 },
 "nbformat": 4,
 "nbformat_minor": 2
}
