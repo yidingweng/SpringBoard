{
 "cells": [
  {
   "cell_type": "code",
   "execution_count": 1,
   "metadata": {},
   "outputs": [],
   "source": [
    "text = \"Moab rebelled against Israel after the death of Ahab. 1Ahaziah fell down through the lattice in his upper room that was in Samaria, and was sick. So he sent messengers, and said to them, “Go, inquire of Baal Zebub, the god of Ekron, whether I will recover of this sickness.” But the angel of Yahweh said to Elijah the Tishbite, “Arise, go up to meet the messengers of the king of Samaria, and tell them, ‘Is it because there is no God in Israel, that you go to inquire of Baal Zebub, the god of Ekron? 1Now therefore thus says Yahweh, “You shall not come down from the bed where you have gone up, but shall surely die.”’” Elijah departed. The messengers returned to him, and he said to them, “Why is it that you have returned?” They said to him, “A man came up to meet us, and said to us, ‘Go, return to the king who sent you, and tell him, “Thus says Yahweh, ‘Is it because there is no God in Israel, that you send to inquire of Baal Zebub, the god of Ekron? Therefore you shall not come down from the bed where you have gone up, but shall surely die.’”’” He said to them, “What kind of man was he who came up to meet you, and told you these words?” They answered him, “He was a hairy man, and wearing a leather belt around his waist.” He said, “It is Elijah the Tishbite.” Then the king sent a captain of fifty with his fifty to him. He went up to him; and behold, he was sitting on the top of the hill. He said to him, “Man of God, the king has said, ‘Come down!’” Elijah answered to the captain of fifty, “If I am a man of God, let fire come down from the sky, and consume you and your fifty!” Fire came down from the sky, and consumed him and his fifty. Again he sent to him another captain of fifty and his fifty. He answered him, “Man of God, the king has said, ‘Come down quickly!’” Elijah answered them, “If I am a man of God, let fire come down from the sky, and consume you and your fifty!” The fire of God came down from the sky, and consumed him and his fifty. Again he sent the captain of a third fifty with his fifty. The third captain of fifty went up, and came and fell on his knees before Elijah, and begged him, and said to him, “Man of God, please let my life, and the life of these fifty your servants, be precious in your sight. 1Behold, fire came down from the sky, and consumed the two former captains of fifty with their fifties. But now let my life be precious in your sight.” The angel of Yahweh said to Elijah, “Go down with him. Don’t be afraid of him.” He arose, and went down with him to the king. 1He said to him, “Thus says Yahweh, ‘Because you have sent messengers to inquire of Baal Zebub, the god of Ekron, is it because there is no God in Israel to inquire of his word? Therefore you shall not come down from the bed where you have gone up, but shall surely die.’” So he died according to the word of Yahweh which Elijah had spoken. Jehoram began to reign in his place in the second year of Jehoram the son of Jehoshaphat king of Judah; because he had no son. 1Now the rest of the acts of Ahaziah which he did, aren’t they written in the book of the chronicles of the kings of Israel?\""
   ]
  },
  {
   "cell_type": "code",
   "execution_count": 2,
   "metadata": {},
   "outputs": [
    {
     "data": {
      "text/plain": [
       "'Moab rebelled against Israel after the death of Ahab. 1Ahaziah fell down through the lattice in his upper room that was in Samaria, and was sick. So he sent messengers, and said to them, “Go, inquire of Baal Zebub, the god of Ekron, whether I will recover of this sickness.” But the angel of Yahweh said to Elijah the Tishbite, “Arise, go up to meet the messengers of the king of Samaria, and tell them, ‘Is it because there is no God in Israel, that you go to inquire of Baal Zebub, the god of Ekron? 1Now therefore thus says Yahweh, “You shall not come down from the bed where you have gone up, but shall surely die.”’” Elijah departed. The messengers returned to him, and he said to them, “Why is it that you have returned?” They said to him, “A man came up to meet us, and said to us, ‘Go, return to the king who sent you, and tell him, “Thus says Yahweh, ‘Is it because there is no God in Israel, that you send to inquire of Baal Zebub, the god of Ekron? Therefore you shall not come down from the bed where you have gone up, but shall surely die.’”’” He said to them, “What kind of man was he who came up to meet you, and told you these words?” They answered him, “He was a hairy man, and wearing a leather belt around his waist.” He said, “It is Elijah the Tishbite.” Then the king sent a captain of fifty with his fifty to him. He went up to him; and behold, he was sitting on the top of the hill. He said to him, “Man of God, the king has said, ‘Come down!’” Elijah answered to the captain of fifty, “If I am a man of God, let fire come down from the sky, and consume you and your fifty!” Fire came down from the sky, and consumed him and his fifty. Again he sent to him another captain of fifty and his fifty. He answered him, “Man of God, the king has said, ‘Come down quickly!’” Elijah answered them, “If I am a man of God, let fire come down from the sky, and consume you and your fifty!” The fire of God came down from the sky, and consumed him and his fifty. Again he sent the captain of a third fifty with his fifty. The third captain of fifty went up, and came and fell on his knees before Elijah, and begged him, and said to him, “Man of God, please let my life, and the life of these fifty your servants, be precious in your sight. 1Behold, fire came down from the sky, and consumed the two former captains of fifty with their fifties. But now let my life be precious in your sight.” The angel of Yahweh said to Elijah, “Go down with him. Don’t be afraid of him.” He arose, and went down with him to the king. 1He said to him, “Thus says Yahweh, ‘Because you have sent messengers to inquire of Baal Zebub, the god of Ekron, is it because there is no God in Israel to inquire of his word? Therefore you shall not come down from the bed where you have gone up, but shall surely die.’” So he died according to the word of Yahweh which Elijah had spoken. Jehoram began to reign in his place in the second year of Jehoram the son of Jehoshaphat king of Judah; because he had no son. 1Now the rest of the acts of Ahaziah which he did, aren’t they written in the book of the chronicles of the kings of Israel?'"
      ]
     },
     "execution_count": 2,
     "metadata": {},
     "output_type": "execute_result"
    }
   ],
   "source": [
    "text"
   ]
  },
  {
   "cell_type": "code",
   "execution_count": 2,
   "metadata": {},
   "outputs": [],
   "source": [
    "from gensim.summarization import summarize"
   ]
  },
  {
   "cell_type": "code",
   "execution_count": 3,
   "metadata": {},
   "outputs": [],
   "source": [
    "from gensim.summarization import keywords"
   ]
  },
  {
   "cell_type": "code",
   "execution_count": 8,
   "metadata": {},
   "outputs": [
    {
     "name": "stdout",
     "output_type": "stream",
     "text": [
      "The messengers returned to him, and he said to them, “Why is it that you have returned?” They said to him, “A man came up to meet us, and said to us, ‘Go, return to the king who sent you, and tell him, “Thus says Yahweh, ‘Is it because there is no God in Israel, that you send to inquire of Baal Zebub, the god of Ekron?\n",
      "Therefore you shall not come down from the bed where you have gone up, but shall surely die.’”’” He said to them, “What kind of man was he who came up to meet you, and told you these words?” They answered him, “He was a hairy man, and wearing a leather belt around his waist.” He said, “It is Elijah the Tishbite.” Then the king sent a captain of fifty with his fifty to him.\n",
      "He said to him, “Man of God, the king has said, ‘Come down!’” Elijah answered to the captain of fifty, “If I am a man of God, let fire come down from the sky, and consume you and your fifty!” Fire came down from the sky, and consumed him and his fifty.\n"
     ]
    }
   ],
   "source": [
    "print(summarize(text,word_count=200))"
   ]
  },
  {
   "cell_type": "code",
   "execution_count": 12,
   "metadata": {},
   "outputs": [
    {
     "name": "stdout",
     "output_type": "stream",
     "text": [
      "Therefore you shall not come down from the bed where you have gone up, but shall surely die.’”’” He said to them, “What kind of man was he who came up to meet you, and told you these words?” They answered him, “He was a hairy man, and wearing a leather belt around his waist.” He said, “It is Elijah the Tishbite.” Then the king sent a captain of fifty with his fifty to him.\n"
     ]
    }
   ],
   "source": [
    "print(summarize(text,ratio=0.1))"
   ]
  },
  {
   "cell_type": "code",
   "execution_count": 13,
   "metadata": {},
   "outputs": [
    {
     "name": "stdout",
     "output_type": "stream",
     "text": [
      "The messengers returned to him, and he said to them, “Why is it that you have returned?” They said to him, “A man came up to meet us, and said to us, ‘Go, return to the king who sent you, and tell him, “Thus says Yahweh, ‘Is it because there is no God in Israel, that you send to inquire of Baal Zebub, the god of Ekron?\n",
      "Therefore you shall not come down from the bed where you have gone up, but shall surely die.’”’” He said to them, “What kind of man was he who came up to meet you, and told you these words?” They answered him, “He was a hairy man, and wearing a leather belt around his waist.” He said, “It is Elijah the Tishbite.” Then the king sent a captain of fifty with his fifty to him.\n",
      "He said to him, “Man of God, the king has said, ‘Come down!’” Elijah answered to the captain of fifty, “If I am a man of God, let fire come down from the sky, and consume you and your fifty!” Fire came down from the sky, and consumed him and his fifty.\n"
     ]
    }
   ],
   "source": [
    "print(summarize(text,ratio=0.2))"
   ]
  },
  {
   "cell_type": "code",
   "execution_count": 14,
   "metadata": {},
   "outputs": [
    {
     "name": "stdout",
     "output_type": "stream",
     "text": [
      "So he sent messengers, and said to them, “Go, inquire of Baal Zebub, the god of Ekron, whether I will recover of this sickness.” But the angel of Yahweh said to Elijah the Tishbite, “Arise, go up to meet the messengers of the king of Samaria, and tell them, ‘Is it because there is no God in Israel, that you go to inquire of Baal Zebub, the god of Ekron?\n",
      "The messengers returned to him, and he said to them, “Why is it that you have returned?” They said to him, “A man came up to meet us, and said to us, ‘Go, return to the king who sent you, and tell him, “Thus says Yahweh, ‘Is it because there is no God in Israel, that you send to inquire of Baal Zebub, the god of Ekron?\n",
      "Therefore you shall not come down from the bed where you have gone up, but shall surely die.’”’” He said to them, “What kind of man was he who came up to meet you, and told you these words?” They answered him, “He was a hairy man, and wearing a leather belt around his waist.” He said, “It is Elijah the Tishbite.” Then the king sent a captain of fifty with his fifty to him.\n",
      "He said to him, “Man of God, the king has said, ‘Come down!’” Elijah answered to the captain of fifty, “If I am a man of God, let fire come down from the sky, and consume you and your fifty!” Fire came down from the sky, and consumed him and his fifty.\n",
      "He answered him, “Man of God, the king has said, ‘Come down quickly!’” Elijah answered them, “If I am a man of God, let fire come down from the sky, and consume you and your fifty!” The fire of God came down from the sky, and consumed him and his fifty.\n"
     ]
    }
   ],
   "source": [
    "print(summarize(text,ratio=0.3))"
   ]
  },
  {
   "cell_type": "code",
   "execution_count": 15,
   "metadata": {},
   "outputs": [
    {
     "name": "stdout",
     "output_type": "stream",
     "text": [
      "So he sent messengers, and said to them, “Go, inquire of Baal Zebub, the god of Ekron, whether I will recover of this sickness.” But the angel of Yahweh said to Elijah the Tishbite, “Arise, go up to meet the messengers of the king of Samaria, and tell them, ‘Is it because there is no God in Israel, that you go to inquire of Baal Zebub, the god of Ekron?\n",
      "The messengers returned to him, and he said to them, “Why is it that you have returned?” They said to him, “A man came up to meet us, and said to us, ‘Go, return to the king who sent you, and tell him, “Thus says Yahweh, ‘Is it because there is no God in Israel, that you send to inquire of Baal Zebub, the god of Ekron?\n",
      "Therefore you shall not come down from the bed where you have gone up, but shall surely die.’”’” He said to them, “What kind of man was he who came up to meet you, and told you these words?” They answered him, “He was a hairy man, and wearing a leather belt around his waist.” He said, “It is Elijah the Tishbite.” Then the king sent a captain of fifty with his fifty to him.\n",
      "He said to him, “Man of God, the king has said, ‘Come down!’” Elijah answered to the captain of fifty, “If I am a man of God, let fire come down from the sky, and consume you and your fifty!” Fire came down from the sky, and consumed him and his fifty.\n",
      "He answered him, “Man of God, the king has said, ‘Come down quickly!’” Elijah answered them, “If I am a man of God, let fire come down from the sky, and consume you and your fifty!” The fire of God came down from the sky, and consumed him and his fifty.\n",
      "The third captain of fifty went up, and came and fell on his knees before Elijah, and begged him, and said to him, “Man of God, please let my life, and the life of these fifty your servants, be precious in your sight.\n",
      "1He said to him, “Thus says Yahweh, ‘Because you have sent messengers to inquire of Baal Zebub, the god of Ekron, is it because there is no God in Israel to inquire of his word?\n"
     ]
    }
   ],
   "source": [
    "print(summarize(text,ratio=0.4))"
   ]
  },
  {
   "cell_type": "code",
   "execution_count": 16,
   "metadata": {},
   "outputs": [
    {
     "name": "stdout",
     "output_type": "stream",
     "text": [
      "elijah\n",
      "jehoram\n",
      "ahaziah\n",
      "said\n",
      "yahweh\n",
      "messengers\n",
      "man\n",
      "god\n",
      "king\n",
      "kings\n"
     ]
    }
   ],
   "source": [
    "print(keywords(text))"
   ]
  },
  {
   "cell_type": "code",
   "execution_count": 6,
   "metadata": {},
   "outputs": [],
   "source": [
    "text2 = \"1Now there was a man of the Pharisees named Nicodemus, a ruler of the Jews. 2The same came to him by night, and said to him, “Rabbi, we know that you are a teacher come from God, for no one can do these signs that you do, unless God is with him.” Jesus answered him, “Most certainly, I tell you, unless one is born anew, he can’t see the Kingdom of God.” Nicodemus said to him, “How can a man be born when he is old? Can he enter a second time into his mother’s womb, and be born?” Jesus answered, “Most certainly I tell you, unless one is born of water and spirit, he can’t enter into the Kingdom of God!  3 That which is born of the flesh is flesh. That which is born of the Spirit is spirit.  4 Don’t marvel that I said to you, ‘You must be born anew.’  5 The windblows where it wants to, and you hear its sound, but don’t know where it comes from and where it is going. So is everyone who is born of the Spirit.” Nicodemus answered him, “How can these things be?” Jesus answered him, “Are you the teacher of Israel, and don’t understand these things?  6 Most certainly I tell you, we speak that which we know, and testify of that which we have seen, and you don’t receive our witness.  7 If I told you earthly things and you don’t believe, how will you believe if I tell you heavenly things?  8 No one has ascended into heaven, but he who descended out of heaven, the Son of Man, who is in heaven.  9 As Moses lifted up the serpent in the wilderness, even so must the Son of Man be lifted up,  10 that whoever believes in him should not perish, but have eternal life.  11 For God so loved the world, that he gave his one and only Son, that whoever believes in him should not perish, but have eternal life.  12 For God didn’t send his Son into the world to judge the world, but that the world should be saved through him.  13 He who believes in him is not judged. He who doesn’t believe has been judged already, because he has not believed in the name of the one and only Son of God.  14 This is the judgment, that the light has come into the world, and men loved the darkness rather than the light; for their works were evil.  15 For everyone who does evil hates the light, and doesn’t come to the light, lest his works would be exposed.  16 But he who does the truth comes to the light, that his works may be revealed, that they have been done in God.” After these things, Jesus came with his disciples into the land of Judea. He stayed there with them, and baptized. 17John also was baptizing in Enon near Salim, because there was much water there. They came, and were baptized. 18For John was not yet thrown into prison. 19There arose therefore a questioning on the part of John’s disciples with some Jews about purification. 20They came to John, and said to him, “Rabbi, he who was with you beyond the Jordan, to whom you have testified, behold, the same baptizes, and everyone is coming to him.” John answered, “A man can receive nothing, unless it has been given him from heaven. 21You yourselves testify that I said, ‘I am not the Christ,’ but, ‘I have been sent before him.’ 22He who has the bride is the bridegroom; but the friend of the bridegroom, who stands and hears him, rejoices greatly because of the bridegroom’s voice. This, my joy, therefore is made full. 3He must increase, but I must decrease. 23He who comes from above is above all. He who is from the earth belongs to the earth, and speaks of the earth. He who comes from heaven is above all. 24What he has seen and heard, of that he testifies; and no one receives his witness. 25He who has received his witness has set his seal to this, that God is true. 26For he whom God has sent speaks the words of God; for God gives the Spirit without measure. 27The Father loves the Son, and has given all things into his hand. 28One who believes in the Son has eternal life, but one who disobeys 29 the Son won’t see life, but the wrath of God remains on him.”\""
   ]
  },
  {
   "cell_type": "code",
   "execution_count": 7,
   "metadata": {},
   "outputs": [
    {
     "data": {
      "text/plain": [
       "'1Now there was a man of the Pharisees named Nicodemus, a ruler of the Jews. 2The same came to him by night, and said to him, “Rabbi, we know that you are a teacher come from God, for no one can do these signs that you do, unless God is with him.” Jesus answered him, “Most certainly, I tell you, unless one is born anew, he can’t see the Kingdom of God.” Nicodemus said to him, “How can a man be born when he is old? Can he enter a second time into his mother’s womb, and be born?” Jesus answered, “Most certainly I tell you, unless one is born of water and spirit, he can’t enter into the Kingdom of God!  3 That which is born of the flesh is flesh. That which is born of the Spirit is spirit.  4 Don’t marvel that I said to you, ‘You must be born anew.’  5 The windblows where it wants to, and you hear its sound, but don’t know where it comes from and where it is going. So is everyone who is born of the Spirit.” Nicodemus answered him, “How can these things be?” Jesus answered him, “Are you the teacher of Israel, and don’t understand these things?  6 Most certainly I tell you, we speak that which we know, and testify of that which we have seen, and you don’t receive our witness.  7 If I told you earthly things and you don’t believe, how will you believe if I tell you heavenly things?  8 No one has ascended into heaven, but he who descended out of heaven, the Son of Man, who is in heaven.  9 As Moses lifted up the serpent in the wilderness, even so must the Son of Man be lifted up,  10 that whoever believes in him should not perish, but have eternal life.  11 For God so loved the world, that he gave his one and only Son, that whoever believes in him should not perish, but have eternal life.  12 For God didn’t send his Son into the world to judge the world, but that the world should be saved through him.  13 He who believes in him is not judged. He who doesn’t believe has been judged already, because he has not believed in the name of the one and only Son of God.  14 This is the judgment, that the light has come into the world, and men loved the darkness rather than the light; for their works were evil.  15 For everyone who does evil hates the light, and doesn’t come to the light, lest his works would be exposed.  16 But he who does the truth comes to the light, that his works may be revealed, that they have been done in God.” After these things, Jesus came with his disciples into the land of Judea. He stayed there with them, and baptized. 17John also was baptizing in Enon near Salim, because there was much water there. They came, and were baptized. 18For John was not yet thrown into prison. 19There arose therefore a questioning on the part of John’s disciples with some Jews about purification. 20They came to John, and said to him, “Rabbi, he who was with you beyond the Jordan, to whom you have testified, behold, the same baptizes, and everyone is coming to him.” John answered, “A man can receive nothing, unless it has been given him from heaven. 21You yourselves testify that I said, ‘I am not the Christ,’ but, ‘I have been sent before him.’ 22He who has the bride is the bridegroom; but the friend of the bridegroom, who stands and hears him, rejoices greatly because of the bridegroom’s voice. This, my joy, therefore is made full. 3He must increase, but I must decrease. 23He who comes from above is above all. He who is from the earth belongs to the earth, and speaks of the earth. He who comes from heaven is above all. 24What he has seen and heard, of that he testifies; and no one receives his witness. 25He who has received his witness has set his seal to this, that God is true. 26For he whom God has sent speaks the words of God; for God gives the Spirit without measure. 27The Father loves the Son, and has given all things into his hand. 28One who believes in the Son has eternal life, but one who disobeys 29 the Son won’t see life, but the wrath of God remains on him.”'"
      ]
     },
     "execution_count": 7,
     "metadata": {},
     "output_type": "execute_result"
    }
   ],
   "source": [
    "text2"
   ]
  },
  {
   "cell_type": "code",
   "execution_count": 8,
   "metadata": {},
   "outputs": [
    {
     "name": "stdout",
     "output_type": "stream",
     "text": [
      "2The same came to him by night, and said to him, “Rabbi, we know that you are a teacher come from God, for no one can do these signs that you do, unless God is with him.” Jesus answered him, “Most certainly, I tell you, unless one is born anew, he can’t see the Kingdom of God.” Nicodemus said to him, “How can a man be born when he is old?\n"
     ]
    }
   ],
   "source": [
    "print(summarize(text2,ratio=0.05))"
   ]
  },
  {
   "cell_type": "code",
   "execution_count": 28,
   "metadata": {},
   "outputs": [
    {
     "name": "stdout",
     "output_type": "stream",
     "text": [
      "nicodemus\n",
      "jesus answered\n",
      "things\n",
      "god\n",
      "near\n",
      "loved\n",
      "loves\n",
      "come\n",
      "comes\n",
      "coming\n",
      "born\n"
     ]
    }
   ],
   "source": [
    "print(keywords(text2))"
   ]
  },
  {
   "cell_type": "code",
   "execution_count": 1,
   "metadata": {},
   "outputs": [],
   "source": [
    "text3 = \"6Now the king of Syria was warring against Israel; and he took counsel with his servants, saying, “My camp will be in such and such a place.” 6The man of God sent to the king of Israel, saying, “Beware that you not pass such a place; for the Syrians are coming down there.” 6The king of Israel sent to the place which the man of God told him and warned him of; and he saved himself there, not once nor twice. 6The heart of the king of Syria was very troubled about this. He called his servants, and said to them, “Won’t you show me which of us is for the king of Israel?” 6One of his servants said, “No, my lord, O king; but Elisha, the prophet who is in Israel, tells the king of Israel the words that you speak in your bedroom.” 6He said, “Go and see where he is, that I may send and get him.” It was told him, saying, “Behold, he is in Dothan.” 6Therefore he sent horses, chariots, and a great army there. They came by night, and surrounded the city. 6When the servant of the man of God had risen early, and gone out, behold, an army with horses and chariots was around the city. His servant said to him, “Alas, my master! What shall we do?” 6He answered, “Don’t be afraid; for those who are with us are more than those who are with them.” 6Elisha prayed, and said, “Yahweh, please open his eyes, that he may see.” Yahweh opened the eyes of the young man; and he saw: and behold, the mountain was full of horses and chariots of fire around Elisha. 6When they came down to him, Elisha prayed to Yahweh, and said, “Please strike this people with blindness.” He struck them with blindness according to the word of Elisha. 6Elisha said to them, “This is not the way, neither is this the city. Follow me, and I will bring you to the man whom you seek.” He led them to Samaria. 6It happened, when they had come into Samaria, that Elisha said, “Yahweh, open the eyes of these men, that they may see.” Yahweh opened their eyes, and they saw; and behold, they were in the midst of Samaria. 6The king of Israel said to Elisha, when he saw them, “My father, shall I strike them? Shall I strike them?” 6He answered, “You shall not strike them. Would you strike those whom you have taken captive with your sword and with your bow? Set bread and water before them, that they may eat and drink, and go to their master.” 6He prepared great feast for them. When they had eaten and drunk, he sent them away, and they went to their master. The bands of Syria stopped raiding the land of Israel. 6It happened after this, that Benhadad king of Syria gathered all his army, and went up and besieged Samaria. 6There was a great famine in Samaria. Behold, they besieged it, until a donkey’s head was sold for eighty pieces of silver, and the fourth part of a kab of dove’s dung for five pieces of silver. 6As the king of Israel was passing by on the wall, a woman cried to him, saying, “Help, my lord, O king!” 6He said, “If Yahweh doesn’t help you, from where could I help you? From of the threshing floor, or from the wine press?” 6The king said to her, “What ails you?” She answered, “This woman said to me, ‘Give your son, that we may eat him today, and we will eat my son tomorrow.’ 6So we boiled my son, and ate him: and I said to her on the next day, ‘Give your son, that we may eat him;’ and she has hidden her son.” 6It happened, when the king heard the words of the woman, that he tore his clothes (now he was passing by on the wall); and the people looked, and behold, he had sackcloth underneath on his flesh. 6Then he said, “God do so to me, and more also, if the head of Elisha the son of Shaphat shall stay on him this day.” 6But Elisha was sitting in his house, and the elders were sitting with him. Then the king sent a man from before him; but before the messenger came to him, he said to the elders, “Do you see how this son of a murderer has sent to take away my head? Behold, when the messenger comes, shut the door, and hold the door shut against him. Isn’t the sound of his master’s feet behind him?” 6While he was still talking with them, behold, the messenger came down to him. Then he said, “Behold, this evil is from Yahweh. Why should I wait for Yahweh any longer?” 6\""
   ]
  },
  {
   "cell_type": "code",
   "execution_count": 5,
   "metadata": {},
   "outputs": [
    {
     "name": "stdout",
     "output_type": "stream",
     "text": [
      "What shall we do?” 6He answered, “Don’t be afraid; for those who are with us are more than those who are with them.” 6Elisha prayed, and said, “Yahweh, please open his eyes, that he may see.” Yahweh opened the eyes of the young man; and he saw: and behold, the mountain was full of horses and chariots of fire around Elisha.\n"
     ]
    }
   ],
   "source": [
    "print(summarize(text3,ratio=0.05))"
   ]
  },
  {
   "cell_type": "code",
   "execution_count": 9,
   "metadata": {},
   "outputs": [
    {
     "name": "stdout",
     "output_type": "stream",
     "text": [
      "said\n",
      "great\n",
      "saying\n",
      "shall\n",
      "king\n",
      "behold\n",
      "israel\n",
      "set\n",
      "god sent\n",
      "stopped\n",
      "syria\n",
      "messenger\n",
      "shut\n"
     ]
    }
   ],
   "source": [
    "print(keywords(text3))"
   ]
  },
  {
   "cell_type": "code",
   "execution_count": null,
   "metadata": {},
   "outputs": [],
   "source": []
  }
 ],
 "metadata": {
  "kernelspec": {
   "display_name": "Python 3",
   "language": "python",
   "name": "python3"
  },
  "language_info": {
   "codemirror_mode": {
    "name": "ipython",
    "version": 3
   },
   "file_extension": ".py",
   "mimetype": "text/x-python",
   "name": "python",
   "nbconvert_exporter": "python",
   "pygments_lexer": "ipython3",
   "version": "3.6.8"
  }
 },
 "nbformat": 4,
 "nbformat_minor": 2
}
