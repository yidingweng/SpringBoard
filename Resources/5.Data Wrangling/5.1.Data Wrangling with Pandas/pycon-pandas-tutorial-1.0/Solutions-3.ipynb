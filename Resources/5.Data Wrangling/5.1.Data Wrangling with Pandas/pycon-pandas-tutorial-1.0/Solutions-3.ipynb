{
 "cells": [
  {
   "cell_type": "code",
   "execution_count": 1,
   "metadata": {
    "collapsed": false
   },
   "outputs": [],
   "source": [
    "%matplotlib inline\n",
    "import pandas as pd"
   ]
  },
  {
   "cell_type": "code",
   "execution_count": 2,
   "metadata": {
    "collapsed": false
   },
   "outputs": [
    {
     "data": {
      "text/html": [
       "<style>body {\n",
       "    margin: 0;\n",
       "    font-family: Helvetica;\n",
       "}\n",
       "table.dataframe {\n",
       "    border-collapse: collapse;\n",
       "    border: none;\n",
       "}\n",
       "table.dataframe tr {\n",
       "    border: none;\n",
       "}\n",
       "table.dataframe td, table.dataframe th {\n",
       "    margin: 0;\n",
       "    border: 1px solid white;\n",
       "    padding-left: 0.25em;\n",
       "    padding-right: 0.25em;\n",
       "}\n",
       "table.dataframe th:not(:empty) {\n",
       "    background-color: #fec;\n",
       "    text-align: left;\n",
       "    font-weight: normal;\n",
       "}\n",
       "table.dataframe tr:nth-child(2) th:empty {\n",
       "    border-left: none;\n",
       "    border-right: 1px dashed #888;\n",
       "}\n",
       "table.dataframe td {\n",
       "    border: 2px solid #ccf;\n",
       "    background-color: #f4f4ff;\n",
       "}\n",
       "h3 {\n",
       "    color: white;\n",
       "    background-color: black;\n",
       "    padding: 0.5em;\n",
       "}\n",
       "</style>"
      ],
      "text/plain": [
       "<IPython.core.display.HTML object>"
      ]
     },
     "execution_count": 2,
     "metadata": {},
     "output_type": "execute_result"
    }
   ],
   "source": [
    "from IPython.core.display import HTML\n",
    "css = open('style-table.css').read() + open('style-notebook.css').read()\n",
    "HTML('<style>{}</style>'.format(css))"
   ]
  },
  {
   "cell_type": "code",
   "execution_count": 3,
   "metadata": {
    "collapsed": false
   },
   "outputs": [
    {
     "data": {
      "text/html": [
       "<div style=\"max-height:1000px;max-width:1500px;overflow:auto;\">\n",
       "<table border=\"1\" class=\"dataframe\">\n",
       "  <thead>\n",
       "    <tr style=\"text-align: right;\">\n",
       "      <th></th>\n",
       "      <th>title</th>\n",
       "      <th>year</th>\n",
       "    </tr>\n",
       "  </thead>\n",
       "  <tbody>\n",
       "    <tr>\n",
       "      <th>0</th>\n",
       "      <td>A Lélek órása</td>\n",
       "      <td>1923</td>\n",
       "    </tr>\n",
       "    <tr>\n",
       "      <th>1</th>\n",
       "      <td>Aizaugusa gravi viegli krist</td>\n",
       "      <td>1986</td>\n",
       "    </tr>\n",
       "    <tr>\n",
       "      <th>2</th>\n",
       "      <td>Agliyorum</td>\n",
       "      <td>1988</td>\n",
       "    </tr>\n",
       "    <tr>\n",
       "      <th>3</th>\n",
       "      <td>0_1_0</td>\n",
       "      <td>2008</td>\n",
       "    </tr>\n",
       "    <tr>\n",
       "      <th>4</th>\n",
       "      <td>97 fung lau mung</td>\n",
       "      <td>1994</td>\n",
       "    </tr>\n",
       "  </tbody>\n",
       "</table>\n",
       "</div>"
      ],
      "text/plain": [
       "                          title  year\n",
       "0                 A Lélek órása  1923\n",
       "1  Aizaugusa gravi viegli krist  1986\n",
       "2                     Agliyorum  1988\n",
       "3                         0_1_0  2008\n",
       "4              97 fung lau mung  1994"
      ]
     },
     "execution_count": 3,
     "metadata": {},
     "output_type": "execute_result"
    }
   ],
   "source": [
    "titles = pd.DataFrame.from_csv('data/titles.csv', index_col=None)\n",
    "titles.head()"
   ]
  },
  {
   "cell_type": "code",
   "execution_count": 4,
   "metadata": {
    "collapsed": false
   },
   "outputs": [
    {
     "data": {
      "text/html": [
       "<div style=\"max-height:1000px;max-width:1500px;overflow:auto;\">\n",
       "<table border=\"1\" class=\"dataframe\">\n",
       "  <thead>\n",
       "    <tr style=\"text-align: right;\">\n",
       "      <th></th>\n",
       "      <th>title</th>\n",
       "      <th>year</th>\n",
       "      <th>name</th>\n",
       "      <th>type</th>\n",
       "      <th>character</th>\n",
       "      <th>n</th>\n",
       "    </tr>\n",
       "  </thead>\n",
       "  <tbody>\n",
       "    <tr>\n",
       "      <th>0</th>\n",
       "      <td>The Core</td>\n",
       "      <td>2003</td>\n",
       "      <td>Alejandro Abellan</td>\n",
       "      <td>actor</td>\n",
       "      <td>U.S.S. Soldier</td>\n",
       "      <td>NaN</td>\n",
       "    </tr>\n",
       "    <tr>\n",
       "      <th>1</th>\n",
       "      <td>Il momento di uccidere</td>\n",
       "      <td>1968</td>\n",
       "      <td>Remo De Angelis</td>\n",
       "      <td>actor</td>\n",
       "      <td>Dago</td>\n",
       "      <td>9</td>\n",
       "    </tr>\n",
       "    <tr>\n",
       "      <th>2</th>\n",
       "      <td>Across the Divide</td>\n",
       "      <td>1921</td>\n",
       "      <td>Thomas Delmar</td>\n",
       "      <td>actor</td>\n",
       "      <td>Dago</td>\n",
       "      <td>4</td>\n",
       "    </tr>\n",
       "    <tr>\n",
       "      <th>3</th>\n",
       "      <td>Revan</td>\n",
       "      <td>2012</td>\n",
       "      <td>Diego James</td>\n",
       "      <td>actor</td>\n",
       "      <td>Dago</td>\n",
       "      <td>NaN</td>\n",
       "    </tr>\n",
       "    <tr>\n",
       "      <th>4</th>\n",
       "      <td>Un homme marche dans la ville</td>\n",
       "      <td>1950</td>\n",
       "      <td>Fabien Loris</td>\n",
       "      <td>actor</td>\n",
       "      <td>Dago</td>\n",
       "      <td>12</td>\n",
       "    </tr>\n",
       "  </tbody>\n",
       "</table>\n",
       "</div>"
      ],
      "text/plain": [
       "                           title  year               name   type  \\\n",
       "0                       The Core  2003  Alejandro Abellan  actor   \n",
       "1         Il momento di uccidere  1968    Remo De Angelis  actor   \n",
       "2              Across the Divide  1921      Thomas Delmar  actor   \n",
       "3                          Revan  2012        Diego James  actor   \n",
       "4  Un homme marche dans la ville  1950       Fabien Loris  actor   \n",
       "\n",
       "        character   n  \n",
       "0  U.S.S. Soldier NaN  \n",
       "1            Dago   9  \n",
       "2            Dago   4  \n",
       "3            Dago NaN  \n",
       "4            Dago  12  "
      ]
     },
     "execution_count": 4,
     "metadata": {},
     "output_type": "execute_result"
    }
   ],
   "source": [
    "cast = pd.DataFrame.from_csv('data/cast.csv', index_col=None)\n",
    "cast.head()"
   ]
  },
  {
   "cell_type": "code",
   "execution_count": null,
   "metadata": {
    "collapsed": false
   },
   "outputs": [],
   "source": []
  },
  {
   "cell_type": "code",
   "execution_count": 5,
   "metadata": {
    "collapsed": false
   },
   "outputs": [
    {
     "data": {
      "text/plain": [
       "<matplotlib.axes._subplots.AxesSubplot at 0x7f7774d5a588>"
      ]
     },
     "execution_count": 5,
     "metadata": {},
     "output_type": "execute_result"
    },
    {
     "data": {
      "image/png": "[encoded data removed]",
      "text/plain": [
       "<matplotlib.figure.Figure at 0x7f773f656550>"
      ]
     },
     "metadata": {},
     "output_type": "display_data"
    }
   ],
   "source": [
    "# Using groupby(), plot the number of films\n",
    "# that have been released each decade in the history of cinema.\n",
    "\n",
    "t = titles\n",
    "t.groupby(t.year // 10 * 10).size().plot(kind='bar')"
   ]
  },
  {
   "cell_type": "code",
   "execution_count": 6,
   "metadata": {
    "collapsed": false
   },
   "outputs": [
    {
     "data": {
      "text/plain": [
       "<matplotlib.axes._subplots.AxesSubplot at 0x7f775397ae80>"
      ]
     },
     "execution_count": 6,
     "metadata": {},
     "output_type": "execute_result"
    },
    {
     "data": {
      "image/png": "[encoded data removed]",
      "text/plain": [
       "<matplotlib.figure.Figure at 0x7f7753904c50>"
      ]
     },
     "metadata": {},
     "output_type": "display_data"
    }
   ],
   "source": [
    "# Use groupby() to plot the number of \"Hamlet\" films made each decade.\n",
    "\n",
    "t = titles\n",
    "t = t[t.title == 'Hamlet']\n",
    "t.groupby(t.year // 10 * 10).size().plot(kind='bar')"
   ]
  },
  {
   "cell_type": "code",
   "execution_count": 7,
   "metadata": {
    "collapsed": false
   },
   "outputs": [
    {
     "data": {
      "text/plain": [
       "year  type   \n",
       "1950  actor      744\n",
       "      actress    351\n",
       "1951  actor      766\n",
       "      actress    365\n",
       "1952  actor      751\n",
       "      actress    359\n",
       "1953  actor      785\n",
       "      actress    377\n",
       "1954  actor      767\n",
       "      actress    398\n",
       "1955  actor      764\n",
       "      actress    345\n",
       "1956  actor      799\n",
       "      actress    401\n",
       "1957  actor      920\n",
       "      actress    394\n",
       "1958  actor      872\n",
       "      actress    392\n",
       "1959  actor      881\n",
       "      actress    383\n",
       "dtype: int64"
      ]
     },
     "execution_count": 7,
     "metadata": {},
     "output_type": "execute_result"
    }
   ],
   "source": [
    "# How many leading (n=1) roles were available to actors,\n",
    "# and how many to actresses, in each year of the 1950s?\n",
    "\n",
    "c = cast\n",
    "c = c[c.year // 10 == 195]\n",
    "c = c[c.n == 1]\n",
    "c.groupby(['year', 'type']).size()"
   ]
  },
  {
   "cell_type": "code",
   "execution_count": 8,
   "metadata": {
    "collapsed": false
   },
   "outputs": [
    {
     "data": {
      "text/plain": [
       "n  type   \n",
       "1  actor      8049\n",
       "   actress    3765\n",
       "2  actor      5632\n",
       "   actress    5543\n",
       "3  actor      6746\n",
       "   actress    3920\n",
       "4  actor      6695\n",
       "   actress    3568\n",
       "5  actor      6661\n",
       "   actress    3199\n",
       "dtype: int64"
      ]
     },
     "execution_count": 8,
     "metadata": {},
     "output_type": "execute_result"
    }
   ],
   "source": [
    "# In the 1950s decade taken as a whole,\n",
    "# how many total roles were available to actors,\n",
    "# and how many to actresses, for each \"n\" number 1 through 5?\n",
    "\n",
    "c = cast\n",
    "c = c[c.year // 10 * 10 == 1950]\n",
    "c = c[c.n < 6]\n",
    "c.groupby(['n', 'type']).size()"
   ]
  },
  {
   "cell_type": "code",
   "execution_count": 46,
   "metadata": {
    "collapsed": false
   },
   "outputs": [
    {
     "data": {
      "text/html": [
       "<div style=\"max-height:1000px;max-width:1500px;overflow:auto;\">\n",
       "<table border=\"1\" class=\"dataframe\">\n",
       "  <thead>\n",
       "    <tr style=\"text-align: right;\">\n",
       "      <th></th>\n",
       "      <th>n</th>\n",
       "    </tr>\n",
       "    <tr>\n",
       "      <th>year</th>\n",
       "      <th></th>\n",
       "    </tr>\n",
       "  </thead>\n",
       "  <tbody>\n",
       "    <tr>\n",
       "      <th>1963</th>\n",
       "      <td>15</td>\n",
       "    </tr>\n",
       "    <tr>\n",
       "      <th>2006</th>\n",
       "      <td>50</td>\n",
       "    </tr>\n",
       "  </tbody>\n",
       "</table>\n",
       "</div>"
      ],
      "text/plain": [
       "       n\n",
       "year    \n",
       "1963  15\n",
       "2006  50"
      ]
     },
     "execution_count": 46,
     "metadata": {},
     "output_type": "execute_result"
    }
   ],
   "source": [
    "# Use groupby() to determine how many roles are listed\n",
    "# for each of the Pink Panther movies.\n",
    "\n",
    "c = cast\n",
    "c = c[c.title == 'The Pink Panther']\n",
    "c = c.sort('n').groupby(['year'])[['n']].max()\n",
    "c"
   ]
  },
  {
   "cell_type": "code",
   "execution_count": 32,
   "metadata": {
    "collapsed": false
   },
   "outputs": [
    {
     "data": {
      "text/plain": [
       "year  title                                   \n",
       "1979  The Muppet Movie                            7\n",
       "1981  An American Werewolf in London              2\n",
       "      The Great Muppet Caper                      6\n",
       "1984  The Muppets Take Manhattan                  7\n",
       "1985  Sesame Street Presents: Follow that Bird    3\n",
       "1992  The Muppet Christmas Carol                  7\n",
       "1996  Muppet Treasure Island                      4\n",
       "1999  Muppets from Space                          4\n",
       "      The Adventures of Elmo in Grouchland        3\n",
       "dtype: int64"
      ]
     },
     "execution_count": 32,
     "metadata": {},
     "output_type": "execute_result"
    }
   ],
   "source": [
    "# List, in order by year, each of the films\n",
    "# in which Frank Oz has played more than 1 role.\n",
    "\n",
    "c = cast\n",
    "c = c[c.name == 'Frank Oz']\n",
    "g = c.groupby(['year', 'title']).size()\n",
    "g[g > 1]"
   ]
  },
  {
   "cell_type": "code",
   "execution_count": 36,
   "metadata": {
    "collapsed": false
   },
   "outputs": [
    {
     "data": {
      "text/plain": [
       "character\n",
       "Grover            2\n",
       "Bert              3\n",
       "Cookie Monster    3\n",
       "Fozzie Bear       4\n",
       "Sam the Eagle     5\n",
       "Yoda              5\n",
       "Animal            6\n",
       "Miss Piggy        6\n",
       "dtype: int64"
      ]
     },
     "execution_count": 36,
     "metadata": {},
     "output_type": "execute_result"
    }
   ],
   "source": [
    "# List each of the characters that Frank Oz\n",
    "# has portrayed at least twice.\n",
    "\n",
    "c = cast\n",
    "c = c[c.name == 'Frank Oz']\n",
    "g = c.groupby(['character']).size()\n",
    "g[g > 1].order()"
   ]
  },
  {
   "cell_type": "code",
   "execution_count": null,
   "metadata": {
    "collapsed": true
   },
   "outputs": [],
   "source": []
  },
  {
   "cell_type": "code",
   "execution_count": null,
   "metadata": {
    "collapsed": true
   },
   "outputs": [],
   "source": []
  },
  {
   "cell_type": "code",
   "execution_count": null,
   "metadata": {
    "collapsed": true
   },
   "outputs": [],
   "source": []
  },
  {
   "cell_type": "code",
   "execution_count": null,
   "metadata": {
    "collapsed": true
   },
   "outputs": [],
   "source": []
  },
  {
   "cell_type": "code",
   "execution_count": null,
   "metadata": {
    "collapsed": true
   },
   "outputs": [],
   "source": []
  },
  {
   "cell_type": "code",
   "execution_count": null,
   "metadata": {
    "collapsed": true
   },
   "outputs": [],
   "source": []
  },
  {
   "cell_type": "code",
   "execution_count": null,
   "metadata": {
    "collapsed": true
   },
   "outputs": [],
   "source": []
  },
  {
   "cell_type": "code",
   "execution_count": null,
   "metadata": {
    "collapsed": true
   },
   "outputs": [],
   "source": []
  },
  {
   "cell_type": "code",
   "execution_count": null,
   "metadata": {
    "collapsed": true
   },
   "outputs": [],
   "source": []
  },
  {
   "cell_type": "code",
   "execution_count": null,
   "metadata": {
    "collapsed": true
   },
   "outputs": [],
   "source": []
  },
  {
   "cell_type": "code",
   "execution_count": null,
   "metadata": {
    "collapsed": true
   },
   "outputs": [],
   "source": []
  },
  {
   "cell_type": "code",
   "execution_count": null,
   "metadata": {
    "collapsed": true
   },
   "outputs": [],
   "source": []
  },
  {
   "cell_type": "code",
   "execution_count": null,
   "metadata": {
    "collapsed": true
   },
   "outputs": [],
   "source": []
  },
  {
   "cell_type": "code",
   "execution_count": null,
   "metadata": {
    "collapsed": true
   },
   "outputs": [],
   "source": []
  }
 ],
 "metadata": {
  "kernelspec": {
   "display_name": "Python 3",
   "language": "python",
   "name": "python3"
  },
  "language_info": {
   "codemirror_mode": {
    "name": "ipython",
    "version": 3
   },
   "file_extension": ".py",
   "mimetype": "text/x-python",
   "name": "python",
   "nbconvert_exporter": "python",
   "pygments_lexer": "ipython3",
   "version": "3.4.3"
  }
 },
 "nbformat": 4,
 "nbformat_minor": 0
}
